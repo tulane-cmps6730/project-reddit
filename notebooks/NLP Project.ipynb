{
 "cells": [
  {
   "cell_type": "markdown",
   "id": "cea209e5",
   "metadata": {},
   "source": [
    "# A Text Classification of Milwaukee Bucks's Fan Reactions"
   ]
  },
  {
   "cell_type": "markdown",
   "id": "f02f2231",
   "metadata": {},
   "source": [
    "## Collecting and Preparing the Data"
   ]
  },
  {
   "cell_type": "code",
   "execution_count": 2,
   "id": "225cbfe5",
   "metadata": {},
   "outputs": [],
   "source": [
    "# Importing the Necessary Modules\n",
    "from tqdm import tqdm\n",
    "import pandas as pd\n",
    "import praw\n",
    "from sklearn.model_selection import train_test_split\n",
    "from sklearn.feature_extraction.text import CountVectorizer\n",
    "from sklearn.pipeline import make_pipeline\n",
    "from sklearn.metrics import accuracy_score\n",
    "import re\n",
    "import matplotlib.pyplot as plt\n",
    "import nltk\n",
    "from nltk.corpus import stopwords\n",
    "from nltk.tokenize import word_tokenize\n",
    "from nltk.stem import PorterStemmer\n",
    "from nltk import punkt"
   ]
  },
  {
   "cell_type": "code",
   "execution_count": null,
   "id": "caf7c7d0",
   "metadata": {},
   "outputs": [],
   "source": [
    "# Accessing API\n",
    "user_agent = \"Scraper 1.0 by u/colloj\"\n",
    "\n",
    "reddit = praw.Reddit(client_id='-RlNNaCimqKKkJ_aX1FcKg',\n",
    "                     client_secret='4vSZ7Dm4rtDYXevU8PtIiIK6dtD_Ng',\n",
    "                     user_agent= user_agent)"
   ]
  },
  {
   "cell_type": "code",
   "execution_count": null,
   "id": "73f585b4",
   "metadata": {},
   "outputs": [],
   "source": [
    "# Getting the Data\n",
    "subreddit_name = 'MkeBucks'\n",
    "\n",
    "# Define the string you want to search for in post titles\n",
    "search_string = '[POSTGAME THREAD] Our Milwaukee Bucks'\n",
    "start_date = '2023-10-23'\n",
    "\n",
    "post_names = []\n",
    "comments = []\n",
    "\n",
    "for submission in reddit.subreddit(subreddit_name).search(search_string, time_filter='year', syntax='lucene'):\n",
    "    if '[POSTGAME THREAD]' in submission.title:\n",
    "        print(submission.title)\n"
   ]
  },
  {
   "cell_type": "code",
   "execution_count": null,
   "id": "1a22dbd1",
   "metadata": {},
   "outputs": [],
   "source": [
    "# Getting the Data\n",
    "subreddit_name = 'MkeBucks'\n",
    "\n",
    "# Define the string you want to search for in post titles\n",
    "search_string = '[POSTGAME THREAD] Our Milwaukee Bucks'\n",
    "start_date = '2023-10-23'\n",
    "\n",
    "post_names = []\n",
    "comments = []\n",
    "\n",
    "total_submissions = len(list(reddit.subreddit(subreddit_name).search(search_string, time_filter='year', syntax='lucene')))\n",
    "\n",
    "for submission in tqdm(reddit.subreddit(subreddit_name).search(search_string, time_filter='year', syntax='lucene'), total = total_submissions):\n",
    "    if '[POSTGAME THREAD]' in submission.title:\n",
    "        submission.comments.replace_more(limit=None)\n",
    "        for comment in submission.comments.list():\n",
    "            comments.append(comment.body)\n",
    "            post_names.append(submission.title)\n",
    "\n",
    "post_names, comments"
   ]
  },
  {
   "cell_type": "code",
   "execution_count": null,
   "id": "6f756d2a",
   "metadata": {},
   "outputs": [],
   "source": [
    "# Create a DataFrame from the lists\n",
    "df = pd.DataFrame({'Post_Name': post_names, 'Comment': comments})\n",
    "\n",
    "# Display the DataFrame\n",
    "df.head()"
   ]
  },
  {
   "cell_type": "code",
   "execution_count": 2,
   "id": "e9b8311d",
   "metadata": {},
   "outputs": [
    {
     "ename": "NameError",
     "evalue": "name 'df' is not defined",
     "output_type": "error",
     "traceback": [
      "\u001b[0;31m---------------------------------------------------------------------------\u001b[0m",
      "\u001b[0;31mNameError\u001b[0m                                 Traceback (most recent call last)",
      "Cell \u001b[0;32mIn[2], line 1\u001b[0m\n\u001b[0;32m----> 1\u001b[0m \u001b[43mdf\u001b[49m\u001b[38;5;241m.\u001b[39mto_csv(\u001b[38;5;124m\"\u001b[39m\u001b[38;5;124mbucks.csv\u001b[39m\u001b[38;5;124m\"\u001b[39m, index \u001b[38;5;241m=\u001b[39m \u001b[38;5;28;01mFalse\u001b[39;00m)\n",
      "\u001b[0;31mNameError\u001b[0m: name 'df' is not defined"
     ]
    }
   ],
   "source": [
    "df.to_csv(\"bucks.csv\", index = False)"
   ]
  },
  {
   "cell_type": "code",
   "execution_count": 2,
   "id": "cd3135e4",
   "metadata": {},
   "outputs": [
    {
     "data": {
      "text/html": [
       "<div>\n",
       "<style scoped>\n",
       "    .dataframe tbody tr th:only-of-type {\n",
       "        vertical-align: middle;\n",
       "    }\n",
       "\n",
       "    .dataframe tbody tr th {\n",
       "        vertical-align: top;\n",
       "    }\n",
       "\n",
       "    .dataframe thead th {\n",
       "        text-align: right;\n",
       "    }\n",
       "</style>\n",
       "<table border=\"1\" class=\"dataframe\">\n",
       "  <thead>\n",
       "    <tr style=\"text-align: right;\">\n",
       "      <th></th>\n",
       "      <th>Post_Name</th>\n",
       "      <th>Comment</th>\n",
       "    </tr>\n",
       "  </thead>\n",
       "  <tbody>\n",
       "    <tr>\n",
       "      <th>0</th>\n",
       "      <td>[POSTGAME THREAD] Our Milwaukee Bucks (24-10) ...</td>\n",
       "      <td>\\n||\\t\\t\\n|:-:|\\t\\t\\n|[](/MIL) **130 -  140** ...</td>\n",
       "    </tr>\n",
       "    <tr>\n",
       "      <th>1</th>\n",
       "      <td>[POSTGAME THREAD] Our Milwaukee Bucks (24-10) ...</td>\n",
       "      <td>Took too long to pull Brook and Pat out and gi...</td>\n",
       "    </tr>\n",
       "    <tr>\n",
       "      <th>2</th>\n",
       "      <td>[POSTGAME THREAD] Our Milwaukee Bucks (24-10) ...</td>\n",
       "      <td>The Bucks, for whatever reason, look like they...</td>\n",
       "    </tr>\n",
       "    <tr>\n",
       "      <th>3</th>\n",
       "      <td>[POSTGAME THREAD] Our Milwaukee Bucks (24-10) ...</td>\n",
       "      <td>lmfao if brunson tears this team apart tyrese ...</td>\n",
       "    </tr>\n",
       "    <tr>\n",
       "      <th>4</th>\n",
       "      <td>[POSTGAME THREAD] Our Milwaukee Bucks (24-10) ...</td>\n",
       "      <td>Hear me out... \\n\\nFirst blessoe then jrue, sh...</td>\n",
       "    </tr>\n",
       "  </tbody>\n",
       "</table>\n",
       "</div>"
      ],
      "text/plain": [
       "                                           Post_Name  \\\n",
       "0  [POSTGAME THREAD] Our Milwaukee Bucks (24-10) ...   \n",
       "1  [POSTGAME THREAD] Our Milwaukee Bucks (24-10) ...   \n",
       "2  [POSTGAME THREAD] Our Milwaukee Bucks (24-10) ...   \n",
       "3  [POSTGAME THREAD] Our Milwaukee Bucks (24-10) ...   \n",
       "4  [POSTGAME THREAD] Our Milwaukee Bucks (24-10) ...   \n",
       "\n",
       "                                             Comment  \n",
       "0  \\n||\\t\\t\\n|:-:|\\t\\t\\n|[](/MIL) **130 -  140** ...  \n",
       "1  Took too long to pull Brook and Pat out and gi...  \n",
       "2  The Bucks, for whatever reason, look like they...  \n",
       "3  lmfao if brunson tears this team apart tyrese ...  \n",
       "4  Hear me out... \\n\\nFirst blessoe then jrue, sh...  "
      ]
     },
     "execution_count": 2,
     "metadata": {},
     "output_type": "execute_result"
    }
   ],
   "source": [
    "df = pd.read_csv(\"bucks.csv\")\n",
    "df.head()"
   ]
  },
  {
   "cell_type": "code",
   "execution_count": 3,
   "id": "1f2b3e8c",
   "metadata": {},
   "outputs": [
    {
     "data": {
      "text/html": [
       "<div>\n",
       "<style scoped>\n",
       "    .dataframe tbody tr th:only-of-type {\n",
       "        vertical-align: middle;\n",
       "    }\n",
       "\n",
       "    .dataframe tbody tr th {\n",
       "        vertical-align: top;\n",
       "    }\n",
       "\n",
       "    .dataframe thead th {\n",
       "        text-align: right;\n",
       "    }\n",
       "</style>\n",
       "<table border=\"1\" class=\"dataframe\">\n",
       "  <thead>\n",
       "    <tr style=\"text-align: right;\">\n",
       "      <th></th>\n",
       "      <th>Post_Name</th>\n",
       "      <th>Comment</th>\n",
       "      <th>Date</th>\n",
       "    </tr>\n",
       "  </thead>\n",
       "  <tbody>\n",
       "    <tr>\n",
       "      <th>0</th>\n",
       "      <td>[POSTGAME THREAD] Our Milwaukee Bucks (24-10) ...</td>\n",
       "      <td>\\n||\\t\\t\\n|:-:|\\t\\t\\n|[](/MIL) **130 -  140** ...</td>\n",
       "      <td>1/3/2024</td>\n",
       "    </tr>\n",
       "    <tr>\n",
       "      <th>1</th>\n",
       "      <td>[POSTGAME THREAD] Our Milwaukee Bucks (24-10) ...</td>\n",
       "      <td>Took too long to pull Brook and Pat out and gi...</td>\n",
       "      <td>1/3/2024</td>\n",
       "    </tr>\n",
       "    <tr>\n",
       "      <th>2</th>\n",
       "      <td>[POSTGAME THREAD] Our Milwaukee Bucks (24-10) ...</td>\n",
       "      <td>The Bucks, for whatever reason, look like they...</td>\n",
       "      <td>1/3/2024</td>\n",
       "    </tr>\n",
       "    <tr>\n",
       "      <th>3</th>\n",
       "      <td>[POSTGAME THREAD] Our Milwaukee Bucks (24-10) ...</td>\n",
       "      <td>lmfao if brunson tears this team apart tyrese ...</td>\n",
       "      <td>1/3/2024</td>\n",
       "    </tr>\n",
       "    <tr>\n",
       "      <th>4</th>\n",
       "      <td>[POSTGAME THREAD] Our Milwaukee Bucks (24-10) ...</td>\n",
       "      <td>Hear me out... \\n\\nFirst blessoe then jrue, sh...</td>\n",
       "      <td>1/3/2024</td>\n",
       "    </tr>\n",
       "  </tbody>\n",
       "</table>\n",
       "</div>"
      ],
      "text/plain": [
       "                                           Post_Name  \\\n",
       "0  [POSTGAME THREAD] Our Milwaukee Bucks (24-10) ...   \n",
       "1  [POSTGAME THREAD] Our Milwaukee Bucks (24-10) ...   \n",
       "2  [POSTGAME THREAD] Our Milwaukee Bucks (24-10) ...   \n",
       "3  [POSTGAME THREAD] Our Milwaukee Bucks (24-10) ...   \n",
       "4  [POSTGAME THREAD] Our Milwaukee Bucks (24-10) ...   \n",
       "\n",
       "                                             Comment      Date  \n",
       "0  \\n||\\t\\t\\n|:-:|\\t\\t\\n|[](/MIL) **130 -  140** ...  1/3/2024  \n",
       "1  Took too long to pull Brook and Pat out and gi...  1/3/2024  \n",
       "2  The Bucks, for whatever reason, look like they...  1/3/2024  \n",
       "3  lmfao if brunson tears this team apart tyrese ...  1/3/2024  \n",
       "4  Hear me out... \\n\\nFirst blessoe then jrue, sh...  1/3/2024  "
      ]
     },
     "execution_count": 3,
     "metadata": {},
     "output_type": "execute_result"
    }
   ],
   "source": [
    "# Getting the Dates\n",
    "def get_after_last_space(string):\n",
    "    return string.split(' ')[-1]\n",
    "df[\"Date\"] = df[\"Post_Name\"].apply(get_after_last_space)\n",
    "df.head()"
   ]
  },
  {
   "cell_type": "code",
   "execution_count": 4,
   "id": "230d247a",
   "metadata": {},
   "outputs": [
    {
     "data": {
      "text/plain": [
       "array(['1/3/2024', '3/4/2024', '2/15/2024', '10/26/2023', '1/31/2024',\n",
       "       '3/8/2024', '3/10/2024', '11/1/2023', '11/8/2023', '1/6/2024',\n",
       "       '1/27/2024', '2/03/2024', '11/6/2023', '1/8/2024', '1/11/2024',\n",
       "       '2/25/2024', '2/23/2024', '11/11/2023', '3/14/2024', '1/14/2024',\n",
       "       '11/22/2023', '1/4/2024', '11/18/2023', '11/24/2023', '2/04/2024',\n",
       "       '3/1/2024', '1/1/2024', '3/12/2024', '04/26/2023', '1/24/2024',\n",
       "       '2/12/2024', '12/11/2023', '10/20/2023', '2/13/2024', '2/8/2024',\n",
       "       '11/9/2023', '12/23/2023', '3/6/2024', '11/28/2023', '11/30/2023',\n",
       "       '1/20/2024', '2/27/2024', '12/13/2023', '11/15/2023', '1/13/2024',\n",
       "       '11/17/2023', '12/2/2023', '12/17/2023', '12/27/2023', '2/06/2024',\n",
       "       '10/29/2023', '12/29/2023', '1/17/2024', '11/26/2023',\n",
       "       '12/21/2023', '11/20/2023', '1/22/2024', '1/26/2024', '04/24/2023',\n",
       "       '12/19/2023', '12/16/2023', '2/9/2024', '2/29/2024', '11/13/2023',\n",
       "       '04/22/2023', '04/19/2023', '11/3/2023', '04/16/2023', 'round'],\n",
       "      dtype=object)"
      ]
     },
     "execution_count": 4,
     "metadata": {},
     "output_type": "execute_result"
    }
   ],
   "source": [
    "df[\"Date\"].unique()"
   ]
  },
  {
   "cell_type": "code",
   "execution_count": 5,
   "id": "36c1f8df",
   "metadata": {},
   "outputs": [
    {
     "data": {
      "text/plain": [
       "array(['1/3/2024', '3/4/2024', '2/15/2024', '10/26/2023', '1/31/2024',\n",
       "       '3/8/2024', '3/10/2024', '11/1/2023', '11/8/2023', '1/6/2024',\n",
       "       '1/27/2024', '2/03/2024', '11/6/2023', '1/8/2024', '1/11/2024',\n",
       "       '2/25/2024', '2/23/2024', '11/11/2023', '3/14/2024', '1/14/2024',\n",
       "       '11/22/2023', '1/4/2024', '11/18/2023', '11/24/2023', '2/04/2024',\n",
       "       '3/1/2024', '1/1/2024', '3/12/2024', '04/26/2023', '1/24/2024',\n",
       "       '2/12/2024', '12/11/2023', '10/20/2023', '2/13/2024', '2/8/2024',\n",
       "       '11/9/2023', '12/23/2023', '3/6/2024', '11/28/2023', '11/30/2023',\n",
       "       '1/20/2024', '2/27/2024', '12/13/2023', '11/15/2023', '1/13/2024',\n",
       "       '11/17/2023', '12/2/2023', '12/17/2023', '12/27/2023', '2/06/2024',\n",
       "       '10/29/2023', '12/29/2023', '1/17/2024', '11/26/2023',\n",
       "       '12/21/2023', '11/20/2023', '1/22/2024', '1/26/2024', '04/24/2023',\n",
       "       '12/19/2023', '12/16/2023', '2/9/2024', '2/29/2024', '11/13/2023',\n",
       "       '04/22/2023', '04/19/2023', '11/3/2023', '04/16/2023'],\n",
       "      dtype=object)"
      ]
     },
     "execution_count": 5,
     "metadata": {},
     "output_type": "execute_result"
    }
   ],
   "source": [
    "df = df[df[\"Date\"] != \"round\"]\n",
    "df[\"Date\"].unique()"
   ]
  },
  {
   "cell_type": "code",
   "execution_count": 6,
   "id": "150e0ec2",
   "metadata": {},
   "outputs": [
    {
     "data": {
      "text/html": [
       "<div>\n",
       "<style scoped>\n",
       "    .dataframe tbody tr th:only-of-type {\n",
       "        vertical-align: middle;\n",
       "    }\n",
       "\n",
       "    .dataframe tbody tr th {\n",
       "        vertical-align: top;\n",
       "    }\n",
       "\n",
       "    .dataframe thead th {\n",
       "        text-align: right;\n",
       "    }\n",
       "</style>\n",
       "<table border=\"1\" class=\"dataframe\">\n",
       "  <thead>\n",
       "    <tr style=\"text-align: right;\">\n",
       "      <th></th>\n",
       "      <th>Post_Name</th>\n",
       "      <th>Comment</th>\n",
       "      <th>Date</th>\n",
       "    </tr>\n",
       "  </thead>\n",
       "  <tbody>\n",
       "    <tr>\n",
       "      <th>0</th>\n",
       "      <td>[POSTGAME THREAD] Our Milwaukee Bucks (24-10) ...</td>\n",
       "      <td>\\n||\\t\\t\\n|:-:|\\t\\t\\n|[](/MIL) **130 -  140** ...</td>\n",
       "      <td>2024-01-03</td>\n",
       "    </tr>\n",
       "    <tr>\n",
       "      <th>1</th>\n",
       "      <td>[POSTGAME THREAD] Our Milwaukee Bucks (24-10) ...</td>\n",
       "      <td>Took too long to pull Brook and Pat out and gi...</td>\n",
       "      <td>2024-01-03</td>\n",
       "    </tr>\n",
       "    <tr>\n",
       "      <th>2</th>\n",
       "      <td>[POSTGAME THREAD] Our Milwaukee Bucks (24-10) ...</td>\n",
       "      <td>The Bucks, for whatever reason, look like they...</td>\n",
       "      <td>2024-01-03</td>\n",
       "    </tr>\n",
       "    <tr>\n",
       "      <th>3</th>\n",
       "      <td>[POSTGAME THREAD] Our Milwaukee Bucks (24-10) ...</td>\n",
       "      <td>lmfao if brunson tears this team apart tyrese ...</td>\n",
       "      <td>2024-01-03</td>\n",
       "    </tr>\n",
       "    <tr>\n",
       "      <th>4</th>\n",
       "      <td>[POSTGAME THREAD] Our Milwaukee Bucks (24-10) ...</td>\n",
       "      <td>Hear me out... \\n\\nFirst blessoe then jrue, sh...</td>\n",
       "      <td>2024-01-03</td>\n",
       "    </tr>\n",
       "  </tbody>\n",
       "</table>\n",
       "</div>"
      ],
      "text/plain": [
       "                                           Post_Name  \\\n",
       "0  [POSTGAME THREAD] Our Milwaukee Bucks (24-10) ...   \n",
       "1  [POSTGAME THREAD] Our Milwaukee Bucks (24-10) ...   \n",
       "2  [POSTGAME THREAD] Our Milwaukee Bucks (24-10) ...   \n",
       "3  [POSTGAME THREAD] Our Milwaukee Bucks (24-10) ...   \n",
       "4  [POSTGAME THREAD] Our Milwaukee Bucks (24-10) ...   \n",
       "\n",
       "                                             Comment       Date  \n",
       "0  \\n||\\t\\t\\n|:-:|\\t\\t\\n|[](/MIL) **130 -  140** ... 2024-01-03  \n",
       "1  Took too long to pull Brook and Pat out and gi... 2024-01-03  \n",
       "2  The Bucks, for whatever reason, look like they... 2024-01-03  \n",
       "3  lmfao if brunson tears this team apart tyrese ... 2024-01-03  \n",
       "4  Hear me out... \\n\\nFirst blessoe then jrue, sh... 2024-01-03  "
      ]
     },
     "execution_count": 6,
     "metadata": {},
     "output_type": "execute_result"
    }
   ],
   "source": [
    "df['Date'] = pd.to_datetime(df['Date'])\n",
    "df.head()"
   ]
  },
  {
   "cell_type": "code",
   "execution_count": 7,
   "id": "06d0da79",
   "metadata": {},
   "outputs": [
    {
     "data": {
      "text/html": [
       "<div>\n",
       "<style scoped>\n",
       "    .dataframe tbody tr th:only-of-type {\n",
       "        vertical-align: middle;\n",
       "    }\n",
       "\n",
       "    .dataframe tbody tr th {\n",
       "        vertical-align: top;\n",
       "    }\n",
       "\n",
       "    .dataframe thead th {\n",
       "        text-align: right;\n",
       "    }\n",
       "</style>\n",
       "<table border=\"1\" class=\"dataframe\">\n",
       "  <thead>\n",
       "    <tr style=\"text-align: right;\">\n",
       "      <th></th>\n",
       "      <th>Post_Name</th>\n",
       "      <th>Comment</th>\n",
       "      <th>Date</th>\n",
       "    </tr>\n",
       "  </thead>\n",
       "  <tbody>\n",
       "    <tr>\n",
       "      <th>0</th>\n",
       "      <td>[POSTGAME THREAD] Our Milwaukee Bucks (24-10) ...</td>\n",
       "      <td>\\n||\\t\\t\\n|:-:|\\t\\t\\n|[](/MIL) **130 -  140** ...</td>\n",
       "      <td>2024-01-03</td>\n",
       "    </tr>\n",
       "    <tr>\n",
       "      <th>1</th>\n",
       "      <td>[POSTGAME THREAD] Our Milwaukee Bucks (24-10) ...</td>\n",
       "      <td>Took too long to pull Brook and Pat out and gi...</td>\n",
       "      <td>2024-01-03</td>\n",
       "    </tr>\n",
       "    <tr>\n",
       "      <th>2</th>\n",
       "      <td>[POSTGAME THREAD] Our Milwaukee Bucks (24-10) ...</td>\n",
       "      <td>The Bucks, for whatever reason, look like they...</td>\n",
       "      <td>2024-01-03</td>\n",
       "    </tr>\n",
       "    <tr>\n",
       "      <th>3</th>\n",
       "      <td>[POSTGAME THREAD] Our Milwaukee Bucks (24-10) ...</td>\n",
       "      <td>lmfao if brunson tears this team apart tyrese ...</td>\n",
       "      <td>2024-01-03</td>\n",
       "    </tr>\n",
       "    <tr>\n",
       "      <th>4</th>\n",
       "      <td>[POSTGAME THREAD] Our Milwaukee Bucks (24-10) ...</td>\n",
       "      <td>Hear me out... \\n\\nFirst blessoe then jrue, sh...</td>\n",
       "      <td>2024-01-03</td>\n",
       "    </tr>\n",
       "  </tbody>\n",
       "</table>\n",
       "</div>"
      ],
      "text/plain": [
       "                                           Post_Name  \\\n",
       "0  [POSTGAME THREAD] Our Milwaukee Bucks (24-10) ...   \n",
       "1  [POSTGAME THREAD] Our Milwaukee Bucks (24-10) ...   \n",
       "2  [POSTGAME THREAD] Our Milwaukee Bucks (24-10) ...   \n",
       "3  [POSTGAME THREAD] Our Milwaukee Bucks (24-10) ...   \n",
       "4  [POSTGAME THREAD] Our Milwaukee Bucks (24-10) ...   \n",
       "\n",
       "                                             Comment       Date  \n",
       "0  \\n||\\t\\t\\n|:-:|\\t\\t\\n|[](/MIL) **130 -  140** ... 2024-01-03  \n",
       "1  Took too long to pull Brook and Pat out and gi... 2024-01-03  \n",
       "2  The Bucks, for whatever reason, look like they... 2024-01-03  \n",
       "3  lmfao if brunson tears this team apart tyrese ... 2024-01-03  \n",
       "4  Hear me out... \\n\\nFirst blessoe then jrue, sh... 2024-01-03  "
      ]
     },
     "execution_count": 7,
     "metadata": {},
     "output_type": "execute_result"
    }
   ],
   "source": [
    "# Getting Data For This Season\n",
    "df = df[df[\"Date\"] >= \"2023-10-26\"]\n",
    "df.head()"
   ]
  },
  {
   "cell_type": "code",
   "execution_count": 8,
   "id": "c989b9d3",
   "metadata": {},
   "outputs": [
    {
     "data": {
      "text/plain": [
       "64"
      ]
     },
     "execution_count": 8,
     "metadata": {},
     "output_type": "execute_result"
    }
   ],
   "source": [
    "# Number of Games\n",
    "len(df[\"Post_Name\"].unique())"
   ]
  },
  {
   "cell_type": "code",
   "execution_count": 9,
   "id": "27af1d90",
   "metadata": {},
   "outputs": [
    {
     "data": {
      "text/plain": [
       "12266"
      ]
     },
     "execution_count": 9,
     "metadata": {},
     "output_type": "execute_result"
    }
   ],
   "source": [
    "# Number of Columns\n",
    "len(df)"
   ]
  },
  {
   "cell_type": "code",
   "execution_count": 10,
   "id": "84123afd",
   "metadata": {},
   "outputs": [
    {
     "data": {
      "text/html": [
       "<div>\n",
       "<style scoped>\n",
       "    .dataframe tbody tr th:only-of-type {\n",
       "        vertical-align: middle;\n",
       "    }\n",
       "\n",
       "    .dataframe tbody tr th {\n",
       "        vertical-align: top;\n",
       "    }\n",
       "\n",
       "    .dataframe thead th {\n",
       "        text-align: right;\n",
       "    }\n",
       "</style>\n",
       "<table border=\"1\" class=\"dataframe\">\n",
       "  <thead>\n",
       "    <tr style=\"text-align: right;\">\n",
       "      <th></th>\n",
       "      <th>Post_Name</th>\n",
       "      <th>Comment</th>\n",
       "      <th>Date</th>\n",
       "      <th>Result</th>\n",
       "    </tr>\n",
       "  </thead>\n",
       "  <tbody>\n",
       "    <tr>\n",
       "      <th>0</th>\n",
       "      <td>[POSTGAME THREAD] Our Milwaukee Bucks (24-10) ...</td>\n",
       "      <td>\\n||\\t\\t\\n|:-:|\\t\\t\\n|[](/MIL) **130 -  140** ...</td>\n",
       "      <td>2024-01-03</td>\n",
       "      <td>Loss</td>\n",
       "    </tr>\n",
       "    <tr>\n",
       "      <th>1</th>\n",
       "      <td>[POSTGAME THREAD] Our Milwaukee Bucks (24-10) ...</td>\n",
       "      <td>Took too long to pull Brook and Pat out and gi...</td>\n",
       "      <td>2024-01-03</td>\n",
       "      <td>Loss</td>\n",
       "    </tr>\n",
       "    <tr>\n",
       "      <th>2</th>\n",
       "      <td>[POSTGAME THREAD] Our Milwaukee Bucks (24-10) ...</td>\n",
       "      <td>The Bucks, for whatever reason, look like they...</td>\n",
       "      <td>2024-01-03</td>\n",
       "      <td>Loss</td>\n",
       "    </tr>\n",
       "    <tr>\n",
       "      <th>3</th>\n",
       "      <td>[POSTGAME THREAD] Our Milwaukee Bucks (24-10) ...</td>\n",
       "      <td>lmfao if brunson tears this team apart tyrese ...</td>\n",
       "      <td>2024-01-03</td>\n",
       "      <td>Loss</td>\n",
       "    </tr>\n",
       "    <tr>\n",
       "      <th>4</th>\n",
       "      <td>[POSTGAME THREAD] Our Milwaukee Bucks (24-10) ...</td>\n",
       "      <td>Hear me out... \\n\\nFirst blessoe then jrue, sh...</td>\n",
       "      <td>2024-01-03</td>\n",
       "      <td>Loss</td>\n",
       "    </tr>\n",
       "  </tbody>\n",
       "</table>\n",
       "</div>"
      ],
      "text/plain": [
       "                                           Post_Name  \\\n",
       "0  [POSTGAME THREAD] Our Milwaukee Bucks (24-10) ...   \n",
       "1  [POSTGAME THREAD] Our Milwaukee Bucks (24-10) ...   \n",
       "2  [POSTGAME THREAD] Our Milwaukee Bucks (24-10) ...   \n",
       "3  [POSTGAME THREAD] Our Milwaukee Bucks (24-10) ...   \n",
       "4  [POSTGAME THREAD] Our Milwaukee Bucks (24-10) ...   \n",
       "\n",
       "                                             Comment       Date Result  \n",
       "0  \\n||\\t\\t\\n|:-:|\\t\\t\\n|[](/MIL) **130 -  140** ... 2024-01-03   Loss  \n",
       "1  Took too long to pull Brook and Pat out and gi... 2024-01-03   Loss  \n",
       "2  The Bucks, for whatever reason, look like they... 2024-01-03   Loss  \n",
       "3  lmfao if brunson tears this team apart tyrese ... 2024-01-03   Loss  \n",
       "4  Hear me out... \\n\\nFirst blessoe then jrue, sh... 2024-01-03   Loss  "
      ]
     },
     "execution_count": 10,
     "metadata": {},
     "output_type": "execute_result"
    }
   ],
   "source": [
    "# Create the Result Column\n",
    "def label_column(string):\n",
    "    if any(word in string for word in [\"defeat\", \"trounce\", \"beat\"]):\n",
    "        return \"Win\"\n",
    "    elif any(word in string for word in [\"fall\", \"sputter\", \"are defeated\"]):\n",
    "        return \"Loss\"\n",
    "    else:\n",
    "        return \"Unknown\"\n",
    "df[\"Result\"] = df[\"Post_Name\"].apply(label_column)\n",
    "df.head()"
   ]
  },
  {
   "cell_type": "code",
   "execution_count": 11,
   "id": "d345d448",
   "metadata": {},
   "outputs": [],
   "source": [
    "# Sorting Dataframe By Date\n",
    "df = df.sort_values(by = \"Date\").reset_index(drop = True)"
   ]
  },
  {
   "cell_type": "code",
   "execution_count": 12,
   "id": "cca11432",
   "metadata": {},
   "outputs": [
    {
     "data": {
      "text/html": [
       "<div>\n",
       "<style scoped>\n",
       "    .dataframe tbody tr th:only-of-type {\n",
       "        vertical-align: middle;\n",
       "    }\n",
       "\n",
       "    .dataframe tbody tr th {\n",
       "        vertical-align: top;\n",
       "    }\n",
       "\n",
       "    .dataframe thead th {\n",
       "        text-align: right;\n",
       "    }\n",
       "</style>\n",
       "<table border=\"1\" class=\"dataframe\">\n",
       "  <thead>\n",
       "    <tr style=\"text-align: right;\">\n",
       "      <th></th>\n",
       "      <th>Post_Name</th>\n",
       "      <th>Comment</th>\n",
       "      <th>Date</th>\n",
       "      <th>Result</th>\n",
       "    </tr>\n",
       "  </thead>\n",
       "  <tbody>\n",
       "    <tr>\n",
       "      <th>0</th>\n",
       "      <td>[POSTGAME THREAD] Our Milwaukee Bucks (1-0) de...</td>\n",
       "      <td>But have you considered Damian Lillard?</td>\n",
       "      <td>2023-10-26</td>\n",
       "      <td>Win</td>\n",
       "    </tr>\n",
       "    <tr>\n",
       "      <th>1</th>\n",
       "      <td>[POSTGAME THREAD] Our Milwaukee Bucks (1-0) de...</td>\n",
       "      <td>Help yourself to a Dame flair :)</td>\n",
       "      <td>2023-10-26</td>\n",
       "      <td>Win</td>\n",
       "    </tr>\n",
       "    <tr>\n",
       "      <th>2</th>\n",
       "      <td>[POSTGAME THREAD] Our Milwaukee Bucks (1-0) de...</td>\n",
       "      <td>the most casual 30 point games in the nba, the...</td>\n",
       "      <td>2023-10-26</td>\n",
       "      <td>Win</td>\n",
       "    </tr>\n",
       "    <tr>\n",
       "      <th>3</th>\n",
       "      <td>[POSTGAME THREAD] Our Milwaukee Bucks (1-0) de...</td>\n",
       "      <td>Dame regularly went nuclear with the most medi...</td>\n",
       "      <td>2023-10-26</td>\n",
       "      <td>Win</td>\n",
       "    </tr>\n",
       "    <tr>\n",
       "      <th>4</th>\n",
       "      <td>[POSTGAME THREAD] Our Milwaukee Bucks (1-0) de...</td>\n",
       "      <td>Wait until you see him get hot from 3 and star...</td>\n",
       "      <td>2023-10-26</td>\n",
       "      <td>Win</td>\n",
       "    </tr>\n",
       "  </tbody>\n",
       "</table>\n",
       "</div>"
      ],
      "text/plain": [
       "                                           Post_Name  \\\n",
       "0  [POSTGAME THREAD] Our Milwaukee Bucks (1-0) de...   \n",
       "1  [POSTGAME THREAD] Our Milwaukee Bucks (1-0) de...   \n",
       "2  [POSTGAME THREAD] Our Milwaukee Bucks (1-0) de...   \n",
       "3  [POSTGAME THREAD] Our Milwaukee Bucks (1-0) de...   \n",
       "4  [POSTGAME THREAD] Our Milwaukee Bucks (1-0) de...   \n",
       "\n",
       "                                             Comment       Date Result  \n",
       "0            But have you considered Damian Lillard? 2023-10-26    Win  \n",
       "1                   Help yourself to a Dame flair :) 2023-10-26    Win  \n",
       "2  the most casual 30 point games in the nba, the... 2023-10-26    Win  \n",
       "3  Dame regularly went nuclear with the most medi... 2023-10-26    Win  \n",
       "4  Wait until you see him get hot from 3 and star... 2023-10-26    Win  "
      ]
     },
     "execution_count": 12,
     "metadata": {},
     "output_type": "execute_result"
    }
   ],
   "source": [
    "df.head()"
   ]
  },
  {
   "cell_type": "markdown",
   "id": "567ce84e",
   "metadata": {},
   "source": [
    "### Prepare Comments for Modeling"
   ]
  },
  {
   "cell_type": "code",
   "execution_count": 13,
   "id": "1a615f00",
   "metadata": {},
   "outputs": [
    {
     "data": {
      "text/html": [
       "<div>\n",
       "<style scoped>\n",
       "    .dataframe tbody tr th:only-of-type {\n",
       "        vertical-align: middle;\n",
       "    }\n",
       "\n",
       "    .dataframe tbody tr th {\n",
       "        vertical-align: top;\n",
       "    }\n",
       "\n",
       "    .dataframe thead th {\n",
       "        text-align: right;\n",
       "    }\n",
       "</style>\n",
       "<table border=\"1\" class=\"dataframe\">\n",
       "  <thead>\n",
       "    <tr style=\"text-align: right;\">\n",
       "      <th></th>\n",
       "      <th>Post_Name</th>\n",
       "      <th>Comment</th>\n",
       "      <th>Date</th>\n",
       "      <th>Result</th>\n",
       "      <th>Comment_Adj</th>\n",
       "    </tr>\n",
       "  </thead>\n",
       "  <tbody>\n",
       "    <tr>\n",
       "      <th>0</th>\n",
       "      <td>[POSTGAME THREAD] Our Milwaukee Bucks (1-0) de...</td>\n",
       "      <td>But have you considered Damian Lillard?</td>\n",
       "      <td>2023-10-26</td>\n",
       "      <td>Win</td>\n",
       "      <td>but have you considered damian lillard</td>\n",
       "    </tr>\n",
       "    <tr>\n",
       "      <th>1</th>\n",
       "      <td>[POSTGAME THREAD] Our Milwaukee Bucks (1-0) de...</td>\n",
       "      <td>Help yourself to a Dame flair :)</td>\n",
       "      <td>2023-10-26</td>\n",
       "      <td>Win</td>\n",
       "      <td>help yourself to a dame flair</td>\n",
       "    </tr>\n",
       "    <tr>\n",
       "      <th>2</th>\n",
       "      <td>[POSTGAME THREAD] Our Milwaukee Bucks (1-0) de...</td>\n",
       "      <td>the most casual 30 point games in the nba, the...</td>\n",
       "      <td>2023-10-26</td>\n",
       "      <td>Win</td>\n",
       "      <td>the most casual 30 point games in the nba ther...</td>\n",
       "    </tr>\n",
       "    <tr>\n",
       "      <th>3</th>\n",
       "      <td>[POSTGAME THREAD] Our Milwaukee Bucks (1-0) de...</td>\n",
       "      <td>Dame regularly went nuclear with the most medi...</td>\n",
       "      <td>2023-10-26</td>\n",
       "      <td>Win</td>\n",
       "      <td>dame regularly went nuclear with the most medi...</td>\n",
       "    </tr>\n",
       "    <tr>\n",
       "      <th>4</th>\n",
       "      <td>[POSTGAME THREAD] Our Milwaukee Bucks (1-0) de...</td>\n",
       "      <td>Wait until you see him get hot from 3 and star...</td>\n",
       "      <td>2023-10-26</td>\n",
       "      <td>Win</td>\n",
       "      <td>wait until you see him get hot from 3 and star...</td>\n",
       "    </tr>\n",
       "  </tbody>\n",
       "</table>\n",
       "</div>"
      ],
      "text/plain": [
       "                                           Post_Name  \\\n",
       "0  [POSTGAME THREAD] Our Milwaukee Bucks (1-0) de...   \n",
       "1  [POSTGAME THREAD] Our Milwaukee Bucks (1-0) de...   \n",
       "2  [POSTGAME THREAD] Our Milwaukee Bucks (1-0) de...   \n",
       "3  [POSTGAME THREAD] Our Milwaukee Bucks (1-0) de...   \n",
       "4  [POSTGAME THREAD] Our Milwaukee Bucks (1-0) de...   \n",
       "\n",
       "                                             Comment       Date Result  \\\n",
       "0            But have you considered Damian Lillard? 2023-10-26    Win   \n",
       "1                   Help yourself to a Dame flair :) 2023-10-26    Win   \n",
       "2  the most casual 30 point games in the nba, the... 2023-10-26    Win   \n",
       "3  Dame regularly went nuclear with the most medi... 2023-10-26    Win   \n",
       "4  Wait until you see him get hot from 3 and star... 2023-10-26    Win   \n",
       "\n",
       "                                         Comment_Adj  \n",
       "0             but have you considered damian lillard  \n",
       "1                     help yourself to a dame flair   \n",
       "2  the most casual 30 point games in the nba ther...  \n",
       "3  dame regularly went nuclear with the most medi...  \n",
       "4  wait until you see him get hot from 3 and star...  "
      ]
     },
     "execution_count": 13,
     "metadata": {},
     "output_type": "execute_result"
    }
   ],
   "source": [
    "# Tokenize, then rejoin\n",
    "def tokenize(document):\n",
    "    # YOUR CODE HERE\n",
    "    document = document.split()\n",
    "    \n",
    "    for item in document:\n",
    "        document = [re.sub(r'^\\W+|\\W+$', \"\", item) for item in document]\n",
    "            \n",
    "    document = [item.lower() for item in document]\n",
    "    \n",
    "    document = \" \".join(document)\n",
    "    \n",
    "    return document\n",
    "\n",
    "df[\"Comment_Adj\"] = df[\"Comment\"].apply(tokenize)\n",
    "df.head()"
   ]
  },
  {
   "cell_type": "code",
   "execution_count": 14,
   "id": "3383201b",
   "metadata": {},
   "outputs": [
    {
     "data": {
      "text/html": [
       "<div>\n",
       "<style scoped>\n",
       "    .dataframe tbody tr th:only-of-type {\n",
       "        vertical-align: middle;\n",
       "    }\n",
       "\n",
       "    .dataframe tbody tr th {\n",
       "        vertical-align: top;\n",
       "    }\n",
       "\n",
       "    .dataframe thead th {\n",
       "        text-align: right;\n",
       "    }\n",
       "</style>\n",
       "<table border=\"1\" class=\"dataframe\">\n",
       "  <thead>\n",
       "    <tr style=\"text-align: right;\">\n",
       "      <th></th>\n",
       "      <th>Post_Name</th>\n",
       "      <th>Comment</th>\n",
       "      <th>Date</th>\n",
       "      <th>Result</th>\n",
       "      <th>Comment_Adj</th>\n",
       "      <th>No_Stop</th>\n",
       "    </tr>\n",
       "  </thead>\n",
       "  <tbody>\n",
       "    <tr>\n",
       "      <th>0</th>\n",
       "      <td>[POSTGAME THREAD] Our Milwaukee Bucks (1-0) de...</td>\n",
       "      <td>But have you considered Damian Lillard?</td>\n",
       "      <td>2023-10-26</td>\n",
       "      <td>Win</td>\n",
       "      <td>but have you considered damian lillard</td>\n",
       "      <td>considered damian lillard</td>\n",
       "    </tr>\n",
       "    <tr>\n",
       "      <th>1</th>\n",
       "      <td>[POSTGAME THREAD] Our Milwaukee Bucks (1-0) de...</td>\n",
       "      <td>Help yourself to a Dame flair :)</td>\n",
       "      <td>2023-10-26</td>\n",
       "      <td>Win</td>\n",
       "      <td>help yourself to a dame flair</td>\n",
       "      <td>help dame flair</td>\n",
       "    </tr>\n",
       "    <tr>\n",
       "      <th>2</th>\n",
       "      <td>[POSTGAME THREAD] Our Milwaukee Bucks (1-0) de...</td>\n",
       "      <td>the most casual 30 point games in the nba, the...</td>\n",
       "      <td>2023-10-26</td>\n",
       "      <td>Win</td>\n",
       "      <td>the most casual 30 point games in the nba ther...</td>\n",
       "      <td>casual 30 point games nba ’ good reason ’ obse...</td>\n",
       "    </tr>\n",
       "    <tr>\n",
       "      <th>3</th>\n",
       "      <td>[POSTGAME THREAD] Our Milwaukee Bucks (1-0) de...</td>\n",
       "      <td>Dame regularly went nuclear with the most medi...</td>\n",
       "      <td>2023-10-26</td>\n",
       "      <td>Win</td>\n",
       "      <td>dame regularly went nuclear with the most medi...</td>\n",
       "      <td>dame regularly went nuclear mediocre teams bla...</td>\n",
       "    </tr>\n",
       "    <tr>\n",
       "      <th>4</th>\n",
       "      <td>[POSTGAME THREAD] Our Milwaukee Bucks (1-0) de...</td>\n",
       "      <td>Wait until you see him get hot from 3 and star...</td>\n",
       "      <td>2023-10-26</td>\n",
       "      <td>Win</td>\n",
       "      <td>wait until you see him get hot from 3 and star...</td>\n",
       "      <td>wait see get hot 3 start shooting 35-40 ft sho...</td>\n",
       "    </tr>\n",
       "  </tbody>\n",
       "</table>\n",
       "</div>"
      ],
      "text/plain": [
       "                                           Post_Name  \\\n",
       "0  [POSTGAME THREAD] Our Milwaukee Bucks (1-0) de...   \n",
       "1  [POSTGAME THREAD] Our Milwaukee Bucks (1-0) de...   \n",
       "2  [POSTGAME THREAD] Our Milwaukee Bucks (1-0) de...   \n",
       "3  [POSTGAME THREAD] Our Milwaukee Bucks (1-0) de...   \n",
       "4  [POSTGAME THREAD] Our Milwaukee Bucks (1-0) de...   \n",
       "\n",
       "                                             Comment       Date Result  \\\n",
       "0            But have you considered Damian Lillard? 2023-10-26    Win   \n",
       "1                   Help yourself to a Dame flair :) 2023-10-26    Win   \n",
       "2  the most casual 30 point games in the nba, the... 2023-10-26    Win   \n",
       "3  Dame regularly went nuclear with the most medi... 2023-10-26    Win   \n",
       "4  Wait until you see him get hot from 3 and star... 2023-10-26    Win   \n",
       "\n",
       "                                         Comment_Adj  \\\n",
       "0             but have you considered damian lillard   \n",
       "1                     help yourself to a dame flair    \n",
       "2  the most casual 30 point games in the nba ther...   \n",
       "3  dame regularly went nuclear with the most medi...   \n",
       "4  wait until you see him get hot from 3 and star...   \n",
       "\n",
       "                                             No_Stop  \n",
       "0                          considered damian lillard  \n",
       "1                                    help dame flair  \n",
       "2  casual 30 point games nba ’ good reason ’ obse...  \n",
       "3  dame regularly went nuclear mediocre teams bla...  \n",
       "4  wait see get hot 3 start shooting 35-40 ft sho...  "
      ]
     },
     "execution_count": 14,
     "metadata": {},
     "output_type": "execute_result"
    }
   ],
   "source": [
    "# Remove Stopwords from Comments\n",
    "def remove_stopwords(text):\n",
    "    words = word_tokenize(text)\n",
    "    stop_words = set(stopwords.words('english'))\n",
    "    filtered_words = [word for word in words if word.lower() not in stop_words]\n",
    "    return ' '.join(filtered_words)\n",
    "\n",
    "df[\"No_Stop\"] = df[\"Comment_Adj\"].apply(remove_stopwords)\n",
    "df.head()"
   ]
  },
  {
   "cell_type": "code",
   "execution_count": 15,
   "id": "12835b11",
   "metadata": {},
   "outputs": [
    {
     "data": {
      "text/html": [
       "<div>\n",
       "<style scoped>\n",
       "    .dataframe tbody tr th:only-of-type {\n",
       "        vertical-align: middle;\n",
       "    }\n",
       "\n",
       "    .dataframe tbody tr th {\n",
       "        vertical-align: top;\n",
       "    }\n",
       "\n",
       "    .dataframe thead th {\n",
       "        text-align: right;\n",
       "    }\n",
       "</style>\n",
       "<table border=\"1\" class=\"dataframe\">\n",
       "  <thead>\n",
       "    <tr style=\"text-align: right;\">\n",
       "      <th></th>\n",
       "      <th>Post_Name</th>\n",
       "      <th>Comment</th>\n",
       "      <th>Date</th>\n",
       "      <th>Result</th>\n",
       "      <th>Comment_Adj</th>\n",
       "      <th>No_Stop</th>\n",
       "      <th>Stemmed</th>\n",
       "    </tr>\n",
       "  </thead>\n",
       "  <tbody>\n",
       "    <tr>\n",
       "      <th>0</th>\n",
       "      <td>[POSTGAME THREAD] Our Milwaukee Bucks (1-0) de...</td>\n",
       "      <td>But have you considered Damian Lillard?</td>\n",
       "      <td>2023-10-26</td>\n",
       "      <td>Win</td>\n",
       "      <td>but have you considered damian lillard</td>\n",
       "      <td>considered damian lillard</td>\n",
       "      <td>consid damian lillard</td>\n",
       "    </tr>\n",
       "    <tr>\n",
       "      <th>1</th>\n",
       "      <td>[POSTGAME THREAD] Our Milwaukee Bucks (1-0) de...</td>\n",
       "      <td>Help yourself to a Dame flair :)</td>\n",
       "      <td>2023-10-26</td>\n",
       "      <td>Win</td>\n",
       "      <td>help yourself to a dame flair</td>\n",
       "      <td>help dame flair</td>\n",
       "      <td>help dame flair</td>\n",
       "    </tr>\n",
       "    <tr>\n",
       "      <th>2</th>\n",
       "      <td>[POSTGAME THREAD] Our Milwaukee Bucks (1-0) de...</td>\n",
       "      <td>the most casual 30 point games in the nba, the...</td>\n",
       "      <td>2023-10-26</td>\n",
       "      <td>Win</td>\n",
       "      <td>the most casual 30 point games in the nba ther...</td>\n",
       "      <td>casual 30 point games nba ’ good reason ’ obse...</td>\n",
       "      <td>casual 30 point game nba ’ good reason ’ obses...</td>\n",
       "    </tr>\n",
       "    <tr>\n",
       "      <th>3</th>\n",
       "      <td>[POSTGAME THREAD] Our Milwaukee Bucks (1-0) de...</td>\n",
       "      <td>Dame regularly went nuclear with the most medi...</td>\n",
       "      <td>2023-10-26</td>\n",
       "      <td>Win</td>\n",
       "      <td>dame regularly went nuclear with the most medi...</td>\n",
       "      <td>dame regularly went nuclear mediocre teams bla...</td>\n",
       "      <td>dame regularli went nuclear mediocr team blaze...</td>\n",
       "    </tr>\n",
       "    <tr>\n",
       "      <th>4</th>\n",
       "      <td>[POSTGAME THREAD] Our Milwaukee Bucks (1-0) de...</td>\n",
       "      <td>Wait until you see him get hot from 3 and star...</td>\n",
       "      <td>2023-10-26</td>\n",
       "      <td>Win</td>\n",
       "      <td>wait until you see him get hot from 3 and star...</td>\n",
       "      <td>wait see get hot 3 start shooting 35-40 ft sho...</td>\n",
       "      <td>wait see get hot 3 start shoot 35-40 ft shot l...</td>\n",
       "    </tr>\n",
       "  </tbody>\n",
       "</table>\n",
       "</div>"
      ],
      "text/plain": [
       "                                           Post_Name  \\\n",
       "0  [POSTGAME THREAD] Our Milwaukee Bucks (1-0) de...   \n",
       "1  [POSTGAME THREAD] Our Milwaukee Bucks (1-0) de...   \n",
       "2  [POSTGAME THREAD] Our Milwaukee Bucks (1-0) de...   \n",
       "3  [POSTGAME THREAD] Our Milwaukee Bucks (1-0) de...   \n",
       "4  [POSTGAME THREAD] Our Milwaukee Bucks (1-0) de...   \n",
       "\n",
       "                                             Comment       Date Result  \\\n",
       "0            But have you considered Damian Lillard? 2023-10-26    Win   \n",
       "1                   Help yourself to a Dame flair :) 2023-10-26    Win   \n",
       "2  the most casual 30 point games in the nba, the... 2023-10-26    Win   \n",
       "3  Dame regularly went nuclear with the most medi... 2023-10-26    Win   \n",
       "4  Wait until you see him get hot from 3 and star... 2023-10-26    Win   \n",
       "\n",
       "                                         Comment_Adj  \\\n",
       "0             but have you considered damian lillard   \n",
       "1                     help yourself to a dame flair    \n",
       "2  the most casual 30 point games in the nba ther...   \n",
       "3  dame regularly went nuclear with the most medi...   \n",
       "4  wait until you see him get hot from 3 and star...   \n",
       "\n",
       "                                             No_Stop  \\\n",
       "0                          considered damian lillard   \n",
       "1                                    help dame flair   \n",
       "2  casual 30 point games nba ’ good reason ’ obse...   \n",
       "3  dame regularly went nuclear mediocre teams bla...   \n",
       "4  wait see get hot 3 start shooting 35-40 ft sho...   \n",
       "\n",
       "                                             Stemmed  \n",
       "0                              consid damian lillard  \n",
       "1                                    help dame flair  \n",
       "2  casual 30 point game nba ’ good reason ’ obses...  \n",
       "3  dame regularli went nuclear mediocr team blaze...  \n",
       "4  wait see get hot 3 start shoot 35-40 ft shot l...  "
      ]
     },
     "execution_count": 15,
     "metadata": {},
     "output_type": "execute_result"
    }
   ],
   "source": [
    "# Perform Stemming on Comments\n",
    "stemmer = PorterStemmer()\n",
    "def stem_text(text):\n",
    "    words = word_tokenize(text)\n",
    "    stemmed_words = [stemmer.stem(word) for word in words]\n",
    "    return ' '.join(stemmed_words)\n",
    "\n",
    "# Apply stemming function to text_column\n",
    "df['Stemmed'] = df['No_Stop'].apply(stem_text)\n",
    "df.head()"
   ]
  },
  {
   "cell_type": "code",
   "execution_count": 16,
   "id": "f110e6e5",
   "metadata": {},
   "outputs": [
    {
     "data": {
      "text/html": [
       "<div>\n",
       "<style scoped>\n",
       "    .dataframe tbody tr th:only-of-type {\n",
       "        vertical-align: middle;\n",
       "    }\n",
       "\n",
       "    .dataframe tbody tr th {\n",
       "        vertical-align: top;\n",
       "    }\n",
       "\n",
       "    .dataframe thead th {\n",
       "        text-align: right;\n",
       "    }\n",
       "</style>\n",
       "<table border=\"1\" class=\"dataframe\">\n",
       "  <thead>\n",
       "    <tr style=\"text-align: right;\">\n",
       "      <th></th>\n",
       "      <th>Post_Name</th>\n",
       "      <th>Comment</th>\n",
       "      <th>Date</th>\n",
       "      <th>Result</th>\n",
       "      <th>Comment_Adj</th>\n",
       "      <th>No_Stop</th>\n",
       "      <th>Stemmed</th>\n",
       "      <th>Result_Bin</th>\n",
       "    </tr>\n",
       "  </thead>\n",
       "  <tbody>\n",
       "    <tr>\n",
       "      <th>0</th>\n",
       "      <td>[POSTGAME THREAD] Our Milwaukee Bucks (1-0) de...</td>\n",
       "      <td>But have you considered Damian Lillard?</td>\n",
       "      <td>2023-10-26</td>\n",
       "      <td>Win</td>\n",
       "      <td>but have you considered damian lillard</td>\n",
       "      <td>considered damian lillard</td>\n",
       "      <td>consid damian lillard</td>\n",
       "      <td>1</td>\n",
       "    </tr>\n",
       "    <tr>\n",
       "      <th>1</th>\n",
       "      <td>[POSTGAME THREAD] Our Milwaukee Bucks (1-0) de...</td>\n",
       "      <td>Help yourself to a Dame flair :)</td>\n",
       "      <td>2023-10-26</td>\n",
       "      <td>Win</td>\n",
       "      <td>help yourself to a dame flair</td>\n",
       "      <td>help dame flair</td>\n",
       "      <td>help dame flair</td>\n",
       "      <td>1</td>\n",
       "    </tr>\n",
       "    <tr>\n",
       "      <th>2</th>\n",
       "      <td>[POSTGAME THREAD] Our Milwaukee Bucks (1-0) de...</td>\n",
       "      <td>the most casual 30 point games in the nba, the...</td>\n",
       "      <td>2023-10-26</td>\n",
       "      <td>Win</td>\n",
       "      <td>the most casual 30 point games in the nba ther...</td>\n",
       "      <td>casual 30 point games nba ’ good reason ’ obse...</td>\n",
       "      <td>casual 30 point game nba ’ good reason ’ obses...</td>\n",
       "      <td>1</td>\n",
       "    </tr>\n",
       "    <tr>\n",
       "      <th>3</th>\n",
       "      <td>[POSTGAME THREAD] Our Milwaukee Bucks (1-0) de...</td>\n",
       "      <td>Dame regularly went nuclear with the most medi...</td>\n",
       "      <td>2023-10-26</td>\n",
       "      <td>Win</td>\n",
       "      <td>dame regularly went nuclear with the most medi...</td>\n",
       "      <td>dame regularly went nuclear mediocre teams bla...</td>\n",
       "      <td>dame regularli went nuclear mediocr team blaze...</td>\n",
       "      <td>1</td>\n",
       "    </tr>\n",
       "    <tr>\n",
       "      <th>4</th>\n",
       "      <td>[POSTGAME THREAD] Our Milwaukee Bucks (1-0) de...</td>\n",
       "      <td>Wait until you see him get hot from 3 and star...</td>\n",
       "      <td>2023-10-26</td>\n",
       "      <td>Win</td>\n",
       "      <td>wait until you see him get hot from 3 and star...</td>\n",
       "      <td>wait see get hot 3 start shooting 35-40 ft sho...</td>\n",
       "      <td>wait see get hot 3 start shoot 35-40 ft shot l...</td>\n",
       "      <td>1</td>\n",
       "    </tr>\n",
       "  </tbody>\n",
       "</table>\n",
       "</div>"
      ],
      "text/plain": [
       "                                           Post_Name  \\\n",
       "0  [POSTGAME THREAD] Our Milwaukee Bucks (1-0) de...   \n",
       "1  [POSTGAME THREAD] Our Milwaukee Bucks (1-0) de...   \n",
       "2  [POSTGAME THREAD] Our Milwaukee Bucks (1-0) de...   \n",
       "3  [POSTGAME THREAD] Our Milwaukee Bucks (1-0) de...   \n",
       "4  [POSTGAME THREAD] Our Milwaukee Bucks (1-0) de...   \n",
       "\n",
       "                                             Comment       Date Result  \\\n",
       "0            But have you considered Damian Lillard? 2023-10-26    Win   \n",
       "1                   Help yourself to a Dame flair :) 2023-10-26    Win   \n",
       "2  the most casual 30 point games in the nba, the... 2023-10-26    Win   \n",
       "3  Dame regularly went nuclear with the most medi... 2023-10-26    Win   \n",
       "4  Wait until you see him get hot from 3 and star... 2023-10-26    Win   \n",
       "\n",
       "                                         Comment_Adj  \\\n",
       "0             but have you considered damian lillard   \n",
       "1                     help yourself to a dame flair    \n",
       "2  the most casual 30 point games in the nba ther...   \n",
       "3  dame regularly went nuclear with the most medi...   \n",
       "4  wait until you see him get hot from 3 and star...   \n",
       "\n",
       "                                             No_Stop  \\\n",
       "0                          considered damian lillard   \n",
       "1                                    help dame flair   \n",
       "2  casual 30 point games nba ’ good reason ’ obse...   \n",
       "3  dame regularly went nuclear mediocre teams bla...   \n",
       "4  wait see get hot 3 start shooting 35-40 ft sho...   \n",
       "\n",
       "                                             Stemmed  Result_Bin  \n",
       "0                              consid damian lillard           1  \n",
       "1                                    help dame flair           1  \n",
       "2  casual 30 point game nba ’ good reason ’ obses...           1  \n",
       "3  dame regularli went nuclear mediocr team blaze...           1  \n",
       "4  wait see get hot 3 start shoot 35-40 ft shot l...           1  "
      ]
     },
     "execution_count": 16,
     "metadata": {},
     "output_type": "execute_result"
    }
   ],
   "source": [
    "# Win_Loss Function\n",
    "def win_loss(text):\n",
    "    if text == \"Win\":\n",
    "        return 1\n",
    "    else:\n",
    "        return 0\n",
    "df[\"Result_Bin\"] = df[\"Result\"].apply(win_loss)\n",
    "df.head()"
   ]
  },
  {
   "cell_type": "markdown",
   "id": "88277e55",
   "metadata": {},
   "source": [
    "## Plots"
   ]
  },
  {
   "cell_type": "code",
   "execution_count": 68,
   "id": "1c0932a4",
   "metadata": {},
   "outputs": [
    {
     "data": {
      "text/html": [
       "<div>\n",
       "<style scoped>\n",
       "    .dataframe tbody tr th:only-of-type {\n",
       "        vertical-align: middle;\n",
       "    }\n",
       "\n",
       "    .dataframe tbody tr th {\n",
       "        vertical-align: top;\n",
       "    }\n",
       "\n",
       "    .dataframe thead th {\n",
       "        text-align: right;\n",
       "    }\n",
       "</style>\n",
       "<table border=\"1\" class=\"dataframe\">\n",
       "  <thead>\n",
       "    <tr style=\"text-align: right;\">\n",
       "      <th></th>\n",
       "      <th>Post_Name</th>\n",
       "      <th>Comment</th>\n",
       "      <th>Date</th>\n",
       "      <th>Result</th>\n",
       "      <th>Comment_Len</th>\n",
       "    </tr>\n",
       "  </thead>\n",
       "  <tbody>\n",
       "    <tr>\n",
       "      <th>0</th>\n",
       "      <td>[POSTGAME THREAD] Our Milwaukee Bucks (1-0) de...</td>\n",
       "      <td>But have you considered Damian Lillard?</td>\n",
       "      <td>2023-10-26</td>\n",
       "      <td>Win</td>\n",
       "      <td>39</td>\n",
       "    </tr>\n",
       "    <tr>\n",
       "      <th>1</th>\n",
       "      <td>[POSTGAME THREAD] Our Milwaukee Bucks (1-0) de...</td>\n",
       "      <td>Help yourself to a Dame flair :)</td>\n",
       "      <td>2023-10-26</td>\n",
       "      <td>Win</td>\n",
       "      <td>32</td>\n",
       "    </tr>\n",
       "    <tr>\n",
       "      <th>2</th>\n",
       "      <td>[POSTGAME THREAD] Our Milwaukee Bucks (1-0) de...</td>\n",
       "      <td>the most casual 30 point games in the nba, the...</td>\n",
       "      <td>2023-10-26</td>\n",
       "      <td>Win</td>\n",
       "      <td>122</td>\n",
       "    </tr>\n",
       "    <tr>\n",
       "      <th>3</th>\n",
       "      <td>[POSTGAME THREAD] Our Milwaukee Bucks (1-0) de...</td>\n",
       "      <td>Dame regularly went nuclear with the most medi...</td>\n",
       "      <td>2023-10-26</td>\n",
       "      <td>Win</td>\n",
       "      <td>318</td>\n",
       "    </tr>\n",
       "    <tr>\n",
       "      <th>4</th>\n",
       "      <td>[POSTGAME THREAD] Our Milwaukee Bucks (1-0) de...</td>\n",
       "      <td>Wait until you see him get hot from 3 and star...</td>\n",
       "      <td>2023-10-26</td>\n",
       "      <td>Win</td>\n",
       "      <td>101</td>\n",
       "    </tr>\n",
       "  </tbody>\n",
       "</table>\n",
       "</div>"
      ],
      "text/plain": [
       "                                           Post_Name  \\\n",
       "0  [POSTGAME THREAD] Our Milwaukee Bucks (1-0) de...   \n",
       "1  [POSTGAME THREAD] Our Milwaukee Bucks (1-0) de...   \n",
       "2  [POSTGAME THREAD] Our Milwaukee Bucks (1-0) de...   \n",
       "3  [POSTGAME THREAD] Our Milwaukee Bucks (1-0) de...   \n",
       "4  [POSTGAME THREAD] Our Milwaukee Bucks (1-0) de...   \n",
       "\n",
       "                                             Comment       Date Result  \\\n",
       "0            But have you considered Damian Lillard? 2023-10-26    Win   \n",
       "1                   Help yourself to a Dame flair :) 2023-10-26    Win   \n",
       "2  the most casual 30 point games in the nba, the... 2023-10-26    Win   \n",
       "3  Dame regularly went nuclear with the most medi... 2023-10-26    Win   \n",
       "4  Wait until you see him get hot from 3 and star... 2023-10-26    Win   \n",
       "\n",
       "   Comment_Len  \n",
       "0           39  \n",
       "1           32  \n",
       "2          122  \n",
       "3          318  \n",
       "4          101  "
      ]
     },
     "execution_count": 68,
     "metadata": {},
     "output_type": "execute_result"
    }
   ],
   "source": [
    "df[\"Comment_Len\"] = df[\"Comment\"].apply(lambda x: len(x))\n",
    "df.head()"
   ]
  },
  {
   "cell_type": "code",
   "execution_count": 69,
   "id": "370114f3",
   "metadata": {},
   "outputs": [
    {
     "data": {
      "image/png": "[encoded data removed]",
      "text/plain": [
       "<Figure size 640x480 with 1 Axes>"
      ]
     },
     "metadata": {},
     "output_type": "display_data"
    }
   ],
   "source": [
    "plt.figure()\n",
    "df[df[\"Result\"]=='Win'][\"Comment_Len\"].plot.hist(bins=100, label='Win', alpha=.5)\n",
    "df[df[\"Result\"]=='Loss'][\"Comment_Len\"].plot.hist(bins=100, label='Loss', alpha=.5)\n",
    "plt.legend()\n",
    "plt.xlabel('length')\n",
    "plt.show()"
   ]
  },
  {
   "cell_type": "code",
   "execution_count": 70,
   "id": "e2d70890",
   "metadata": {},
   "outputs": [
    {
     "data": {
      "text/html": [
       "<div>\n",
       "<style scoped>\n",
       "    .dataframe tbody tr th:only-of-type {\n",
       "        vertical-align: middle;\n",
       "    }\n",
       "\n",
       "    .dataframe tbody tr th {\n",
       "        vertical-align: top;\n",
       "    }\n",
       "\n",
       "    .dataframe thead th {\n",
       "        text-align: right;\n",
       "    }\n",
       "</style>\n",
       "<table border=\"1\" class=\"dataframe\">\n",
       "  <thead>\n",
       "    <tr style=\"text-align: right;\">\n",
       "      <th></th>\n",
       "      <th>Post_Name</th>\n",
       "      <th>Comment</th>\n",
       "      <th>Date</th>\n",
       "      <th>Result</th>\n",
       "      <th>Comment_Len</th>\n",
       "    </tr>\n",
       "  </thead>\n",
       "  <tbody>\n",
       "    <tr>\n",
       "      <th>0</th>\n",
       "      <td>[POSTGAME THREAD] Our Milwaukee Bucks (1-0) de...</td>\n",
       "      <td>But have you considered Damian Lillard?</td>\n",
       "      <td>2023-10-26</td>\n",
       "      <td>Win</td>\n",
       "      <td>39</td>\n",
       "    </tr>\n",
       "    <tr>\n",
       "      <th>1</th>\n",
       "      <td>[POSTGAME THREAD] Our Milwaukee Bucks (1-0) de...</td>\n",
       "      <td>Help yourself to a Dame flair :)</td>\n",
       "      <td>2023-10-26</td>\n",
       "      <td>Win</td>\n",
       "      <td>32</td>\n",
       "    </tr>\n",
       "    <tr>\n",
       "      <th>2</th>\n",
       "      <td>[POSTGAME THREAD] Our Milwaukee Bucks (1-0) de...</td>\n",
       "      <td>the most casual 30 point games in the nba, the...</td>\n",
       "      <td>2023-10-26</td>\n",
       "      <td>Win</td>\n",
       "      <td>122</td>\n",
       "    </tr>\n",
       "    <tr>\n",
       "      <th>3</th>\n",
       "      <td>[POSTGAME THREAD] Our Milwaukee Bucks (1-0) de...</td>\n",
       "      <td>Dame regularly went nuclear with the most medi...</td>\n",
       "      <td>2023-10-26</td>\n",
       "      <td>Win</td>\n",
       "      <td>318</td>\n",
       "    </tr>\n",
       "    <tr>\n",
       "      <th>4</th>\n",
       "      <td>[POSTGAME THREAD] Our Milwaukee Bucks (1-0) de...</td>\n",
       "      <td>Wait until you see him get hot from 3 and star...</td>\n",
       "      <td>2023-10-26</td>\n",
       "      <td>Win</td>\n",
       "      <td>101</td>\n",
       "    </tr>\n",
       "  </tbody>\n",
       "</table>\n",
       "</div>"
      ],
      "text/plain": [
       "                                           Post_Name  \\\n",
       "0  [POSTGAME THREAD] Our Milwaukee Bucks (1-0) de...   \n",
       "1  [POSTGAME THREAD] Our Milwaukee Bucks (1-0) de...   \n",
       "2  [POSTGAME THREAD] Our Milwaukee Bucks (1-0) de...   \n",
       "3  [POSTGAME THREAD] Our Milwaukee Bucks (1-0) de...   \n",
       "4  [POSTGAME THREAD] Our Milwaukee Bucks (1-0) de...   \n",
       "\n",
       "                                             Comment        Date Result  \\\n",
       "0            But have you considered Damian Lillard?  2023-10-26    Win   \n",
       "1                   Help yourself to a Dame flair :)  2023-10-26    Win   \n",
       "2  the most casual 30 point games in the nba, the...  2023-10-26    Win   \n",
       "3  Dame regularly went nuclear with the most medi...  2023-10-26    Win   \n",
       "4  Wait until you see him get hot from 3 and star...  2023-10-26    Win   \n",
       "\n",
       "   Comment_Len  \n",
       "0           39  \n",
       "1           32  \n",
       "2          122  \n",
       "3          318  \n",
       "4          101  "
      ]
     },
     "execution_count": 70,
     "metadata": {},
     "output_type": "execute_result"
    }
   ],
   "source": [
    "# Plot Number of Comments Across time\n",
    "df[\"Date\"] = df[\"Date\"].dt.date\n",
    "df.head()"
   ]
  },
  {
   "cell_type": "code",
   "execution_count": 73,
   "id": "d467ce64",
   "metadata": {},
   "outputs": [
    {
     "data": {
      "text/plain": [
       "<Axes: >"
      ]
     },
     "execution_count": 73,
     "metadata": {},
     "output_type": "execute_result"
    },
    {
     "data": {
      "image/png": "[encoded data removed]",
      "text/plain": [
       "<Figure size 1200x600 with 1 Axes>"
      ]
     },
     "metadata": {},
     "output_type": "display_data"
    }
   ],
   "source": [
    "plt.figure(figsize=(12, 6))\n",
    "colors = df['Result'].map({'Win': 'green', 'Loss': 'red'})\n",
    "df['Date'].value_counts().sort_index().plot(kind='bar', color=colors)"
   ]
  },
  {
   "cell_type": "code",
   "execution_count": 71,
   "id": "f7e7fd1f",
   "metadata": {},
   "outputs": [
    {
     "ename": "TypeError",
     "evalue": "no numeric data to plot",
     "output_type": "error",
     "traceback": [
      "\u001b[0;31m---------------------------------------------------------------------------\u001b[0m",
      "\u001b[0;31mTypeError\u001b[0m                                 Traceback (most recent call last)",
      "Cell \u001b[0;32mIn[71], line 1\u001b[0m\n\u001b[0;32m----> 1\u001b[0m \u001b[43mdf\u001b[49m\u001b[43m[\u001b[49m\u001b[43mdf\u001b[49m\u001b[43m[\u001b[49m\u001b[38;5;124;43m\"\u001b[39;49m\u001b[38;5;124;43mResult\u001b[39;49m\u001b[38;5;124;43m\"\u001b[39;49m\u001b[43m]\u001b[49m\u001b[38;5;241;43m==\u001b[39;49m\u001b[38;5;124;43m'\u001b[39;49m\u001b[38;5;124;43mWin\u001b[39;49m\u001b[38;5;124;43m'\u001b[39;49m\u001b[43m]\u001b[49m\u001b[43m[\u001b[49m\u001b[38;5;124;43m\"\u001b[39;49m\u001b[38;5;124;43mDate\u001b[39;49m\u001b[38;5;124;43m\"\u001b[39;49m\u001b[43m]\u001b[49m\u001b[38;5;241;43m.\u001b[39;49m\u001b[43mplot\u001b[49m\u001b[43m(\u001b[49m\u001b[43mkind\u001b[49m\u001b[38;5;241;43m=\u001b[39;49m\u001b[38;5;124;43m'\u001b[39;49m\u001b[38;5;124;43mbar\u001b[39;49m\u001b[38;5;124;43m'\u001b[39;49m\u001b[43m,\u001b[49m\u001b[43m \u001b[49m\u001b[43mcolor\u001b[49m\u001b[38;5;241;43m=\u001b[39;49m\u001b[38;5;124;43m\"\u001b[39;49m\u001b[38;5;124;43mgreen\u001b[39;49m\u001b[38;5;124;43m\"\u001b[39;49m\u001b[43m)\u001b[49m\n\u001b[1;32m      2\u001b[0m df[df[\u001b[38;5;124m\"\u001b[39m\u001b[38;5;124mResult\u001b[39m\u001b[38;5;124m\"\u001b[39m]\u001b[38;5;241m==\u001b[39m\u001b[38;5;124m'\u001b[39m\u001b[38;5;124mLoss\u001b[39m\u001b[38;5;124m'\u001b[39m][\u001b[38;5;124m\"\u001b[39m\u001b[38;5;124mDate\u001b[39m\u001b[38;5;124m\"\u001b[39m]\u001b[38;5;241m.\u001b[39mplot(kind\u001b[38;5;241m=\u001b[39m\u001b[38;5;124m'\u001b[39m\u001b[38;5;124mbar\u001b[39m\u001b[38;5;124m'\u001b[39m, color\u001b[38;5;241m=\u001b[39m\u001b[38;5;124m\"\u001b[39m\u001b[38;5;124mred\u001b[39m\u001b[38;5;124m\"\u001b[39m)\n\u001b[1;32m      3\u001b[0m plt\u001b[38;5;241m.\u001b[39mlegend()\n",
      "File \u001b[0;32m~/opt/anaconda3/lib/python3.9/site-packages/pandas/plotting/_core.py:972\u001b[0m, in \u001b[0;36mPlotAccessor.__call__\u001b[0;34m(self, *args, **kwargs)\u001b[0m\n\u001b[1;32m    969\u001b[0m             label_name \u001b[38;5;241m=\u001b[39m label_kw \u001b[38;5;129;01mor\u001b[39;00m data\u001b[38;5;241m.\u001b[39mcolumns\n\u001b[1;32m    970\u001b[0m             data\u001b[38;5;241m.\u001b[39mcolumns \u001b[38;5;241m=\u001b[39m label_name\n\u001b[0;32m--> 972\u001b[0m \u001b[38;5;28;01mreturn\u001b[39;00m \u001b[43mplot_backend\u001b[49m\u001b[38;5;241;43m.\u001b[39;49m\u001b[43mplot\u001b[49m\u001b[43m(\u001b[49m\u001b[43mdata\u001b[49m\u001b[43m,\u001b[49m\u001b[43m \u001b[49m\u001b[43mkind\u001b[49m\u001b[38;5;241;43m=\u001b[39;49m\u001b[43mkind\u001b[49m\u001b[43m,\u001b[49m\u001b[43m \u001b[49m\u001b[38;5;241;43m*\u001b[39;49m\u001b[38;5;241;43m*\u001b[39;49m\u001b[43mkwargs\u001b[49m\u001b[43m)\u001b[49m\n",
      "File \u001b[0;32m~/opt/anaconda3/lib/python3.9/site-packages/pandas/plotting/_matplotlib/__init__.py:71\u001b[0m, in \u001b[0;36mplot\u001b[0;34m(data, kind, **kwargs)\u001b[0m\n\u001b[1;32m     69\u001b[0m         kwargs[\u001b[38;5;124m\"\u001b[39m\u001b[38;5;124max\u001b[39m\u001b[38;5;124m\"\u001b[39m] \u001b[38;5;241m=\u001b[39m \u001b[38;5;28mgetattr\u001b[39m(ax, \u001b[38;5;124m\"\u001b[39m\u001b[38;5;124mleft_ax\u001b[39m\u001b[38;5;124m\"\u001b[39m, ax)\n\u001b[1;32m     70\u001b[0m plot_obj \u001b[38;5;241m=\u001b[39m PLOT_CLASSES[kind](data, \u001b[38;5;241m*\u001b[39m\u001b[38;5;241m*\u001b[39mkwargs)\n\u001b[0;32m---> 71\u001b[0m \u001b[43mplot_obj\u001b[49m\u001b[38;5;241;43m.\u001b[39;49m\u001b[43mgenerate\u001b[49m\u001b[43m(\u001b[49m\u001b[43m)\u001b[49m\n\u001b[1;32m     72\u001b[0m plot_obj\u001b[38;5;241m.\u001b[39mdraw()\n\u001b[1;32m     73\u001b[0m \u001b[38;5;28;01mreturn\u001b[39;00m plot_obj\u001b[38;5;241m.\u001b[39mresult\n",
      "File \u001b[0;32m~/opt/anaconda3/lib/python3.9/site-packages/pandas/plotting/_matplotlib/core.py:286\u001b[0m, in \u001b[0;36mMPLPlot.generate\u001b[0;34m(self)\u001b[0m\n\u001b[1;32m    284\u001b[0m \u001b[38;5;28;01mdef\u001b[39;00m \u001b[38;5;21mgenerate\u001b[39m(\u001b[38;5;28mself\u001b[39m):\n\u001b[1;32m    285\u001b[0m     \u001b[38;5;28mself\u001b[39m\u001b[38;5;241m.\u001b[39m_args_adjust()\n\u001b[0;32m--> 286\u001b[0m     \u001b[38;5;28;43mself\u001b[39;49m\u001b[38;5;241;43m.\u001b[39;49m\u001b[43m_compute_plot_data\u001b[49m\u001b[43m(\u001b[49m\u001b[43m)\u001b[49m\n\u001b[1;32m    287\u001b[0m     \u001b[38;5;28mself\u001b[39m\u001b[38;5;241m.\u001b[39m_setup_subplots()\n\u001b[1;32m    288\u001b[0m     \u001b[38;5;28mself\u001b[39m\u001b[38;5;241m.\u001b[39m_make_plot()\n",
      "File \u001b[0;32m~/opt/anaconda3/lib/python3.9/site-packages/pandas/plotting/_matplotlib/core.py:453\u001b[0m, in \u001b[0;36mMPLPlot._compute_plot_data\u001b[0;34m(self)\u001b[0m\n\u001b[1;32m    451\u001b[0m \u001b[38;5;66;03m# no non-numeric frames or series allowed\u001b[39;00m\n\u001b[1;32m    452\u001b[0m \u001b[38;5;28;01mif\u001b[39;00m is_empty:\n\u001b[0;32m--> 453\u001b[0m     \u001b[38;5;28;01mraise\u001b[39;00m \u001b[38;5;167;01mTypeError\u001b[39;00m(\u001b[38;5;124m\"\u001b[39m\u001b[38;5;124mno numeric data to plot\u001b[39m\u001b[38;5;124m\"\u001b[39m)\n\u001b[1;32m    455\u001b[0m \u001b[38;5;28mself\u001b[39m\u001b[38;5;241m.\u001b[39mdata \u001b[38;5;241m=\u001b[39m numeric_data\u001b[38;5;241m.\u001b[39mapply(\u001b[38;5;28mself\u001b[39m\u001b[38;5;241m.\u001b[39m_convert_to_ndarray)\n",
      "\u001b[0;31mTypeError\u001b[0m: no numeric data to plot"
     ]
    }
   ],
   "source": [
    "df[df[\"Result\"]=='Win'][\"Date\"].plot(kind='bar', color=\"green\")\n",
    "df[df[\"Result\"]=='Loss'][\"Date\"].plot(kind='bar', color=\"red\")\n",
    "plt.legend()\n",
    "plt.xlabel('length')\n",
    "plt.show()"
   ]
  },
  {
   "cell_type": "code",
   "execution_count": 53,
   "id": "672a7a75",
   "metadata": {},
   "outputs": [
    {
     "data": {
      "text/plain": [
       "[POSTGAME THREAD] Our Milwaukee Bucks (35 - 21) fall to the Memphis Grizzlies (20 - 36) - 110 - 113 - 2/15/2024                462\n",
       "[POSTGAME THREAD] Our Milwaukee Bucks (1-0) defeat the Philadelphia 76ers (0-1) 118-117 in their season opener - 10/26/2023    396\n",
       "[POSTGAME THREAD] Our Milwaukee Bucks (32 - 16) fall to the Portland Trailblazers (14 - 34) - 116 - 119 - 1/31/2024            380\n",
       "[POSTGAME THREAD] Our Milwaukee Bucks (41 - 23) fall to The Los Angeles Lakers (35 - 30) - 122 - 123 - 3/8/2024                343\n",
       "[POSTGAME THREAD] Our Milwaukee Bucks (41 - 21) defeat the Los Angeles Clippers (39 - 21) - 113 - 106 - 3/4/2024               320\n",
       "Name: Post_Name, dtype: int64"
      ]
     },
     "execution_count": 53,
     "metadata": {},
     "output_type": "execute_result"
    }
   ],
   "source": [
    "df[\"Post_Name\"].value_counts()[:5]"
   ]
  },
  {
   "cell_type": "markdown",
   "id": "9cc5e5d7",
   "metadata": {},
   "source": [
    "## Naive Bayes Model"
   ]
  },
  {
   "cell_type": "code",
   "execution_count": 17,
   "id": "ef60ffda",
   "metadata": {},
   "outputs": [],
   "source": [
    "from sklearn.model_selection import train_test_split\n",
    "from sklearn.metrics import f1_score\n",
    "from sklearn.naive_bayes import BernoulliNB\n",
    "\n",
    "X = df[\"Stemmed\"]\n",
    "y = df[\"Result_Bin\"]\n",
    "\n",
    "# Split the data into training and testing sets\n",
    "X_train, X_test, y_train, y_test = train_test_split(X, y, test_size=0.2, random_state=42)"
   ]
  },
  {
   "cell_type": "code",
   "execution_count": 18,
   "id": "e1a484f8",
   "metadata": {},
   "outputs": [],
   "source": [
    "model = make_pipeline(CountVectorizer(), BernoulliNB())"
   ]
  },
  {
   "cell_type": "code",
   "execution_count": 19,
   "id": "22cacef4",
   "metadata": {},
   "outputs": [
    {
     "name": "stdout",
     "output_type": "stream",
     "text": [
      "Accuracy: 0.6985769728331178\n"
     ]
    }
   ],
   "source": [
    "model.fit(X_train, y_train)\n",
    "\n",
    "# Predict on the test set\n",
    "y_pred = model.predict(X_test)\n",
    "\n",
    "# Calculate accuracy\n",
    "f1 = f1_score(y_test, y_pred)\n",
    "print(\"Accuracy:\", f1)"
   ]
  },
  {
   "cell_type": "markdown",
   "id": "33668bd6",
   "metadata": {},
   "source": [
    "## Logistic Regression Model"
   ]
  },
  {
   "cell_type": "code",
   "execution_count": 20,
   "id": "5cdb826e",
   "metadata": {},
   "outputs": [],
   "source": [
    "vec = CountVectorizer()\n",
    "X_train = vec.fit_transform(X_train)\n",
    "X_test = vec.transform(X_test)"
   ]
  },
  {
   "cell_type": "code",
   "execution_count": 21,
   "id": "f2d2185b",
   "metadata": {},
   "outputs": [
    {
     "name": "stdout",
     "output_type": "stream",
     "text": [
      "              precision    recall  f1-score   support\n",
      "\n",
      "           0       0.59      0.54      0.56      1069\n",
      "           1       0.67      0.71      0.69      1385\n",
      "\n",
      "    accuracy                           0.64      2454\n",
      "   macro avg       0.63      0.63      0.63      2454\n",
      "weighted avg       0.63      0.64      0.63      2454\n",
      "\n"
     ]
    }
   ],
   "source": [
    "from sklearn.linear_model import LogisticRegression\n",
    "from sklearn.metrics import classification_report\n",
    "\n",
    "lr = LogisticRegression(max_iter = 1000)\n",
    "lr.fit(X_train, y_train)\n",
    "y_pred_lr = lr.predict(X_test)\n",
    "print(classification_report(y_test, y_pred_lr))"
   ]
  },
  {
   "cell_type": "markdown",
   "id": "bd2bae4a",
   "metadata": {},
   "source": [
    "## Convolutional Neural Network"
   ]
  },
  {
   "cell_type": "code",
   "execution_count": 1,
   "id": "f3baaa0e",
   "metadata": {},
   "outputs": [
    {
     "ename": "ModuleNotFoundError",
     "evalue": "No module named 'tensorflow'",
     "output_type": "error",
     "traceback": [
      "\u001b[0;31m---------------------------------------------------------------------------\u001b[0m",
      "\u001b[0;31mModuleNotFoundError\u001b[0m                       Traceback (most recent call last)",
      "Cell \u001b[0;32mIn[1], line 1\u001b[0m\n\u001b[0;32m----> 1\u001b[0m \u001b[38;5;28;01mfrom\u001b[39;00m \u001b[38;5;21;01mtensorflow\u001b[39;00m \u001b[38;5;28;01mimport\u001b[39;00m keras\n",
      "\u001b[0;31mModuleNotFoundError\u001b[0m: No module named 'tensorflow'"
     ]
    }
   ],
   "source": [
    "from tensorflow import keras"
   ]
  },
  {
   "cell_type": "code",
   "execution_count": null,
   "id": "b2286685",
   "metadata": {},
   "outputs": [],
   "source": [
    "from tensorflow.keras.preprocessing.text import one_hot\n",
    "\n",
    "vocab_size = 5000\n",
    "\n",
    "X_train = [one_hot(d, vocab_size,filters='!\"#$%&()*+,-./:;<=>?@[\\]^_`{|}~',lower=True, split=' ') for d in X_train]\n",
    "X_test = [one_hot(d, vocab_size,filters='!\"#$%&()*+,-./:;<=>?@[\\]^_`{|}~',lower=True, split=' ') for d in X_test]"
   ]
  },
  {
   "cell_type": "code",
   "execution_count": null,
   "id": "aa941e80",
   "metadata": {},
   "outputs": [],
   "source": []
  }
 ],
 "metadata": {
  "kernelspec": {
   "display_name": "Python 3 (ipykernel)",
   "language": "python",
   "name": "python3"
  },
  "language_info": {
   "codemirror_mode": {
    "name": "ipython",
    "version": 3
   },
   "file_extension": ".py",
   "mimetype": "text/x-python",
   "name": "python",
   "nbconvert_exporter": "python",
   "pygments_lexer": "ipython3",
   "version": "3.9.16"
  }
 },
 "nbformat": 4,
 "nbformat_minor": 5
}
