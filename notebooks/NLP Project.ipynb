{
 "cells": [
  {
   "cell_type": "markdown",
   "id": "f02f2231",
   "metadata": {},
   "source": [
    "## Collecting and Preparing the Data"
   ]
  },
  {
   "cell_type": "code",
   "execution_count": 1,
   "id": "225cbfe5",
   "metadata": {},
   "outputs": [
    {
     "name": "stderr",
     "output_type": "stream",
     "text": [
      "[nltk_data] Downloading package stopwords to\n",
      "[nltk_data]     /Users/jackiecollopy/nltk_data...\n",
      "[nltk_data]   Package stopwords is already up-to-date!\n",
      "[nltk_data] Downloading package punkt to\n",
      "[nltk_data]     /Users/jackiecollopy/nltk_data...\n",
      "[nltk_data]   Package punkt is already up-to-date!\n"
     ]
    },
    {
     "data": {
      "text/plain": [
       "True"
      ]
     },
     "execution_count": 1,
     "metadata": {},
     "output_type": "execute_result"
    }
   ],
   "source": [
    "# Importing the Necessary Modules\n",
    "from tqdm import tqdm\n",
    "import pandas as pd\n",
    "import praw\n",
    "from collections import Counter\n",
    "from sklearn.model_selection import train_test_split\n",
    "from sklearn.feature_extraction.text import CountVectorizer\n",
    "from sklearn.naive_bayes import MultinomialNB\n",
    "from sklearn.pipeline import make_pipeline\n",
    "from sklearn.metrics import accuracy_score\n",
    "import re\n",
    "import matplotlib.pyplot as plt\n",
    "import nltk\n",
    "from nltk.corpus import stopwords\n",
    "from nltk.tokenize import word_tokenize\n",
    "nltk.download('stopwords')\n",
    "nltk.download('punkt')"
   ]
  },
  {
   "cell_type": "code",
   "execution_count": null,
   "id": "caf7c7d0",
   "metadata": {},
   "outputs": [],
   "source": [
    "# Accessing API\n",
    "user_agent = \"Scraper 1.0 by u/colloj\"\n",
    "\n",
    "reddit = praw.Reddit(client_id='-RlNNaCimqKKkJ_aX1FcKg',\n",
    "                     client_secret='4vSZ7Dm4rtDYXevU8PtIiIK6dtD_Ng',\n",
    "                     user_agent= user_agent)"
   ]
  },
  {
   "cell_type": "code",
   "execution_count": null,
   "id": "73f585b4",
   "metadata": {},
   "outputs": [],
   "source": [
    "# Getting the Data\n",
    "subreddit_name = 'MkeBucks'\n",
    "\n",
    "# Define the string you want to search for in post titles\n",
    "search_string = '[POSTGAME THREAD] Our Milwaukee Bucks'\n",
    "start_date = '2023-10-23'\n",
    "\n",
    "post_names = []\n",
    "comments = []\n",
    "\n",
    "for submission in reddit.subreddit(subreddit_name).search(search_string, time_filter='year', syntax='lucene'):\n",
    "    if '[POSTGAME THREAD]' in submission.title:\n",
    "        print(submission.title)\n"
   ]
  },
  {
   "cell_type": "code",
   "execution_count": null,
   "id": "1a22dbd1",
   "metadata": {},
   "outputs": [],
   "source": [
    "# Getting the Data\n",
    "subreddit_name = 'MkeBucks'\n",
    "\n",
    "# Define the string you want to search for in post titles\n",
    "search_string = '[POSTGAME THREAD] Our Milwaukee Bucks'\n",
    "start_date = '2023-10-23'\n",
    "\n",
    "post_names = []\n",
    "comments = []\n",
    "\n",
    "total_submissions = len(list(reddit.subreddit(subreddit_name).search(search_string, time_filter='year', syntax='lucene')))\n",
    "\n",
    "for submission in tqdm(reddit.subreddit(subreddit_name).search(search_string, time_filter='year', syntax='lucene'), total = total_submissions):\n",
    "    if '[POSTGAME THREAD]' in submission.title:\n",
    "        submission.comments.replace_more(limit=None)\n",
    "        for comment in submission.comments.list():\n",
    "            comments.append(comment.body)\n",
    "            post_names.append(submission.title)\n",
    "\n",
    "post_names, comments"
   ]
  },
  {
   "cell_type": "code",
   "execution_count": null,
   "id": "6f756d2a",
   "metadata": {},
   "outputs": [],
   "source": [
    "# Create a DataFrame from the lists\n",
    "df = pd.DataFrame({'Post_Name': post_names, 'Comment': comments})\n",
    "\n",
    "# Display the DataFrame\n",
    "df.head()"
   ]
  },
  {
   "cell_type": "code",
   "execution_count": null,
   "id": "e9b8311d",
   "metadata": {},
   "outputs": [],
   "source": [
    "df.to_csv(\"bucks.csv\", index = False)"
   ]
  },
  {
   "cell_type": "code",
   "execution_count": 2,
   "id": "cd3135e4",
   "metadata": {},
   "outputs": [
    {
     "data": {
      "text/html": [
       "<div>\n",
       "<style scoped>\n",
       "    .dataframe tbody tr th:only-of-type {\n",
       "        vertical-align: middle;\n",
       "    }\n",
       "\n",
       "    .dataframe tbody tr th {\n",
       "        vertical-align: top;\n",
       "    }\n",
       "\n",
       "    .dataframe thead th {\n",
       "        text-align: right;\n",
       "    }\n",
       "</style>\n",
       "<table border=\"1\" class=\"dataframe\">\n",
       "  <thead>\n",
       "    <tr style=\"text-align: right;\">\n",
       "      <th></th>\n",
       "      <th>Post_Name</th>\n",
       "      <th>Comment</th>\n",
       "    </tr>\n",
       "  </thead>\n",
       "  <tbody>\n",
       "    <tr>\n",
       "      <th>0</th>\n",
       "      <td>[POSTGAME THREAD] Our Milwaukee Bucks (24-10) ...</td>\n",
       "      <td>\\n||\\t\\t\\n|:-:|\\t\\t\\n|[](/MIL) **130 -  140** ...</td>\n",
       "    </tr>\n",
       "    <tr>\n",
       "      <th>1</th>\n",
       "      <td>[POSTGAME THREAD] Our Milwaukee Bucks (24-10) ...</td>\n",
       "      <td>Took too long to pull Brook and Pat out and gi...</td>\n",
       "    </tr>\n",
       "    <tr>\n",
       "      <th>2</th>\n",
       "      <td>[POSTGAME THREAD] Our Milwaukee Bucks (24-10) ...</td>\n",
       "      <td>The Bucks, for whatever reason, look like they...</td>\n",
       "    </tr>\n",
       "    <tr>\n",
       "      <th>3</th>\n",
       "      <td>[POSTGAME THREAD] Our Milwaukee Bucks (24-10) ...</td>\n",
       "      <td>lmfao if brunson tears this team apart tyrese ...</td>\n",
       "    </tr>\n",
       "    <tr>\n",
       "      <th>4</th>\n",
       "      <td>[POSTGAME THREAD] Our Milwaukee Bucks (24-10) ...</td>\n",
       "      <td>Hear me out... \\n\\nFirst blessoe then jrue, sh...</td>\n",
       "    </tr>\n",
       "  </tbody>\n",
       "</table>\n",
       "</div>"
      ],
      "text/plain": [
       "                                           Post_Name  \\\n",
       "0  [POSTGAME THREAD] Our Milwaukee Bucks (24-10) ...   \n",
       "1  [POSTGAME THREAD] Our Milwaukee Bucks (24-10) ...   \n",
       "2  [POSTGAME THREAD] Our Milwaukee Bucks (24-10) ...   \n",
       "3  [POSTGAME THREAD] Our Milwaukee Bucks (24-10) ...   \n",
       "4  [POSTGAME THREAD] Our Milwaukee Bucks (24-10) ...   \n",
       "\n",
       "                                             Comment  \n",
       "0  \\n||\\t\\t\\n|:-:|\\t\\t\\n|[](/MIL) **130 -  140** ...  \n",
       "1  Took too long to pull Brook and Pat out and gi...  \n",
       "2  The Bucks, for whatever reason, look like they...  \n",
       "3  lmfao if brunson tears this team apart tyrese ...  \n",
       "4  Hear me out... \\n\\nFirst blessoe then jrue, sh...  "
      ]
     },
     "execution_count": 2,
     "metadata": {},
     "output_type": "execute_result"
    }
   ],
   "source": [
    "df = pd.read_csv(\"bucks.csv\")\n",
    "df.head()"
   ]
  },
  {
   "cell_type": "code",
   "execution_count": 3,
   "id": "12a4c7b9",
   "metadata": {},
   "outputs": [
    {
     "data": {
      "text/plain": [
       "array(['[POSTGAME THREAD] Our Milwaukee Bucks (24-10) sputter - 1/3/2024',\n",
       "       '[POSTGAME THREAD] Our Milwaukee Bucks (41 - 21) defeat the Los Angeles Clippers (39 - 21) - 113 - 106 - 3/4/2024',\n",
       "       '[POSTGAME THREAD] Our Milwaukee Bucks (35 - 21) fall to the Memphis Grizzlies (20 - 36) - 110 - 113 - 2/15/2024',\n",
       "       '[POSTGAME THREAD] Our Milwaukee Bucks (1-0) defeat the Philadelphia 76ers (0-1) 118-117 in their season opener - 10/26/2023',\n",
       "       '[POSTGAME THREAD] Our Milwaukee Bucks (32 - 16) fall to the Portland Trailblazers (14 - 34) - 116 - 119 - 1/31/2024',\n",
       "       '[POSTGAME THREAD] Our Milwaukee Bucks (41 - 23) fall to The Los Angeles Lakers (35 - 30) - 122 - 123 - 3/8/2024',\n",
       "       '[POSTGAME THREAD] Our Milwaukee Bucks (42- 23) defeat the Los Angeles Clippers (41 - 22) - 124 - 117 - 3/10/2024',\n",
       "       '[POSTGAME THREAD] Our Milwaukee Bucks (2-2) fall to the Toronto Raptors (2-3) 111-130 - 11/1/2023',\n",
       "       '[POSTGAME THREAD] Our Milwaukee Bucks (5-2) defeat the Detroit Pistons (2-7) - 120 -118 - 11/8/2023',\n",
       "       '[POSTGAME THREAD] Our Milwaukee Bucks (25-11) fall to the Houston Rockets (18-16) - 108 - 112 - 1/6/2024',\n",
       "       '[POSTGAME THREAD] Our Milwaukee Bucks (32 - 15) fall to the Denver Nuggets (33 - 15) - 107 - 113 - 1/27/2024',\n",
       "       '[POSTGAME THREAD] Our Milwaukee Bucks (33 - 16) defeat the Dallas Mavericks (26 - 23) - 129 - 117 - 2/03/2024',\n",
       "       '[POSTGAME THREAD] Our Milwaukee Bucks (4-2) defeat the Brooklyn Nets (3-4) - 129 -125 - 11/6/2023',\n",
       "       '[POSTGAME THREAD] Our Milwaukee Bucks (25-12) fall to the Utah Jazz (17-21) - 116 - 132 - 1/8/2024',\n",
       "       '[POSTGAME THREAD] Our Milwaukee Bucks (26-12) trounce the Boston Celtics (29-9) - 135 - 102 - 1/11/2024',\n",
       "       '[POSTGAME THREAD] Our Milwaukee Bucks (37 - 21) defeat the Philadelphia 76ers (39 - 17) - 119 - 98 - 2/25/2024',\n",
       "       '[POSTGAME THREAD] Our Milwaukee Bucks (36 - 21) defeat the Minnesota Timberwolves (39 - 17) - 112 - 117 - 2/23/2024',\n",
       "       '[POSTGAME THREAD] Our Milwaukee Bucks (5-4) fall to the Orlando Magic (5-4) - 97 -112 - 11/11/2023',\n",
       "       '[POSTGAME THREAD] Our Milwaukee Bucks (43- 24) defeat the Philadelphia 76ers (36 - 30) - 112 - 107 - 3/14/2024',\n",
       "       '[POSTGAME THREAD] Our Milwaukee Bucks (28 - 12) defeat the Sacramento Kings (23 - 15) - 143 - 142 - 1/14/2024',\n",
       "       '[POSTGAME THREAD] Our Milwaukee Bucks (10-5) fall to the Boston Celtics (12-3) - 116 - 119 - 11/22/2023',\n",
       "       '[POSTGAME THREAD] Our Milwaukee Bucks (25-10) defeat the San Antonio Spurs (5-29) - 125 - 121 - 1/4/2024',\n",
       "       '[POSTGAME THREAD] Our Milwaukee Bucks (9-4) defeat the Dallas Mavericks (9-4) - 132 - 125 - 11/18/2023',\n",
       "       '[POSTGAME THREAD] Our Milwaukee Bucks (11-5) defeat the Washingon Wizards (2-13) - 131 - 128 - 11/24/2023',\n",
       "       '[POSTGAME THREAD] Our Milwaukee Bucks (33 - 17) fall to the Utah Jazz (25 - 26) - 108 - 123 - 2/04/2024',\n",
       "       '[POSTGAME THREAD] Our Milwaukee Bucks (40 - 21) defeat the Chicago Bulls (15 - 44) - 113 - 97 - 3/1/2024',\n",
       "       '[POSTGAME THREAD] Our Milwaukee Bucks (24-9) fall to the Indiana Pacers (18-14) - 113 - 122 - 1/1/2024',\n",
       "       '[POSTGAME THREAD] Our Milwaukee Bucks (42- 24) fall to the Sacramento Kings (37 - 27) - 94 - 129 - 3/12/2024',\n",
       "       '[POSTGAME THREAD] Our Milwaukee Bucks (1-4) are defeated by the Miami Heat (4-1) at home by the score of 126-128 in overtime in game five of their Eastern Conference quarterfinals playoff series, ending Bucks series in first round - 04/26/2023',\n",
       "       '[POSTGAME THREAD] Our Milwaukee Bucks (31 - 13) defeat the Clevland Cavaliers (26 - 16) - 126 - 116 - 1/24/2024',\n",
       "       '[POSTGAME THREAD] Our Milwaukee Bucks (35 - 19) defeat the Denver Nuggets (36 - 18) - 112 - 95 - 2/12/2024',\n",
       "       '[POSTGAME THREAD] Our Milwaukee Bucks (16-7) defeat the Chicago Bulls (9-15) in overtime - 133- 129 - 12/11/2023',\n",
       "       '[POSTGAME THREAD] Our Milwaukee Bucks (2-1) beat the Miami Heat (1-3) 122-114 - 10/20/2023',\n",
       "       '[POSTGAME THREAD] Our Milwaukee Bucks (35 - 20) fall to the Miami Heat (29 - 25) - 97 - 123 - 2/13/2024',\n",
       "       '[POSTGAME THREAD] Our Milwaukee Bucks (33 - 19) fall to the Minnesota Timberwolves (36 - 15) - 105 - 129 - 2/8/2024',\n",
       "       '[POSTGAME THREAD] Our Milwaukee Bucks (5-3) fall to the Indiana Pacers (6-3) - 124 -126 - 11/9/2023',\n",
       "       '[POSTGAME THREAD] Our Milwaukee Bucks (22-8) fall to the New York Knicks (17-12) - 122 - 129 - 12/23/2023',\n",
       "       '[POSTGAME THREAD] Our Milwaukee Bucks (41 - 22) fall to the Golden State Warriors (33 - 28) - 90 - 125 - 3/6/2024',\n",
       "       '[POSTGAME THREAD] Our Milwaukee Bucks (13-5) win East Group B by defeating the Miami Heat (10-8) - 131 - 124 - 11/28/2023',\n",
       "       '[POSTGAME THREAD] Our Milwaukee Bucks (13-6) fall to the Chicago Bulls (6-14) in overtime - 120 - 113 - 11/30/2023',\n",
       "       '[POSTGAME THREAD] Our Milwaukee Bucks (29 - 13) defeat the Detroit Pistons (4 - 38) - 141 - 135 - 1/20/2024',\n",
       "       '[POSTGAME THREAD] Our Milwaukee Bucks (38 - 21) defeat the Charlotte Hornets (15 - 43) - 123 - 85 - 2/27/2024',\n",
       "       \"[POSTGAME THREAD] Our Milwaukee Bucks (17-7) defeat the Indiana Pacers (13-9) led by Giannis' Franchise Record 64 Points - 140- 126 - 12/13/2023\",\n",
       "       '[POSTGAME THREAD] Our Milwaukee Bucks (7-4) defeat the Toronto Raptors (5-6) - 128 -112 - 11/15/2023',\n",
       "       '[POSTGAME THREAD] Our Milwaukee Bucks (27 - 12) defeat the Golden State Warriors (18 - 21) - 127 - 118 - 1/13/2024',\n",
       "       '[POSTGAME THREAD] Our Milwaukee Bucks (8-4) defeat the Charlotte Hornets (3-7) - 130 - 99 - 11/17/2023',\n",
       "       '[POSTGAME THREAD] Our Milwaukee Bucks (22-7) defeat the New York Knicks (16-12) - 130 - 111 - 12/23/2023',\n",
       "       '[POSTGAME THREAD] Our Milwaukee Bucks (14-6) defeat the Atlanta Hawks (9-10) - 132 - 121 - 12/2/2023',\n",
       "       '[POSTGAME THREAD] Our Milwaukee Bucks (19-7) defeat the Houston Rockets (13-10) - 128- 119 - 12/17/2023',\n",
       "       '[POSTGAME THREAD] Our Milwaukee Bucks (23-8) beat the Brooklyn Nets (15-16) - 144 - 122 - 12/27/2023',\n",
       "       '[POSTGAME THREAD] Our Milwaukee Bucks (33 - 18) fall to the Phoenix Suns (30 - 21) - 106 - 114 - 2/06/2024',\n",
       "       '[POSTGAME THREAD] Our Milwaukee Bucks (1-1) fall to the Atlanta Hawks (1-2) 110-127 - 10/29/2023',\n",
       "       '[POSTGAME THREAD] Our Milwaukee Bucks (24-8) beat the Clevland Cavaliers (18-14) - 119 - 112 - 12/29/2023',\n",
       "       '[POSTGAME THREAD] Our Milwaukee Bucks (28 - 13) fall to the Clevland Cavaliers (24 - 15) - 95 - 135 - 1/17/2024',\n",
       "       '[POSTGAME THREAD] Our Milwaukee Bucks (12-5) complete the biggest comeback in the NBA this season, defeating the Portland Trailblazers (4-12) - 108 - 102 - 11/26/2023',\n",
       "       '[POSTGAME THREAD] Our Milwaukee Bucks (21-7) defeat the Orlando Magic (16-11) - 118 - 114 - 12/21/2023',\n",
       "       '[POSTGAME THREAD] Our Milwaukee Bucks (10-4) defeat the Washington Wizards (2-11) - 142 - 129 - 11/20/2023',\n",
       "       '[POSTGAME THREAD] Our Milwaukee Bucks (30 - 13) defeat the Detroit Pistons (4 - 39) - 122 - 113 - 1/22/2024',\n",
       "       '[POSTGAME THREAD] Our Milwaukee Bucks (31 - 14) fall to the Cleveland Cavaliers (27 - 16) - 102 - 110 - 1/26/2024',\n",
       "       '[POSTGAME THREAD] Our Milwaukee Bucks (1-3) are defeated by the Miami Heat (3-1) on the road by the score of 114-119 in game four of their Eastern Conference quarterfinals playoff series - 04/24/2023',\n",
       "       '[POSTGAME THREAD] Our Milwaukee Bucks (20-7) defeat the San Antonio Spurs (4-22) - 132 - 119 - 12/19/2023',\n",
       "       '[POSTGAME THREAD] Our Milwaukee Bucks (18-7) defeat the Detroit Pistons (2-25) - 146- 114 - 12/16/2023',\n",
       "       '[POSTGAME THREAD] Our Milwaukee Bucks (32 - 14) defeat the New Orleans Pelicans (26 - 20) - 141 - 117 - 1/27/2024',\n",
       "       '[POSTGAME THREAD] Our Milwaukee Bucks (34 - 19) defeat the Charlotte Hornets (10 - 41) - 120 - 84 - 2/9/2024',\n",
       "       '[POSTGAME THREAD] Our Milwaukee Bucks (39 - 21) defeat the Charlotte Hornets (15 - 44) - 111 - 99 - 2/29/2024',\n",
       "       '[POSTGAME THREAD] Our Milwaukee Bucks (6-4) defeat the Chicago Bulls (4-6) - 118 -109 - 11/13/2023',\n",
       "       '[POSTGAME THREAD] Our Milwaukee Bucks (1-2) are defeated by the Miami Heat (2-1) on the road by the score of 99-121 in game three of their Eastern Conference quarterfinals playoff series - 04/22/2023',\n",
       "       '[POSTGAME THREAD] Our Milwaukee Bucks (1-1) set franchise record for playoff 3PM as they narrowly defeat the Miami Heat (1-1) at home by the score of 138-122 in game two of their Eastern Conference quarterfinals playoff series - 04/19/2023',\n",
       "       '[POSTGAME THREAD] [IN-SEASON TOURNAMENT] Our Milwaukee Bucks (3-2) defeat the New York Knicks (2-4) 110-105 - 11/3/2023',\n",
       "       '[POSTGAME THREAD] Giannis exits with an early injury, our Milwaukee Bucks (0-1) are defeated by the Miami Heat (1-0) at home by the score of 117-130 in game one of their Eastern Conference quarterfinals playoff series - 04/16/2023',\n",
       "       '[POSTGAME THREAD] Miami Heat earn 8th seed by defeating Chicago Bulls by the score of 102-91, will face Milwaukee Bucks in first round'],\n",
       "      dtype=object)"
      ]
     },
     "execution_count": 3,
     "metadata": {},
     "output_type": "execute_result"
    }
   ],
   "source": [
    "df[\"Post_Name\"].unique()"
   ]
  },
  {
   "cell_type": "code",
   "execution_count": 4,
   "id": "1f2b3e8c",
   "metadata": {},
   "outputs": [
    {
     "data": {
      "text/html": [
       "<div>\n",
       "<style scoped>\n",
       "    .dataframe tbody tr th:only-of-type {\n",
       "        vertical-align: middle;\n",
       "    }\n",
       "\n",
       "    .dataframe tbody tr th {\n",
       "        vertical-align: top;\n",
       "    }\n",
       "\n",
       "    .dataframe thead th {\n",
       "        text-align: right;\n",
       "    }\n",
       "</style>\n",
       "<table border=\"1\" class=\"dataframe\">\n",
       "  <thead>\n",
       "    <tr style=\"text-align: right;\">\n",
       "      <th></th>\n",
       "      <th>Post_Name</th>\n",
       "      <th>Comment</th>\n",
       "      <th>Date</th>\n",
       "    </tr>\n",
       "  </thead>\n",
       "  <tbody>\n",
       "    <tr>\n",
       "      <th>0</th>\n",
       "      <td>[POSTGAME THREAD] Our Milwaukee Bucks (24-10) ...</td>\n",
       "      <td>\\n||\\t\\t\\n|:-:|\\t\\t\\n|[](/MIL) **130 -  140** ...</td>\n",
       "      <td>1/3/2024</td>\n",
       "    </tr>\n",
       "    <tr>\n",
       "      <th>1</th>\n",
       "      <td>[POSTGAME THREAD] Our Milwaukee Bucks (24-10) ...</td>\n",
       "      <td>Took too long to pull Brook and Pat out and gi...</td>\n",
       "      <td>1/3/2024</td>\n",
       "    </tr>\n",
       "    <tr>\n",
       "      <th>2</th>\n",
       "      <td>[POSTGAME THREAD] Our Milwaukee Bucks (24-10) ...</td>\n",
       "      <td>The Bucks, for whatever reason, look like they...</td>\n",
       "      <td>1/3/2024</td>\n",
       "    </tr>\n",
       "    <tr>\n",
       "      <th>3</th>\n",
       "      <td>[POSTGAME THREAD] Our Milwaukee Bucks (24-10) ...</td>\n",
       "      <td>lmfao if brunson tears this team apart tyrese ...</td>\n",
       "      <td>1/3/2024</td>\n",
       "    </tr>\n",
       "    <tr>\n",
       "      <th>4</th>\n",
       "      <td>[POSTGAME THREAD] Our Milwaukee Bucks (24-10) ...</td>\n",
       "      <td>Hear me out... \\n\\nFirst blessoe then jrue, sh...</td>\n",
       "      <td>1/3/2024</td>\n",
       "    </tr>\n",
       "  </tbody>\n",
       "</table>\n",
       "</div>"
      ],
      "text/plain": [
       "                                           Post_Name  \\\n",
       "0  [POSTGAME THREAD] Our Milwaukee Bucks (24-10) ...   \n",
       "1  [POSTGAME THREAD] Our Milwaukee Bucks (24-10) ...   \n",
       "2  [POSTGAME THREAD] Our Milwaukee Bucks (24-10) ...   \n",
       "3  [POSTGAME THREAD] Our Milwaukee Bucks (24-10) ...   \n",
       "4  [POSTGAME THREAD] Our Milwaukee Bucks (24-10) ...   \n",
       "\n",
       "                                             Comment      Date  \n",
       "0  \\n||\\t\\t\\n|:-:|\\t\\t\\n|[](/MIL) **130 -  140** ...  1/3/2024  \n",
       "1  Took too long to pull Brook and Pat out and gi...  1/3/2024  \n",
       "2  The Bucks, for whatever reason, look like they...  1/3/2024  \n",
       "3  lmfao if brunson tears this team apart tyrese ...  1/3/2024  \n",
       "4  Hear me out... \\n\\nFirst blessoe then jrue, sh...  1/3/2024  "
      ]
     },
     "execution_count": 4,
     "metadata": {},
     "output_type": "execute_result"
    }
   ],
   "source": [
    "# Getting the Dates\n",
    "def get_after_last_space(string):\n",
    "    return string.split(' ')[-1]\n",
    "df[\"Date\"] = df[\"Post_Name\"].apply(get_after_last_space)\n",
    "df.head()"
   ]
  },
  {
   "cell_type": "code",
   "execution_count": 5,
   "id": "8a99b009",
   "metadata": {},
   "outputs": [
    {
     "data": {
      "text/plain": [
       "0        True\n",
       "1        True\n",
       "2        True\n",
       "3        True\n",
       "4        True\n",
       "         ... \n",
       "15847    True\n",
       "15848    True\n",
       "15849    True\n",
       "15850    True\n",
       "15851    True\n",
       "Name: Comment, Length: 15852, dtype: bool"
      ]
     },
     "execution_count": 5,
     "metadata": {},
     "output_type": "execute_result"
    }
   ],
   "source": [
    "string = \"\\n||\\t\\t\\n|:-:|\"\n",
    "string_rows = df[\"Comment\"].str.contains(r'\\n||\\t\\t\\n|:-:|', regex = True)\n",
    "string_rows"
   ]
  },
  {
   "cell_type": "code",
   "execution_count": 6,
   "id": "230d247a",
   "metadata": {},
   "outputs": [
    {
     "data": {
      "text/plain": [
       "array(['1/3/2024', '3/4/2024', '2/15/2024', '10/26/2023', '1/31/2024',\n",
       "       '3/8/2024', '3/10/2024', '11/1/2023', '11/8/2023', '1/6/2024',\n",
       "       '1/27/2024', '2/03/2024', '11/6/2023', '1/8/2024', '1/11/2024',\n",
       "       '2/25/2024', '2/23/2024', '11/11/2023', '3/14/2024', '1/14/2024',\n",
       "       '11/22/2023', '1/4/2024', '11/18/2023', '11/24/2023', '2/04/2024',\n",
       "       '3/1/2024', '1/1/2024', '3/12/2024', '04/26/2023', '1/24/2024',\n",
       "       '2/12/2024', '12/11/2023', '10/20/2023', '2/13/2024', '2/8/2024',\n",
       "       '11/9/2023', '12/23/2023', '3/6/2024', '11/28/2023', '11/30/2023',\n",
       "       '1/20/2024', '2/27/2024', '12/13/2023', '11/15/2023', '1/13/2024',\n",
       "       '11/17/2023', '12/2/2023', '12/17/2023', '12/27/2023', '2/06/2024',\n",
       "       '10/29/2023', '12/29/2023', '1/17/2024', '11/26/2023',\n",
       "       '12/21/2023', '11/20/2023', '1/22/2024', '1/26/2024', '04/24/2023',\n",
       "       '12/19/2023', '12/16/2023', '2/9/2024', '2/29/2024', '11/13/2023',\n",
       "       '04/22/2023', '04/19/2023', '11/3/2023', '04/16/2023', 'round'],\n",
       "      dtype=object)"
      ]
     },
     "execution_count": 6,
     "metadata": {},
     "output_type": "execute_result"
    }
   ],
   "source": [
    "df[\"Date\"].unique()"
   ]
  },
  {
   "cell_type": "code",
   "execution_count": 7,
   "id": "36c1f8df",
   "metadata": {},
   "outputs": [
    {
     "data": {
      "text/plain": [
       "array(['1/3/2024', '3/4/2024', '2/15/2024', '10/26/2023', '1/31/2024',\n",
       "       '3/8/2024', '3/10/2024', '11/1/2023', '11/8/2023', '1/6/2024',\n",
       "       '1/27/2024', '2/03/2024', '11/6/2023', '1/8/2024', '1/11/2024',\n",
       "       '2/25/2024', '2/23/2024', '11/11/2023', '3/14/2024', '1/14/2024',\n",
       "       '11/22/2023', '1/4/2024', '11/18/2023', '11/24/2023', '2/04/2024',\n",
       "       '3/1/2024', '1/1/2024', '3/12/2024', '04/26/2023', '1/24/2024',\n",
       "       '2/12/2024', '12/11/2023', '10/20/2023', '2/13/2024', '2/8/2024',\n",
       "       '11/9/2023', '12/23/2023', '3/6/2024', '11/28/2023', '11/30/2023',\n",
       "       '1/20/2024', '2/27/2024', '12/13/2023', '11/15/2023', '1/13/2024',\n",
       "       '11/17/2023', '12/2/2023', '12/17/2023', '12/27/2023', '2/06/2024',\n",
       "       '10/29/2023', '12/29/2023', '1/17/2024', '11/26/2023',\n",
       "       '12/21/2023', '11/20/2023', '1/22/2024', '1/26/2024', '04/24/2023',\n",
       "       '12/19/2023', '12/16/2023', '2/9/2024', '2/29/2024', '11/13/2023',\n",
       "       '04/22/2023', '04/19/2023', '11/3/2023', '04/16/2023'],\n",
       "      dtype=object)"
      ]
     },
     "execution_count": 7,
     "metadata": {},
     "output_type": "execute_result"
    }
   ],
   "source": [
    "df = df[df[\"Date\"] != \"round\"]\n",
    "df[\"Date\"].unique()"
   ]
  },
  {
   "cell_type": "code",
   "execution_count": 8,
   "id": "150e0ec2",
   "metadata": {},
   "outputs": [
    {
     "data": {
      "text/html": [
       "<div>\n",
       "<style scoped>\n",
       "    .dataframe tbody tr th:only-of-type {\n",
       "        vertical-align: middle;\n",
       "    }\n",
       "\n",
       "    .dataframe tbody tr th {\n",
       "        vertical-align: top;\n",
       "    }\n",
       "\n",
       "    .dataframe thead th {\n",
       "        text-align: right;\n",
       "    }\n",
       "</style>\n",
       "<table border=\"1\" class=\"dataframe\">\n",
       "  <thead>\n",
       "    <tr style=\"text-align: right;\">\n",
       "      <th></th>\n",
       "      <th>Post_Name</th>\n",
       "      <th>Comment</th>\n",
       "      <th>Date</th>\n",
       "    </tr>\n",
       "  </thead>\n",
       "  <tbody>\n",
       "    <tr>\n",
       "      <th>0</th>\n",
       "      <td>[POSTGAME THREAD] Our Milwaukee Bucks (24-10) ...</td>\n",
       "      <td>\\n||\\t\\t\\n|:-:|\\t\\t\\n|[](/MIL) **130 -  140** ...</td>\n",
       "      <td>2024-01-03</td>\n",
       "    </tr>\n",
       "    <tr>\n",
       "      <th>1</th>\n",
       "      <td>[POSTGAME THREAD] Our Milwaukee Bucks (24-10) ...</td>\n",
       "      <td>Took too long to pull Brook and Pat out and gi...</td>\n",
       "      <td>2024-01-03</td>\n",
       "    </tr>\n",
       "    <tr>\n",
       "      <th>2</th>\n",
       "      <td>[POSTGAME THREAD] Our Milwaukee Bucks (24-10) ...</td>\n",
       "      <td>The Bucks, for whatever reason, look like they...</td>\n",
       "      <td>2024-01-03</td>\n",
       "    </tr>\n",
       "    <tr>\n",
       "      <th>3</th>\n",
       "      <td>[POSTGAME THREAD] Our Milwaukee Bucks (24-10) ...</td>\n",
       "      <td>lmfao if brunson tears this team apart tyrese ...</td>\n",
       "      <td>2024-01-03</td>\n",
       "    </tr>\n",
       "    <tr>\n",
       "      <th>4</th>\n",
       "      <td>[POSTGAME THREAD] Our Milwaukee Bucks (24-10) ...</td>\n",
       "      <td>Hear me out... \\n\\nFirst blessoe then jrue, sh...</td>\n",
       "      <td>2024-01-03</td>\n",
       "    </tr>\n",
       "  </tbody>\n",
       "</table>\n",
       "</div>"
      ],
      "text/plain": [
       "                                           Post_Name  \\\n",
       "0  [POSTGAME THREAD] Our Milwaukee Bucks (24-10) ...   \n",
       "1  [POSTGAME THREAD] Our Milwaukee Bucks (24-10) ...   \n",
       "2  [POSTGAME THREAD] Our Milwaukee Bucks (24-10) ...   \n",
       "3  [POSTGAME THREAD] Our Milwaukee Bucks (24-10) ...   \n",
       "4  [POSTGAME THREAD] Our Milwaukee Bucks (24-10) ...   \n",
       "\n",
       "                                             Comment       Date  \n",
       "0  \\n||\\t\\t\\n|:-:|\\t\\t\\n|[](/MIL) **130 -  140** ... 2024-01-03  \n",
       "1  Took too long to pull Brook and Pat out and gi... 2024-01-03  \n",
       "2  The Bucks, for whatever reason, look like they... 2024-01-03  \n",
       "3  lmfao if brunson tears this team apart tyrese ... 2024-01-03  \n",
       "4  Hear me out... \\n\\nFirst blessoe then jrue, sh... 2024-01-03  "
      ]
     },
     "execution_count": 8,
     "metadata": {},
     "output_type": "execute_result"
    }
   ],
   "source": [
    "df['Date'] = pd.to_datetime(df['Date'])\n",
    "df.head()"
   ]
  },
  {
   "cell_type": "code",
   "execution_count": 9,
   "id": "06d0da79",
   "metadata": {},
   "outputs": [
    {
     "data": {
      "text/html": [
       "<div>\n",
       "<style scoped>\n",
       "    .dataframe tbody tr th:only-of-type {\n",
       "        vertical-align: middle;\n",
       "    }\n",
       "\n",
       "    .dataframe tbody tr th {\n",
       "        vertical-align: top;\n",
       "    }\n",
       "\n",
       "    .dataframe thead th {\n",
       "        text-align: right;\n",
       "    }\n",
       "</style>\n",
       "<table border=\"1\" class=\"dataframe\">\n",
       "  <thead>\n",
       "    <tr style=\"text-align: right;\">\n",
       "      <th></th>\n",
       "      <th>Post_Name</th>\n",
       "      <th>Comment</th>\n",
       "      <th>Date</th>\n",
       "    </tr>\n",
       "  </thead>\n",
       "  <tbody>\n",
       "    <tr>\n",
       "      <th>0</th>\n",
       "      <td>[POSTGAME THREAD] Our Milwaukee Bucks (24-10) ...</td>\n",
       "      <td>\\n||\\t\\t\\n|:-:|\\t\\t\\n|[](/MIL) **130 -  140** ...</td>\n",
       "      <td>2024-01-03</td>\n",
       "    </tr>\n",
       "    <tr>\n",
       "      <th>1</th>\n",
       "      <td>[POSTGAME THREAD] Our Milwaukee Bucks (24-10) ...</td>\n",
       "      <td>Took too long to pull Brook and Pat out and gi...</td>\n",
       "      <td>2024-01-03</td>\n",
       "    </tr>\n",
       "    <tr>\n",
       "      <th>2</th>\n",
       "      <td>[POSTGAME THREAD] Our Milwaukee Bucks (24-10) ...</td>\n",
       "      <td>The Bucks, for whatever reason, look like they...</td>\n",
       "      <td>2024-01-03</td>\n",
       "    </tr>\n",
       "    <tr>\n",
       "      <th>3</th>\n",
       "      <td>[POSTGAME THREAD] Our Milwaukee Bucks (24-10) ...</td>\n",
       "      <td>lmfao if brunson tears this team apart tyrese ...</td>\n",
       "      <td>2024-01-03</td>\n",
       "    </tr>\n",
       "    <tr>\n",
       "      <th>4</th>\n",
       "      <td>[POSTGAME THREAD] Our Milwaukee Bucks (24-10) ...</td>\n",
       "      <td>Hear me out... \\n\\nFirst blessoe then jrue, sh...</td>\n",
       "      <td>2024-01-03</td>\n",
       "    </tr>\n",
       "  </tbody>\n",
       "</table>\n",
       "</div>"
      ],
      "text/plain": [
       "                                           Post_Name  \\\n",
       "0  [POSTGAME THREAD] Our Milwaukee Bucks (24-10) ...   \n",
       "1  [POSTGAME THREAD] Our Milwaukee Bucks (24-10) ...   \n",
       "2  [POSTGAME THREAD] Our Milwaukee Bucks (24-10) ...   \n",
       "3  [POSTGAME THREAD] Our Milwaukee Bucks (24-10) ...   \n",
       "4  [POSTGAME THREAD] Our Milwaukee Bucks (24-10) ...   \n",
       "\n",
       "                                             Comment       Date  \n",
       "0  \\n||\\t\\t\\n|:-:|\\t\\t\\n|[](/MIL) **130 -  140** ... 2024-01-03  \n",
       "1  Took too long to pull Brook and Pat out and gi... 2024-01-03  \n",
       "2  The Bucks, for whatever reason, look like they... 2024-01-03  \n",
       "3  lmfao if brunson tears this team apart tyrese ... 2024-01-03  \n",
       "4  Hear me out... \\n\\nFirst blessoe then jrue, sh... 2024-01-03  "
      ]
     },
     "execution_count": 9,
     "metadata": {},
     "output_type": "execute_result"
    }
   ],
   "source": [
    "# Getting Data For This Season\n",
    "df = df[df[\"Date\"] >= \"2023-10-26\"]\n",
    "df.head()"
   ]
  },
  {
   "cell_type": "code",
   "execution_count": 10,
   "id": "c989b9d3",
   "metadata": {},
   "outputs": [
    {
     "data": {
      "text/plain": [
       "array(['[POSTGAME THREAD] Our Milwaukee Bucks (24-10) sputter - 1/3/2024',\n",
       "       '[POSTGAME THREAD] Our Milwaukee Bucks (41 - 21) defeat the Los Angeles Clippers (39 - 21) - 113 - 106 - 3/4/2024',\n",
       "       '[POSTGAME THREAD] Our Milwaukee Bucks (35 - 21) fall to the Memphis Grizzlies (20 - 36) - 110 - 113 - 2/15/2024',\n",
       "       '[POSTGAME THREAD] Our Milwaukee Bucks (1-0) defeat the Philadelphia 76ers (0-1) 118-117 in their season opener - 10/26/2023',\n",
       "       '[POSTGAME THREAD] Our Milwaukee Bucks (32 - 16) fall to the Portland Trailblazers (14 - 34) - 116 - 119 - 1/31/2024',\n",
       "       '[POSTGAME THREAD] Our Milwaukee Bucks (41 - 23) fall to The Los Angeles Lakers (35 - 30) - 122 - 123 - 3/8/2024',\n",
       "       '[POSTGAME THREAD] Our Milwaukee Bucks (42- 23) defeat the Los Angeles Clippers (41 - 22) - 124 - 117 - 3/10/2024',\n",
       "       '[POSTGAME THREAD] Our Milwaukee Bucks (2-2) fall to the Toronto Raptors (2-3) 111-130 - 11/1/2023',\n",
       "       '[POSTGAME THREAD] Our Milwaukee Bucks (5-2) defeat the Detroit Pistons (2-7) - 120 -118 - 11/8/2023',\n",
       "       '[POSTGAME THREAD] Our Milwaukee Bucks (25-11) fall to the Houston Rockets (18-16) - 108 - 112 - 1/6/2024',\n",
       "       '[POSTGAME THREAD] Our Milwaukee Bucks (32 - 15) fall to the Denver Nuggets (33 - 15) - 107 - 113 - 1/27/2024',\n",
       "       '[POSTGAME THREAD] Our Milwaukee Bucks (33 - 16) defeat the Dallas Mavericks (26 - 23) - 129 - 117 - 2/03/2024',\n",
       "       '[POSTGAME THREAD] Our Milwaukee Bucks (4-2) defeat the Brooklyn Nets (3-4) - 129 -125 - 11/6/2023',\n",
       "       '[POSTGAME THREAD] Our Milwaukee Bucks (25-12) fall to the Utah Jazz (17-21) - 116 - 132 - 1/8/2024',\n",
       "       '[POSTGAME THREAD] Our Milwaukee Bucks (26-12) trounce the Boston Celtics (29-9) - 135 - 102 - 1/11/2024',\n",
       "       '[POSTGAME THREAD] Our Milwaukee Bucks (37 - 21) defeat the Philadelphia 76ers (39 - 17) - 119 - 98 - 2/25/2024',\n",
       "       '[POSTGAME THREAD] Our Milwaukee Bucks (36 - 21) defeat the Minnesota Timberwolves (39 - 17) - 112 - 117 - 2/23/2024',\n",
       "       '[POSTGAME THREAD] Our Milwaukee Bucks (5-4) fall to the Orlando Magic (5-4) - 97 -112 - 11/11/2023',\n",
       "       '[POSTGAME THREAD] Our Milwaukee Bucks (43- 24) defeat the Philadelphia 76ers (36 - 30) - 112 - 107 - 3/14/2024',\n",
       "       '[POSTGAME THREAD] Our Milwaukee Bucks (28 - 12) defeat the Sacramento Kings (23 - 15) - 143 - 142 - 1/14/2024',\n",
       "       '[POSTGAME THREAD] Our Milwaukee Bucks (10-5) fall to the Boston Celtics (12-3) - 116 - 119 - 11/22/2023',\n",
       "       '[POSTGAME THREAD] Our Milwaukee Bucks (25-10) defeat the San Antonio Spurs (5-29) - 125 - 121 - 1/4/2024',\n",
       "       '[POSTGAME THREAD] Our Milwaukee Bucks (9-4) defeat the Dallas Mavericks (9-4) - 132 - 125 - 11/18/2023',\n",
       "       '[POSTGAME THREAD] Our Milwaukee Bucks (11-5) defeat the Washingon Wizards (2-13) - 131 - 128 - 11/24/2023',\n",
       "       '[POSTGAME THREAD] Our Milwaukee Bucks (33 - 17) fall to the Utah Jazz (25 - 26) - 108 - 123 - 2/04/2024',\n",
       "       '[POSTGAME THREAD] Our Milwaukee Bucks (40 - 21) defeat the Chicago Bulls (15 - 44) - 113 - 97 - 3/1/2024',\n",
       "       '[POSTGAME THREAD] Our Milwaukee Bucks (24-9) fall to the Indiana Pacers (18-14) - 113 - 122 - 1/1/2024',\n",
       "       '[POSTGAME THREAD] Our Milwaukee Bucks (42- 24) fall to the Sacramento Kings (37 - 27) - 94 - 129 - 3/12/2024',\n",
       "       '[POSTGAME THREAD] Our Milwaukee Bucks (31 - 13) defeat the Clevland Cavaliers (26 - 16) - 126 - 116 - 1/24/2024',\n",
       "       '[POSTGAME THREAD] Our Milwaukee Bucks (35 - 19) defeat the Denver Nuggets (36 - 18) - 112 - 95 - 2/12/2024',\n",
       "       '[POSTGAME THREAD] Our Milwaukee Bucks (16-7) defeat the Chicago Bulls (9-15) in overtime - 133- 129 - 12/11/2023',\n",
       "       '[POSTGAME THREAD] Our Milwaukee Bucks (35 - 20) fall to the Miami Heat (29 - 25) - 97 - 123 - 2/13/2024',\n",
       "       '[POSTGAME THREAD] Our Milwaukee Bucks (33 - 19) fall to the Minnesota Timberwolves (36 - 15) - 105 - 129 - 2/8/2024',\n",
       "       '[POSTGAME THREAD] Our Milwaukee Bucks (5-3) fall to the Indiana Pacers (6-3) - 124 -126 - 11/9/2023',\n",
       "       '[POSTGAME THREAD] Our Milwaukee Bucks (22-8) fall to the New York Knicks (17-12) - 122 - 129 - 12/23/2023',\n",
       "       '[POSTGAME THREAD] Our Milwaukee Bucks (41 - 22) fall to the Golden State Warriors (33 - 28) - 90 - 125 - 3/6/2024',\n",
       "       '[POSTGAME THREAD] Our Milwaukee Bucks (13-5) win East Group B by defeating the Miami Heat (10-8) - 131 - 124 - 11/28/2023',\n",
       "       '[POSTGAME THREAD] Our Milwaukee Bucks (13-6) fall to the Chicago Bulls (6-14) in overtime - 120 - 113 - 11/30/2023',\n",
       "       '[POSTGAME THREAD] Our Milwaukee Bucks (29 - 13) defeat the Detroit Pistons (4 - 38) - 141 - 135 - 1/20/2024',\n",
       "       '[POSTGAME THREAD] Our Milwaukee Bucks (38 - 21) defeat the Charlotte Hornets (15 - 43) - 123 - 85 - 2/27/2024',\n",
       "       \"[POSTGAME THREAD] Our Milwaukee Bucks (17-7) defeat the Indiana Pacers (13-9) led by Giannis' Franchise Record 64 Points - 140- 126 - 12/13/2023\",\n",
       "       '[POSTGAME THREAD] Our Milwaukee Bucks (7-4) defeat the Toronto Raptors (5-6) - 128 -112 - 11/15/2023',\n",
       "       '[POSTGAME THREAD] Our Milwaukee Bucks (27 - 12) defeat the Golden State Warriors (18 - 21) - 127 - 118 - 1/13/2024',\n",
       "       '[POSTGAME THREAD] Our Milwaukee Bucks (8-4) defeat the Charlotte Hornets (3-7) - 130 - 99 - 11/17/2023',\n",
       "       '[POSTGAME THREAD] Our Milwaukee Bucks (22-7) defeat the New York Knicks (16-12) - 130 - 111 - 12/23/2023',\n",
       "       '[POSTGAME THREAD] Our Milwaukee Bucks (14-6) defeat the Atlanta Hawks (9-10) - 132 - 121 - 12/2/2023',\n",
       "       '[POSTGAME THREAD] Our Milwaukee Bucks (19-7) defeat the Houston Rockets (13-10) - 128- 119 - 12/17/2023',\n",
       "       '[POSTGAME THREAD] Our Milwaukee Bucks (23-8) beat the Brooklyn Nets (15-16) - 144 - 122 - 12/27/2023',\n",
       "       '[POSTGAME THREAD] Our Milwaukee Bucks (33 - 18) fall to the Phoenix Suns (30 - 21) - 106 - 114 - 2/06/2024',\n",
       "       '[POSTGAME THREAD] Our Milwaukee Bucks (1-1) fall to the Atlanta Hawks (1-2) 110-127 - 10/29/2023',\n",
       "       '[POSTGAME THREAD] Our Milwaukee Bucks (24-8) beat the Clevland Cavaliers (18-14) - 119 - 112 - 12/29/2023',\n",
       "       '[POSTGAME THREAD] Our Milwaukee Bucks (28 - 13) fall to the Clevland Cavaliers (24 - 15) - 95 - 135 - 1/17/2024',\n",
       "       '[POSTGAME THREAD] Our Milwaukee Bucks (12-5) complete the biggest comeback in the NBA this season, defeating the Portland Trailblazers (4-12) - 108 - 102 - 11/26/2023',\n",
       "       '[POSTGAME THREAD] Our Milwaukee Bucks (21-7) defeat the Orlando Magic (16-11) - 118 - 114 - 12/21/2023',\n",
       "       '[POSTGAME THREAD] Our Milwaukee Bucks (10-4) defeat the Washington Wizards (2-11) - 142 - 129 - 11/20/2023',\n",
       "       '[POSTGAME THREAD] Our Milwaukee Bucks (30 - 13) defeat the Detroit Pistons (4 - 39) - 122 - 113 - 1/22/2024',\n",
       "       '[POSTGAME THREAD] Our Milwaukee Bucks (31 - 14) fall to the Cleveland Cavaliers (27 - 16) - 102 - 110 - 1/26/2024',\n",
       "       '[POSTGAME THREAD] Our Milwaukee Bucks (20-7) defeat the San Antonio Spurs (4-22) - 132 - 119 - 12/19/2023',\n",
       "       '[POSTGAME THREAD] Our Milwaukee Bucks (18-7) defeat the Detroit Pistons (2-25) - 146- 114 - 12/16/2023',\n",
       "       '[POSTGAME THREAD] Our Milwaukee Bucks (32 - 14) defeat the New Orleans Pelicans (26 - 20) - 141 - 117 - 1/27/2024',\n",
       "       '[POSTGAME THREAD] Our Milwaukee Bucks (34 - 19) defeat the Charlotte Hornets (10 - 41) - 120 - 84 - 2/9/2024',\n",
       "       '[POSTGAME THREAD] Our Milwaukee Bucks (39 - 21) defeat the Charlotte Hornets (15 - 44) - 111 - 99 - 2/29/2024',\n",
       "       '[POSTGAME THREAD] Our Milwaukee Bucks (6-4) defeat the Chicago Bulls (4-6) - 118 -109 - 11/13/2023',\n",
       "       '[POSTGAME THREAD] [IN-SEASON TOURNAMENT] Our Milwaukee Bucks (3-2) defeat the New York Knicks (2-4) 110-105 - 11/3/2023'],\n",
       "      dtype=object)"
      ]
     },
     "execution_count": 10,
     "metadata": {},
     "output_type": "execute_result"
    }
   ],
   "source": [
    "df[\"Post_Name\"].unique()"
   ]
  },
  {
   "cell_type": "code",
   "execution_count": 13,
   "id": "27af1d90",
   "metadata": {},
   "outputs": [
    {
     "data": {
      "text/plain": [
       "12266"
      ]
     },
     "execution_count": 13,
     "metadata": {},
     "output_type": "execute_result"
    }
   ],
   "source": [
    "len(df)"
   ]
  },
  {
   "cell_type": "code",
   "execution_count": 17,
   "id": "84123afd",
   "metadata": {},
   "outputs": [
    {
     "data": {
      "text/html": [
       "<div>\n",
       "<style scoped>\n",
       "    .dataframe tbody tr th:only-of-type {\n",
       "        vertical-align: middle;\n",
       "    }\n",
       "\n",
       "    .dataframe tbody tr th {\n",
       "        vertical-align: top;\n",
       "    }\n",
       "\n",
       "    .dataframe thead th {\n",
       "        text-align: right;\n",
       "    }\n",
       "</style>\n",
       "<table border=\"1\" class=\"dataframe\">\n",
       "  <thead>\n",
       "    <tr style=\"text-align: right;\">\n",
       "      <th></th>\n",
       "      <th>Post_Name</th>\n",
       "      <th>Comment</th>\n",
       "      <th>Date</th>\n",
       "      <th>Result</th>\n",
       "    </tr>\n",
       "  </thead>\n",
       "  <tbody>\n",
       "    <tr>\n",
       "      <th>0</th>\n",
       "      <td>[POSTGAME THREAD] Our Milwaukee Bucks (24-10) ...</td>\n",
       "      <td>\\n||\\t\\t\\n|:-:|\\t\\t\\n|[](/MIL) **130 -  140** ...</td>\n",
       "      <td>2024-01-03</td>\n",
       "      <td>Loss</td>\n",
       "    </tr>\n",
       "    <tr>\n",
       "      <th>1</th>\n",
       "      <td>[POSTGAME THREAD] Our Milwaukee Bucks (24-10) ...</td>\n",
       "      <td>Took too long to pull Brook and Pat out and gi...</td>\n",
       "      <td>2024-01-03</td>\n",
       "      <td>Loss</td>\n",
       "    </tr>\n",
       "    <tr>\n",
       "      <th>2</th>\n",
       "      <td>[POSTGAME THREAD] Our Milwaukee Bucks (24-10) ...</td>\n",
       "      <td>The Bucks, for whatever reason, look like they...</td>\n",
       "      <td>2024-01-03</td>\n",
       "      <td>Loss</td>\n",
       "    </tr>\n",
       "    <tr>\n",
       "      <th>3</th>\n",
       "      <td>[POSTGAME THREAD] Our Milwaukee Bucks (24-10) ...</td>\n",
       "      <td>lmfao if brunson tears this team apart tyrese ...</td>\n",
       "      <td>2024-01-03</td>\n",
       "      <td>Loss</td>\n",
       "    </tr>\n",
       "    <tr>\n",
       "      <th>4</th>\n",
       "      <td>[POSTGAME THREAD] Our Milwaukee Bucks (24-10) ...</td>\n",
       "      <td>Hear me out... \\n\\nFirst blessoe then jrue, sh...</td>\n",
       "      <td>2024-01-03</td>\n",
       "      <td>Loss</td>\n",
       "    </tr>\n",
       "  </tbody>\n",
       "</table>\n",
       "</div>"
      ],
      "text/plain": [
       "                                           Post_Name  \\\n",
       "0  [POSTGAME THREAD] Our Milwaukee Bucks (24-10) ...   \n",
       "1  [POSTGAME THREAD] Our Milwaukee Bucks (24-10) ...   \n",
       "2  [POSTGAME THREAD] Our Milwaukee Bucks (24-10) ...   \n",
       "3  [POSTGAME THREAD] Our Milwaukee Bucks (24-10) ...   \n",
       "4  [POSTGAME THREAD] Our Milwaukee Bucks (24-10) ...   \n",
       "\n",
       "                                             Comment       Date Result  \n",
       "0  \\n||\\t\\t\\n|:-:|\\t\\t\\n|[](/MIL) **130 -  140** ... 2024-01-03   Loss  \n",
       "1  Took too long to pull Brook and Pat out and gi... 2024-01-03   Loss  \n",
       "2  The Bucks, for whatever reason, look like they... 2024-01-03   Loss  \n",
       "3  lmfao if brunson tears this team apart tyrese ... 2024-01-03   Loss  \n",
       "4  Hear me out... \\n\\nFirst blessoe then jrue, sh... 2024-01-03   Loss  "
      ]
     },
     "execution_count": 17,
     "metadata": {},
     "output_type": "execute_result"
    }
   ],
   "source": [
    "# Create the Result Column\n",
    "def label_column(string):\n",
    "    if any(word in string for word in [\"defeat\", \"trounce\", \"beat\"]):\n",
    "        return \"Win\"\n",
    "    elif any(word in string for word in [\"fall\", \"sputter\", \"are defeated\"]):\n",
    "        return \"Loss\"\n",
    "    else:\n",
    "        return \"Unknown\"\n",
    "df[\"Result\"] = df[\"Post_Name\"].apply(label_column)\n",
    "df.head()"
   ]
  },
  {
   "cell_type": "code",
   "execution_count": null,
   "id": "02ef9797",
   "metadata": {},
   "outputs": [],
   "source": []
  },
  {
   "cell_type": "markdown",
   "id": "88277e55",
   "metadata": {},
   "source": [
    "## Plots"
   ]
  },
  {
   "cell_type": "code",
   "execution_count": 38,
   "id": "1c0932a4",
   "metadata": {},
   "outputs": [
    {
     "data": {
      "text/html": [
       "<div>\n",
       "<style scoped>\n",
       "    .dataframe tbody tr th:only-of-type {\n",
       "        vertical-align: middle;\n",
       "    }\n",
       "\n",
       "    .dataframe tbody tr th {\n",
       "        vertical-align: top;\n",
       "    }\n",
       "\n",
       "    .dataframe thead th {\n",
       "        text-align: right;\n",
       "    }\n",
       "</style>\n",
       "<table border=\"1\" class=\"dataframe\">\n",
       "  <thead>\n",
       "    <tr style=\"text-align: right;\">\n",
       "      <th></th>\n",
       "      <th>Post_Name</th>\n",
       "      <th>Comment</th>\n",
       "      <th>Date</th>\n",
       "      <th>Result</th>\n",
       "      <th>Tokens</th>\n",
       "      <th>raw_features</th>\n",
       "      <th>Comment_Adj</th>\n",
       "      <th>Comment_Len</th>\n",
       "    </tr>\n",
       "  </thead>\n",
       "  <tbody>\n",
       "    <tr>\n",
       "      <th>0</th>\n",
       "      <td>[POSTGAME THREAD] Our Milwaukee Bucks (24-10) ...</td>\n",
       "      <td>\\n||\\t\\t\\n|:-:|\\t\\t\\n|[](/MIL) **130 -  140** ...</td>\n",
       "      <td>2024-01-03</td>\n",
       "      <td>Loss</td>\n",
       "      <td>[, , mil, 130, , 140, ind, box, scores, nba](h...</td>\n",
       "      <td>{'': 1, 'jarace': 1, 'connaughton|14:11|3|1-3|...</td>\n",
       "      <td>|| | : - : | | [ ] ( /MIL ) * * 130 - 140 * * ...</td>\n",
       "      <td>3473</td>\n",
       "    </tr>\n",
       "    <tr>\n",
       "      <th>1</th>\n",
       "      <td>[POSTGAME THREAD] Our Milwaukee Bucks (24-10) ...</td>\n",
       "      <td>Took too long to pull Brook and Pat out and gi...</td>\n",
       "      <td>2024-01-03</td>\n",
       "      <td>Loss</td>\n",
       "      <td>[took, too, long, to, pull, brook, and, pat, o...</td>\n",
       "      <td>{'minutes': 1, 'took': 1, 'giannis': 1, 'pull'...</td>\n",
       "      <td>Took long pull Brook Pat give minutes Jackson ...</td>\n",
       "      <td>116</td>\n",
       "    </tr>\n",
       "    <tr>\n",
       "      <th>2</th>\n",
       "      <td>[POSTGAME THREAD] Our Milwaukee Bucks (24-10) ...</td>\n",
       "      <td>The Bucks, for whatever reason, look like they...</td>\n",
       "      <td>2024-01-03</td>\n",
       "      <td>Loss</td>\n",
       "      <td>[the, bucks, for, whatever, reason, look, like...</td>\n",
       "      <td>{'they': 1, 'playing': 1, 'this': 1, 'we': 1, ...</td>\n",
       "      <td>Bucks , whatever reason , look like want part ...</td>\n",
       "      <td>166</td>\n",
       "    </tr>\n",
       "    <tr>\n",
       "      <th>3</th>\n",
       "      <td>[POSTGAME THREAD] Our Milwaukee Bucks (24-10) ...</td>\n",
       "      <td>lmfao if brunson tears this team apart tyrese ...</td>\n",
       "      <td>2024-01-03</td>\n",
       "      <td>Loss</td>\n",
       "      <td>[lmfao, if, brunson, tears, this, team, apart,...</td>\n",
       "      <td>{'sick': 1, 'tears': 1, 'damn': 1, 'nuclear': ...</td>\n",
       "      <td>lmfao brunson tears team apart tyrese haliburt...</td>\n",
       "      <td>129</td>\n",
       "    </tr>\n",
       "    <tr>\n",
       "      <th>4</th>\n",
       "      <td>[POSTGAME THREAD] Our Milwaukee Bucks (24-10) ...</td>\n",
       "      <td>Hear me out... \\n\\nFirst blessoe then jrue, sh...</td>\n",
       "      <td>2024-01-03</td>\n",
       "      <td>Loss</td>\n",
       "      <td>[hear, me, out, first, blessoe, then, jrue, sh...</td>\n",
       "      <td>{'hope': 1, 'then': 1, 'me': 1, 'sequence': 1,...</td>\n",
       "      <td>Hear ... First blessoe jrue , shoot well regul...</td>\n",
       "      <td>162</td>\n",
       "    </tr>\n",
       "  </tbody>\n",
       "</table>\n",
       "</div>"
      ],
      "text/plain": [
       "                                           Post_Name  \\\n",
       "0  [POSTGAME THREAD] Our Milwaukee Bucks (24-10) ...   \n",
       "1  [POSTGAME THREAD] Our Milwaukee Bucks (24-10) ...   \n",
       "2  [POSTGAME THREAD] Our Milwaukee Bucks (24-10) ...   \n",
       "3  [POSTGAME THREAD] Our Milwaukee Bucks (24-10) ...   \n",
       "4  [POSTGAME THREAD] Our Milwaukee Bucks (24-10) ...   \n",
       "\n",
       "                                             Comment       Date Result  \\\n",
       "0  \\n||\\t\\t\\n|:-:|\\t\\t\\n|[](/MIL) **130 -  140** ... 2024-01-03   Loss   \n",
       "1  Took too long to pull Brook and Pat out and gi... 2024-01-03   Loss   \n",
       "2  The Bucks, for whatever reason, look like they... 2024-01-03   Loss   \n",
       "3  lmfao if brunson tears this team apart tyrese ... 2024-01-03   Loss   \n",
       "4  Hear me out... \\n\\nFirst blessoe then jrue, sh... 2024-01-03   Loss   \n",
       "\n",
       "                                              Tokens  \\\n",
       "0  [, , mil, 130, , 140, ind, box, scores, nba](h...   \n",
       "1  [took, too, long, to, pull, brook, and, pat, o...   \n",
       "2  [the, bucks, for, whatever, reason, look, like...   \n",
       "3  [lmfao, if, brunson, tears, this, team, apart,...   \n",
       "4  [hear, me, out, first, blessoe, then, jrue, sh...   \n",
       "\n",
       "                                        raw_features  \\\n",
       "0  {'': 1, 'jarace': 1, 'connaughton|14:11|3|1-3|...   \n",
       "1  {'minutes': 1, 'took': 1, 'giannis': 1, 'pull'...   \n",
       "2  {'they': 1, 'playing': 1, 'this': 1, 'we': 1, ...   \n",
       "3  {'sick': 1, 'tears': 1, 'damn': 1, 'nuclear': ...   \n",
       "4  {'hope': 1, 'then': 1, 'me': 1, 'sequence': 1,...   \n",
       "\n",
       "                                         Comment_Adj  Comment_Len  \n",
       "0  || | : - : | | [ ] ( /MIL ) * * 130 - 140 * * ...         3473  \n",
       "1  Took long pull Brook Pat give minutes Jackson ...          116  \n",
       "2  Bucks , whatever reason , look like want part ...          166  \n",
       "3  lmfao brunson tears team apart tyrese haliburt...          129  \n",
       "4  Hear ... First blessoe jrue , shoot well regul...          162  "
      ]
     },
     "execution_count": 38,
     "metadata": {},
     "output_type": "execute_result"
    }
   ],
   "source": [
    "df[\"Comment_Len\"] = df[\"Comment\"].apply(lambda x: len(x))\n",
    "df.head()"
   ]
  },
  {
   "cell_type": "code",
   "execution_count": 51,
   "id": "370114f3",
   "metadata": {},
   "outputs": [
    {
     "data": {
      "image/png": "[encoded data removed]",
      "text/plain": [
       "<Figure size 640x480 with 1 Axes>"
      ]
     },
     "metadata": {},
     "output_type": "display_data"
    }
   ],
   "source": [
    "plt.figure()\n",
    "df[df[\"Result\"]=='Win'][\"Comment_Len\"].plot.hist(bins=100, label='Win', alpha=.5)\n",
    "df[df[\"Result\"]=='Loss'][\"Comment_Len\"].plot.hist(bins=100, label='Loss', alpha=.5)\n",
    "plt.legend()\n",
    "plt.xlabel('length')\n",
    "plt.show()"
   ]
  },
  {
   "cell_type": "code",
   "execution_count": null,
   "id": "e2d70890",
   "metadata": {},
   "outputs": [],
   "source": []
  },
  {
   "cell_type": "markdown",
   "id": "d0266d66",
   "metadata": {},
   "source": [
    "## Featurize"
   ]
  },
  {
   "cell_type": "code",
   "execution_count": 18,
   "id": "b7bca690",
   "metadata": {},
   "outputs": [
    {
     "data": {
      "text/html": [
       "<div>\n",
       "<style scoped>\n",
       "    .dataframe tbody tr th:only-of-type {\n",
       "        vertical-align: middle;\n",
       "    }\n",
       "\n",
       "    .dataframe tbody tr th {\n",
       "        vertical-align: top;\n",
       "    }\n",
       "\n",
       "    .dataframe thead th {\n",
       "        text-align: right;\n",
       "    }\n",
       "</style>\n",
       "<table border=\"1\" class=\"dataframe\">\n",
       "  <thead>\n",
       "    <tr style=\"text-align: right;\">\n",
       "      <th></th>\n",
       "      <th>Post_Name</th>\n",
       "      <th>Comment</th>\n",
       "      <th>Date</th>\n",
       "      <th>Result</th>\n",
       "      <th>Tokens</th>\n",
       "    </tr>\n",
       "  </thead>\n",
       "  <tbody>\n",
       "    <tr>\n",
       "      <th>0</th>\n",
       "      <td>[POSTGAME THREAD] Our Milwaukee Bucks (24-10) ...</td>\n",
       "      <td>\\n||\\t\\t\\n|:-:|\\t\\t\\n|[](/MIL) **130 -  140** ...</td>\n",
       "      <td>2024-01-03</td>\n",
       "      <td>Loss</td>\n",
       "      <td>[, , mil, 130, , 140, ind, box, scores, nba](h...</td>\n",
       "    </tr>\n",
       "    <tr>\n",
       "      <th>1</th>\n",
       "      <td>[POSTGAME THREAD] Our Milwaukee Bucks (24-10) ...</td>\n",
       "      <td>Took too long to pull Brook and Pat out and gi...</td>\n",
       "      <td>2024-01-03</td>\n",
       "      <td>Loss</td>\n",
       "      <td>[took, too, long, to, pull, brook, and, pat, o...</td>\n",
       "    </tr>\n",
       "    <tr>\n",
       "      <th>2</th>\n",
       "      <td>[POSTGAME THREAD] Our Milwaukee Bucks (24-10) ...</td>\n",
       "      <td>The Bucks, for whatever reason, look like they...</td>\n",
       "      <td>2024-01-03</td>\n",
       "      <td>Loss</td>\n",
       "      <td>[the, bucks, for, whatever, reason, look, like...</td>\n",
       "    </tr>\n",
       "    <tr>\n",
       "      <th>3</th>\n",
       "      <td>[POSTGAME THREAD] Our Milwaukee Bucks (24-10) ...</td>\n",
       "      <td>lmfao if brunson tears this team apart tyrese ...</td>\n",
       "      <td>2024-01-03</td>\n",
       "      <td>Loss</td>\n",
       "      <td>[lmfao, if, brunson, tears, this, team, apart,...</td>\n",
       "    </tr>\n",
       "    <tr>\n",
       "      <th>4</th>\n",
       "      <td>[POSTGAME THREAD] Our Milwaukee Bucks (24-10) ...</td>\n",
       "      <td>Hear me out... \\n\\nFirst blessoe then jrue, sh...</td>\n",
       "      <td>2024-01-03</td>\n",
       "      <td>Loss</td>\n",
       "      <td>[hear, me, out, first, blessoe, then, jrue, sh...</td>\n",
       "    </tr>\n",
       "  </tbody>\n",
       "</table>\n",
       "</div>"
      ],
      "text/plain": [
       "                                           Post_Name  \\\n",
       "0  [POSTGAME THREAD] Our Milwaukee Bucks (24-10) ...   \n",
       "1  [POSTGAME THREAD] Our Milwaukee Bucks (24-10) ...   \n",
       "2  [POSTGAME THREAD] Our Milwaukee Bucks (24-10) ...   \n",
       "3  [POSTGAME THREAD] Our Milwaukee Bucks (24-10) ...   \n",
       "4  [POSTGAME THREAD] Our Milwaukee Bucks (24-10) ...   \n",
       "\n",
       "                                             Comment       Date Result  \\\n",
       "0  \\n||\\t\\t\\n|:-:|\\t\\t\\n|[](/MIL) **130 -  140** ... 2024-01-03   Loss   \n",
       "1  Took too long to pull Brook and Pat out and gi... 2024-01-03   Loss   \n",
       "2  The Bucks, for whatever reason, look like they... 2024-01-03   Loss   \n",
       "3  lmfao if brunson tears this team apart tyrese ... 2024-01-03   Loss   \n",
       "4  Hear me out... \\n\\nFirst blessoe then jrue, sh... 2024-01-03   Loss   \n",
       "\n",
       "                                              Tokens  \n",
       "0  [, , mil, 130, , 140, ind, box, scores, nba](h...  \n",
       "1  [took, too, long, to, pull, brook, and, pat, o...  \n",
       "2  [the, bucks, for, whatever, reason, look, like...  \n",
       "3  [lmfao, if, brunson, tears, this, team, apart,...  \n",
       "4  [hear, me, out, first, blessoe, then, jrue, sh...  "
      ]
     },
     "execution_count": 18,
     "metadata": {},
     "output_type": "execute_result"
    }
   ],
   "source": [
    "def tokenize(document, strip_punct=True, ignore_case=True):\n",
    "    # YOUR CODE HERE\n",
    "    document = document.split()\n",
    "    if strip_punct:\n",
    "        for item in document:\n",
    "            document = [re.sub(r'^\\W+|\\W+$', \"\", item) for item in document]\n",
    "            \n",
    "    if ignore_case:\n",
    "        document = [item.lower() for item in document]\n",
    "\n",
    "    return document\n",
    "\n",
    "df[\"Tokens\"] = [tokenize(d, strip_punct=True, ignore_case=True) for d in df[\"Comment\"]]\n",
    "df.head()    "
   ]
  },
  {
   "cell_type": "code",
   "execution_count": 19,
   "id": "b18825b4",
   "metadata": {},
   "outputs": [
    {
     "data": {
      "text/html": [
       "<div>\n",
       "<style scoped>\n",
       "    .dataframe tbody tr th:only-of-type {\n",
       "        vertical-align: middle;\n",
       "    }\n",
       "\n",
       "    .dataframe tbody tr th {\n",
       "        vertical-align: top;\n",
       "    }\n",
       "\n",
       "    .dataframe thead th {\n",
       "        text-align: right;\n",
       "    }\n",
       "</style>\n",
       "<table border=\"1\" class=\"dataframe\">\n",
       "  <thead>\n",
       "    <tr style=\"text-align: right;\">\n",
       "      <th></th>\n",
       "      <th>Post_Name</th>\n",
       "      <th>Comment</th>\n",
       "      <th>Date</th>\n",
       "      <th>Result</th>\n",
       "      <th>Tokens</th>\n",
       "      <th>raw_features</th>\n",
       "    </tr>\n",
       "  </thead>\n",
       "  <tbody>\n",
       "    <tr>\n",
       "      <th>0</th>\n",
       "      <td>[POSTGAME THREAD] Our Milwaukee Bucks (24-10) ...</td>\n",
       "      <td>\\n||\\t\\t\\n|:-:|\\t\\t\\n|[](/MIL) **130 -  140** ...</td>\n",
       "      <td>2024-01-03</td>\n",
       "      <td>Loss</td>\n",
       "      <td>[, , mil, 130, , 140, ind, box, scores, nba](h...</td>\n",
       "      <td>{'': 1, 'jarace': 1, 'connaughton|14:11|3|1-3|...</td>\n",
       "    </tr>\n",
       "    <tr>\n",
       "      <th>1</th>\n",
       "      <td>[POSTGAME THREAD] Our Milwaukee Bucks (24-10) ...</td>\n",
       "      <td>Took too long to pull Brook and Pat out and gi...</td>\n",
       "      <td>2024-01-03</td>\n",
       "      <td>Loss</td>\n",
       "      <td>[took, too, long, to, pull, brook, and, pat, o...</td>\n",
       "      <td>{'minutes': 1, 'took': 1, 'giannis': 1, 'pull'...</td>\n",
       "    </tr>\n",
       "    <tr>\n",
       "      <th>2</th>\n",
       "      <td>[POSTGAME THREAD] Our Milwaukee Bucks (24-10) ...</td>\n",
       "      <td>The Bucks, for whatever reason, look like they...</td>\n",
       "      <td>2024-01-03</td>\n",
       "      <td>Loss</td>\n",
       "      <td>[the, bucks, for, whatever, reason, look, like...</td>\n",
       "      <td>{'they': 1, 'playing': 1, 'this': 1, 'we': 1, ...</td>\n",
       "    </tr>\n",
       "    <tr>\n",
       "      <th>3</th>\n",
       "      <td>[POSTGAME THREAD] Our Milwaukee Bucks (24-10) ...</td>\n",
       "      <td>lmfao if brunson tears this team apart tyrese ...</td>\n",
       "      <td>2024-01-03</td>\n",
       "      <td>Loss</td>\n",
       "      <td>[lmfao, if, brunson, tears, this, team, apart,...</td>\n",
       "      <td>{'sick': 1, 'tears': 1, 'damn': 1, 'nuclear': ...</td>\n",
       "    </tr>\n",
       "    <tr>\n",
       "      <th>4</th>\n",
       "      <td>[POSTGAME THREAD] Our Milwaukee Bucks (24-10) ...</td>\n",
       "      <td>Hear me out... \\n\\nFirst blessoe then jrue, sh...</td>\n",
       "      <td>2024-01-03</td>\n",
       "      <td>Loss</td>\n",
       "      <td>[hear, me, out, first, blessoe, then, jrue, sh...</td>\n",
       "      <td>{'hope': 1, 'then': 1, 'me': 1, 'sequence': 1,...</td>\n",
       "    </tr>\n",
       "  </tbody>\n",
       "</table>\n",
       "</div>"
      ],
      "text/plain": [
       "                                           Post_Name  \\\n",
       "0  [POSTGAME THREAD] Our Milwaukee Bucks (24-10) ...   \n",
       "1  [POSTGAME THREAD] Our Milwaukee Bucks (24-10) ...   \n",
       "2  [POSTGAME THREAD] Our Milwaukee Bucks (24-10) ...   \n",
       "3  [POSTGAME THREAD] Our Milwaukee Bucks (24-10) ...   \n",
       "4  [POSTGAME THREAD] Our Milwaukee Bucks (24-10) ...   \n",
       "\n",
       "                                             Comment       Date Result  \\\n",
       "0  \\n||\\t\\t\\n|:-:|\\t\\t\\n|[](/MIL) **130 -  140** ... 2024-01-03   Loss   \n",
       "1  Took too long to pull Brook and Pat out and gi... 2024-01-03   Loss   \n",
       "2  The Bucks, for whatever reason, look like they... 2024-01-03   Loss   \n",
       "3  lmfao if brunson tears this team apart tyrese ... 2024-01-03   Loss   \n",
       "4  Hear me out... \\n\\nFirst blessoe then jrue, sh... 2024-01-03   Loss   \n",
       "\n",
       "                                              Tokens  \\\n",
       "0  [, , mil, 130, , 140, ind, box, scores, nba](h...   \n",
       "1  [took, too, long, to, pull, brook, and, pat, o...   \n",
       "2  [the, bucks, for, whatever, reason, look, like...   \n",
       "3  [lmfao, if, brunson, tears, this, team, apart,...   \n",
       "4  [hear, me, out, first, blessoe, then, jrue, sh...   \n",
       "\n",
       "                                        raw_features  \n",
       "0  {'': 1, 'jarace': 1, 'connaughton|14:11|3|1-3|...  \n",
       "1  {'minutes': 1, 'took': 1, 'giannis': 1, 'pull'...  \n",
       "2  {'they': 1, 'playing': 1, 'this': 1, 'we': 1, ...  \n",
       "3  {'sick': 1, 'tears': 1, 'damn': 1, 'nuclear': ...  \n",
       "4  {'hope': 1, 'then': 1, 'me': 1, 'sequence': 1,...  "
      ]
     },
     "execution_count": 19,
     "metadata": {},
     "output_type": "execute_result"
    }
   ],
   "source": [
    "def featurize(tokens):\n",
    "    # YOUR CODE HERE\n",
    "    token_dict = {word: 1 for word in set(tokens)}\n",
    "    return token_dict\n",
    "    raise NotImplementedError()\n",
    "df['raw_features'] = [featurize(t) for t in df[\"Tokens\"]]\n",
    "df.head()"
   ]
  },
  {
   "cell_type": "code",
   "execution_count": 20,
   "id": "bc3aef1e",
   "metadata": {},
   "outputs": [],
   "source": [
    "def count_word_document_frequency(dict_list):\n",
    "    # YOUR CODE HERE\n",
    "    counter = Counter()\n",
    "    for dct in dict_list:\n",
    "        counter.update(dct.keys())\n",
    "    return counter\n",
    "    raise NotImplementedError()\n",
    "word_counts = count_word_document_frequency(df[\"raw_features\"])"
   ]
  },
  {
   "cell_type": "code",
   "execution_count": 21,
   "id": "f1d152fe",
   "metadata": {},
   "outputs": [
    {
     "data": {
      "image/png": "[encoded data removed]",
      "text/plain": [
       "<Figure size 640x480 with 1 Axes>"
      ]
     },
     "metadata": {},
     "output_type": "display_data"
    },
    {
     "data": {
      "text/plain": [
       "[(1, 6576), (2, 1764), (3, 935), (4, 596), (5, 389)]"
      ]
     },
     "execution_count": 21,
     "metadata": {},
     "output_type": "execute_result"
    }
   ],
   "source": [
    "plt.figure()\n",
    "plt.hist(word_counts.values(), bins=50)\n",
    "plt.xlabel('number of documents a word appears in')\n",
    "plt.ylabel('number of words')\n",
    "plt.show()\n",
    "Counter(word_counts.values()).most_common(5)"
   ]
  },
  {
   "cell_type": "code",
   "execution_count": 22,
   "id": "9035c794",
   "metadata": {},
   "outputs": [
    {
     "data": {
      "text/plain": [
       "[('the', 6501),\n",
       " ('a', 4524),\n",
       " ('to', 4405),\n",
       " ('and', 4047),\n",
       " ('is', 3157),\n",
       " ('in', 3148),\n",
       " ('i', 2979),\n",
       " ('of', 2914),\n",
       " ('that', 2723),\n",
       " ('this', 2432),\n",
       " ('it', 2253),\n",
       " ('for', 2209),\n",
       " ('but', 2171),\n",
       " ('we', 2149),\n",
       " ('on', 2114),\n",
       " ('he', 2068),\n",
       " ('was', 1974),\n",
       " ('game', 1946),\n",
       " ('with', 1720),\n",
       " ('be', 1685),\n",
       " ('dame', 1667),\n",
       " ('like', 1599),\n",
       " ('giannis', 1590),\n",
       " ('not', 1562),\n",
       " ('team', 1554),\n",
       " ('just', 1545),\n",
       " ('have', 1466),\n",
       " ('they', 1392),\n",
       " ('you', 1386),\n",
       " ('are', 1223)]"
      ]
     },
     "execution_count": 22,
     "metadata": {},
     "output_type": "execute_result"
    }
   ],
   "source": [
    "word_counts.most_common(30)"
   ]
  },
  {
   "cell_type": "markdown",
   "id": "0a4c2402",
   "metadata": {},
   "source": [
    "## Data Preprocessing Before Modeling"
   ]
  },
  {
   "cell_type": "code",
   "execution_count": 23,
   "id": "9389804b",
   "metadata": {},
   "outputs": [
    {
     "data": {
      "text/plain": [
       "12266"
      ]
     },
     "execution_count": 23,
     "metadata": {},
     "output_type": "execute_result"
    }
   ],
   "source": [
    "len(df)"
   ]
  },
  {
   "cell_type": "code",
   "execution_count": 24,
   "id": "da5fdbe5",
   "metadata": {},
   "outputs": [],
   "source": [
    "def remove_stop_words(text):\n",
    "    stop_words = set(stopwords.words('english'))\n",
    "    word_tokens = word_tokenize(text)\n",
    "    filtered_text = [word for word in word_tokens if word.lower() not in stop_words]\n",
    "    return ' '.join(filtered_text)"
   ]
  },
  {
   "cell_type": "code",
   "execution_count": 25,
   "id": "3e62da8b",
   "metadata": {},
   "outputs": [
    {
     "data": {
      "text/html": [
       "<div>\n",
       "<style scoped>\n",
       "    .dataframe tbody tr th:only-of-type {\n",
       "        vertical-align: middle;\n",
       "    }\n",
       "\n",
       "    .dataframe tbody tr th {\n",
       "        vertical-align: top;\n",
       "    }\n",
       "\n",
       "    .dataframe thead th {\n",
       "        text-align: right;\n",
       "    }\n",
       "</style>\n",
       "<table border=\"1\" class=\"dataframe\">\n",
       "  <thead>\n",
       "    <tr style=\"text-align: right;\">\n",
       "      <th></th>\n",
       "      <th>Post_Name</th>\n",
       "      <th>Comment</th>\n",
       "      <th>Date</th>\n",
       "      <th>Result</th>\n",
       "      <th>Tokens</th>\n",
       "      <th>raw_features</th>\n",
       "      <th>Comment_Adj</th>\n",
       "    </tr>\n",
       "  </thead>\n",
       "  <tbody>\n",
       "    <tr>\n",
       "      <th>0</th>\n",
       "      <td>[POSTGAME THREAD] Our Milwaukee Bucks (24-10) ...</td>\n",
       "      <td>\\n||\\t\\t\\n|:-:|\\t\\t\\n|[](/MIL) **130 -  140** ...</td>\n",
       "      <td>2024-01-03</td>\n",
       "      <td>Loss</td>\n",
       "      <td>[, , mil, 130, , 140, ind, box, scores, nba](h...</td>\n",
       "      <td>{'': 1, 'jarace': 1, 'connaughton|14:11|3|1-3|...</td>\n",
       "      <td>|| | : - : | | [ ] ( /MIL ) * * 130 - 140 * * ...</td>\n",
       "    </tr>\n",
       "    <tr>\n",
       "      <th>1</th>\n",
       "      <td>[POSTGAME THREAD] Our Milwaukee Bucks (24-10) ...</td>\n",
       "      <td>Took too long to pull Brook and Pat out and gi...</td>\n",
       "      <td>2024-01-03</td>\n",
       "      <td>Loss</td>\n",
       "      <td>[took, too, long, to, pull, brook, and, pat, o...</td>\n",
       "      <td>{'minutes': 1, 'took': 1, 'giannis': 1, 'pull'...</td>\n",
       "      <td>Took long pull Brook Pat give minutes Jackson ...</td>\n",
       "    </tr>\n",
       "    <tr>\n",
       "      <th>2</th>\n",
       "      <td>[POSTGAME THREAD] Our Milwaukee Bucks (24-10) ...</td>\n",
       "      <td>The Bucks, for whatever reason, look like they...</td>\n",
       "      <td>2024-01-03</td>\n",
       "      <td>Loss</td>\n",
       "      <td>[the, bucks, for, whatever, reason, look, like...</td>\n",
       "      <td>{'they': 1, 'playing': 1, 'this': 1, 'we': 1, ...</td>\n",
       "      <td>Bucks , whatever reason , look like want part ...</td>\n",
       "    </tr>\n",
       "    <tr>\n",
       "      <th>3</th>\n",
       "      <td>[POSTGAME THREAD] Our Milwaukee Bucks (24-10) ...</td>\n",
       "      <td>lmfao if brunson tears this team apart tyrese ...</td>\n",
       "      <td>2024-01-03</td>\n",
       "      <td>Loss</td>\n",
       "      <td>[lmfao, if, brunson, tears, this, team, apart,...</td>\n",
       "      <td>{'sick': 1, 'tears': 1, 'damn': 1, 'nuclear': ...</td>\n",
       "      <td>lmfao brunson tears team apart tyrese haliburt...</td>\n",
       "    </tr>\n",
       "    <tr>\n",
       "      <th>4</th>\n",
       "      <td>[POSTGAME THREAD] Our Milwaukee Bucks (24-10) ...</td>\n",
       "      <td>Hear me out... \\n\\nFirst blessoe then jrue, sh...</td>\n",
       "      <td>2024-01-03</td>\n",
       "      <td>Loss</td>\n",
       "      <td>[hear, me, out, first, blessoe, then, jrue, sh...</td>\n",
       "      <td>{'hope': 1, 'then': 1, 'me': 1, 'sequence': 1,...</td>\n",
       "      <td>Hear ... First blessoe jrue , shoot well regul...</td>\n",
       "    </tr>\n",
       "  </tbody>\n",
       "</table>\n",
       "</div>"
      ],
      "text/plain": [
       "                                           Post_Name  \\\n",
       "0  [POSTGAME THREAD] Our Milwaukee Bucks (24-10) ...   \n",
       "1  [POSTGAME THREAD] Our Milwaukee Bucks (24-10) ...   \n",
       "2  [POSTGAME THREAD] Our Milwaukee Bucks (24-10) ...   \n",
       "3  [POSTGAME THREAD] Our Milwaukee Bucks (24-10) ...   \n",
       "4  [POSTGAME THREAD] Our Milwaukee Bucks (24-10) ...   \n",
       "\n",
       "                                             Comment       Date Result  \\\n",
       "0  \\n||\\t\\t\\n|:-:|\\t\\t\\n|[](/MIL) **130 -  140** ... 2024-01-03   Loss   \n",
       "1  Took too long to pull Brook and Pat out and gi... 2024-01-03   Loss   \n",
       "2  The Bucks, for whatever reason, look like they... 2024-01-03   Loss   \n",
       "3  lmfao if brunson tears this team apart tyrese ... 2024-01-03   Loss   \n",
       "4  Hear me out... \\n\\nFirst blessoe then jrue, sh... 2024-01-03   Loss   \n",
       "\n",
       "                                              Tokens  \\\n",
       "0  [, , mil, 130, , 140, ind, box, scores, nba](h...   \n",
       "1  [took, too, long, to, pull, brook, and, pat, o...   \n",
       "2  [the, bucks, for, whatever, reason, look, like...   \n",
       "3  [lmfao, if, brunson, tears, this, team, apart,...   \n",
       "4  [hear, me, out, first, blessoe, then, jrue, sh...   \n",
       "\n",
       "                                        raw_features  \\\n",
       "0  {'': 1, 'jarace': 1, 'connaughton|14:11|3|1-3|...   \n",
       "1  {'minutes': 1, 'took': 1, 'giannis': 1, 'pull'...   \n",
       "2  {'they': 1, 'playing': 1, 'this': 1, 'we': 1, ...   \n",
       "3  {'sick': 1, 'tears': 1, 'damn': 1, 'nuclear': ...   \n",
       "4  {'hope': 1, 'then': 1, 'me': 1, 'sequence': 1,...   \n",
       "\n",
       "                                         Comment_Adj  \n",
       "0  || | : - : | | [ ] ( /MIL ) * * 130 - 140 * * ...  \n",
       "1  Took long pull Brook Pat give minutes Jackson ...  \n",
       "2  Bucks , whatever reason , look like want part ...  \n",
       "3  lmfao brunson tears team apart tyrese haliburt...  \n",
       "4  Hear ... First blessoe jrue , shoot well regul...  "
      ]
     },
     "execution_count": 25,
     "metadata": {},
     "output_type": "execute_result"
    }
   ],
   "source": [
    "df[\"Comment_Adj\"] = df[\"Comment\"].apply(remove_stop_words)\n",
    "df.head()"
   ]
  },
  {
   "cell_type": "markdown",
   "id": "b0dbe083",
   "metadata": {},
   "source": [
    "## Player DataFrame"
   ]
  },
  {
   "cell_type": "code",
   "execution_count": 26,
   "id": "820225e7",
   "metadata": {},
   "outputs": [
    {
     "data": {
      "text/html": [
       "<div>\n",
       "<style scoped>\n",
       "    .dataframe tbody tr th:only-of-type {\n",
       "        vertical-align: middle;\n",
       "    }\n",
       "\n",
       "    .dataframe tbody tr th {\n",
       "        vertical-align: top;\n",
       "    }\n",
       "\n",
       "    .dataframe thead th {\n",
       "        text-align: right;\n",
       "    }\n",
       "</style>\n",
       "<table border=\"1\" class=\"dataframe\">\n",
       "  <thead>\n",
       "    <tr style=\"text-align: right;\">\n",
       "      <th></th>\n",
       "      <th>Post_Name</th>\n",
       "      <th>Comment</th>\n",
       "      <th>Date</th>\n",
       "      <th>Result</th>\n",
       "      <th>Tokens</th>\n",
       "      <th>raw_features</th>\n",
       "      <th>Comment_Adj</th>\n",
       "    </tr>\n",
       "  </thead>\n",
       "  <tbody>\n",
       "    <tr>\n",
       "      <th>0</th>\n",
       "      <td>[POSTGAME THREAD] Our Milwaukee Bucks (24-10) ...</td>\n",
       "      <td>\\n||\\t\\t\\n|:-:|\\t\\t\\n|[](/MIL) **130 -  140** ...</td>\n",
       "      <td>2024-01-03</td>\n",
       "      <td>Loss</td>\n",
       "      <td>[, , mil, 130, , 140, ind, box, scores, nba](h...</td>\n",
       "      <td>{'': 1, 'jarace': 1, 'connaughton|14:11|3|1-3|...</td>\n",
       "      <td>|| | : - : | | [ ] ( /MIL ) * * 130 - 140 * * ...</td>\n",
       "    </tr>\n",
       "    <tr>\n",
       "      <th>1</th>\n",
       "      <td>[POSTGAME THREAD] Our Milwaukee Bucks (24-10) ...</td>\n",
       "      <td>Took too long to pull Brook and Pat out and gi...</td>\n",
       "      <td>2024-01-03</td>\n",
       "      <td>Loss</td>\n",
       "      <td>[took, too, long, to, pull, brook, and, pat, o...</td>\n",
       "      <td>{'minutes': 1, 'took': 1, 'giannis': 1, 'pull'...</td>\n",
       "      <td>Took long pull Brook Pat give minutes Jackson ...</td>\n",
       "    </tr>\n",
       "    <tr>\n",
       "      <th>2</th>\n",
       "      <td>[POSTGAME THREAD] Our Milwaukee Bucks (24-10) ...</td>\n",
       "      <td>The Bucks, for whatever reason, look like they...</td>\n",
       "      <td>2024-01-03</td>\n",
       "      <td>Loss</td>\n",
       "      <td>[the, bucks, for, whatever, reason, look, like...</td>\n",
       "      <td>{'they': 1, 'playing': 1, 'this': 1, 'we': 1, ...</td>\n",
       "      <td>Bucks , whatever reason , look like want part ...</td>\n",
       "    </tr>\n",
       "    <tr>\n",
       "      <th>4</th>\n",
       "      <td>[POSTGAME THREAD] Our Milwaukee Bucks (24-10) ...</td>\n",
       "      <td>Hear me out... \\n\\nFirst blessoe then jrue, sh...</td>\n",
       "      <td>2024-01-03</td>\n",
       "      <td>Loss</td>\n",
       "      <td>[hear, me, out, first, blessoe, then, jrue, sh...</td>\n",
       "      <td>{'hope': 1, 'then': 1, 'me': 1, 'sequence': 1,...</td>\n",
       "      <td>Hear ... First blessoe jrue , shoot well regul...</td>\n",
       "    </tr>\n",
       "    <tr>\n",
       "      <th>5</th>\n",
       "      <td>[POSTGAME THREAD] Our Milwaukee Bucks (24-10) ...</td>\n",
       "      <td>We're almost halfway through the season so I t...</td>\n",
       "      <td>2024-01-03</td>\n",
       "      <td>Loss</td>\n",
       "      <td>[we're, almost, halfway, through, the, season,...</td>\n",
       "      <td>{'contribute': 1, 'khris': 1, 'notable': 1, 's...</td>\n",
       "      <td>'re almost halfway season think critical discu...</td>\n",
       "    </tr>\n",
       "  </tbody>\n",
       "</table>\n",
       "</div>"
      ],
      "text/plain": [
       "                                           Post_Name  \\\n",
       "0  [POSTGAME THREAD] Our Milwaukee Bucks (24-10) ...   \n",
       "1  [POSTGAME THREAD] Our Milwaukee Bucks (24-10) ...   \n",
       "2  [POSTGAME THREAD] Our Milwaukee Bucks (24-10) ...   \n",
       "4  [POSTGAME THREAD] Our Milwaukee Bucks (24-10) ...   \n",
       "5  [POSTGAME THREAD] Our Milwaukee Bucks (24-10) ...   \n",
       "\n",
       "                                             Comment       Date Result  \\\n",
       "0  \\n||\\t\\t\\n|:-:|\\t\\t\\n|[](/MIL) **130 -  140** ... 2024-01-03   Loss   \n",
       "1  Took too long to pull Brook and Pat out and gi... 2024-01-03   Loss   \n",
       "2  The Bucks, for whatever reason, look like they... 2024-01-03   Loss   \n",
       "4  Hear me out... \\n\\nFirst blessoe then jrue, sh... 2024-01-03   Loss   \n",
       "5  We're almost halfway through the season so I t... 2024-01-03   Loss   \n",
       "\n",
       "                                              Tokens  \\\n",
       "0  [, , mil, 130, , 140, ind, box, scores, nba](h...   \n",
       "1  [took, too, long, to, pull, brook, and, pat, o...   \n",
       "2  [the, bucks, for, whatever, reason, look, like...   \n",
       "4  [hear, me, out, first, blessoe, then, jrue, sh...   \n",
       "5  [we're, almost, halfway, through, the, season,...   \n",
       "\n",
       "                                        raw_features  \\\n",
       "0  {'': 1, 'jarace': 1, 'connaughton|14:11|3|1-3|...   \n",
       "1  {'minutes': 1, 'took': 1, 'giannis': 1, 'pull'...   \n",
       "2  {'they': 1, 'playing': 1, 'this': 1, 'we': 1, ...   \n",
       "4  {'hope': 1, 'then': 1, 'me': 1, 'sequence': 1,...   \n",
       "5  {'contribute': 1, 'khris': 1, 'notable': 1, 's...   \n",
       "\n",
       "                                         Comment_Adj  \n",
       "0  || | : - : | | [ ] ( /MIL ) * * 130 - 140 * * ...  \n",
       "1  Took long pull Brook Pat give minutes Jackson ...  \n",
       "2  Bucks , whatever reason , look like want part ...  \n",
       "4  Hear ... First blessoe jrue , shoot well regul...  \n",
       "5  're almost halfway season think critical discu...  "
      ]
     },
     "execution_count": 26,
     "metadata": {},
     "output_type": "execute_result"
    }
   ],
   "source": [
    "player_list = [\"marjon\", \"dame\", \"malik\", \"chris\", \"bobby\", \"brook\", \"danilo\", \"aj\",\n",
    "              \"pat\", \"khris\", \"tyty\", \"pat\", \"giannis\", \"thanasis\", \"andre\",\n",
    "              \"ryan\", \"jae\", \"doc\", \"griffin\", \"beauchamp\", \"lillard\", \"beasley\", \"livingston\",\n",
    "              \"portis\", \"lopez\", \"gallinari\", \"green\", \"beverley\", \"bev\", \"middleton\", \"washington\",\n",
    "              \"connaughton\", \"antetokounmpo\", \"jackson\", \"rollins\", \"crowder\", \"rivers\", \"adrian\"]\n",
    "\n",
    "pattern = '|'.join(player_list)\n",
    "\n",
    "# Extract rows containing at least one of the words\n",
    "filtered_df = df[df['Comment'].str.contains(pattern, case=False, na=False)]\n",
    "\n",
    "filtered_df.head()"
   ]
  },
  {
   "cell_type": "code",
   "execution_count": 27,
   "id": "5afa4635",
   "metadata": {},
   "outputs": [
    {
     "data": {
      "text/plain": [
       "4944"
      ]
     },
     "execution_count": 27,
     "metadata": {},
     "output_type": "execute_result"
    }
   ],
   "source": [
    "len(filtered_df)"
   ]
  },
  {
   "cell_type": "code",
   "execution_count": null,
   "id": "220fb5f2",
   "metadata": {},
   "outputs": [],
   "source": []
  },
  {
   "cell_type": "code",
   "execution_count": null,
   "id": "7894d44b",
   "metadata": {},
   "outputs": [],
   "source": []
  },
  {
   "cell_type": "code",
   "execution_count": null,
   "id": "ee90b4f7",
   "metadata": {},
   "outputs": [],
   "source": []
  },
  {
   "cell_type": "code",
   "execution_count": null,
   "id": "b96d3cb8",
   "metadata": {},
   "outputs": [],
   "source": []
  },
  {
   "cell_type": "code",
   "execution_count": 28,
   "id": "a8fb4e8d",
   "metadata": {},
   "outputs": [],
   "source": [
    "from sklearn.model_selection import train_test_split\n",
    "\n",
    "X = filtered_df[\"Comment_Adj\"]\n",
    "y = filtered_df[\"Result\"]\n",
    "\n",
    "# Split the data into training and testing sets\n",
    "X_train, X_test, y_train, y_test = train_test_split(X, y, test_size=0.2, random_state=42)"
   ]
  },
  {
   "cell_type": "code",
   "execution_count": 29,
   "id": "f3a16128",
   "metadata": {},
   "outputs": [],
   "source": [
    "model = make_pipeline(CountVectorizer(), MultinomialNB())"
   ]
  },
  {
   "cell_type": "code",
   "execution_count": 30,
   "id": "8895fa94",
   "metadata": {},
   "outputs": [
    {
     "name": "stdout",
     "output_type": "stream",
     "text": [
      "Accuracy: 0.660262891809909\n"
     ]
    }
   ],
   "source": [
    "model.fit(X_train, y_train)\n",
    "\n",
    "# Predict on the test set\n",
    "y_pred = model.predict(X_test)\n",
    "\n",
    "# Calculate accuracy\n",
    "accuracy = accuracy_score(y_test, y_pred)\n",
    "print(\"Accuracy:\", accuracy)"
   ]
  },
  {
   "cell_type": "markdown",
   "id": "9cc5e5d7",
   "metadata": {},
   "source": [
    "## Naive Bayes Model"
   ]
  },
  {
   "cell_type": "code",
   "execution_count": 55,
   "id": "ef60ffda",
   "metadata": {},
   "outputs": [],
   "source": [
    "from sklearn.model_selection import train_test_split\n",
    "from sklearn.metrics import f1_score\n",
    "\n",
    "X = df[\"Comment_Adj\"]\n",
    "y = df[\"Result\"]\n",
    "\n",
    "# Split the data into training and testing sets\n",
    "X_train, X_test, y_train, y_test = train_test_split(X, y, test_size=0.2, random_state=42)"
   ]
  },
  {
   "cell_type": "code",
   "execution_count": 56,
   "id": "e1a484f8",
   "metadata": {},
   "outputs": [],
   "source": [
    "model = make_pipeline(CountVectorizer(), MultinomialNB())"
   ]
  },
  {
   "cell_type": "code",
   "execution_count": 57,
   "id": "22cacef4",
   "metadata": {},
   "outputs": [
    {
     "ename": "ValueError",
     "evalue": "pos_label=1 is not a valid label. It should be one of ['Loss', 'Win']",
     "output_type": "error",
     "traceback": [
      "\u001b[0;31m---------------------------------------------------------------------------\u001b[0m",
      "\u001b[0;31mValueError\u001b[0m                                Traceback (most recent call last)",
      "Cell \u001b[0;32mIn[57], line 7\u001b[0m\n\u001b[1;32m      4\u001b[0m y_pred \u001b[38;5;241m=\u001b[39m model\u001b[38;5;241m.\u001b[39mpredict(X_test)\n\u001b[1;32m      6\u001b[0m \u001b[38;5;66;03m# Calculate accuracy\u001b[39;00m\n\u001b[0;32m----> 7\u001b[0m f1 \u001b[38;5;241m=\u001b[39m \u001b[43mf1_score\u001b[49m\u001b[43m(\u001b[49m\u001b[43my_test\u001b[49m\u001b[43m,\u001b[49m\u001b[43m \u001b[49m\u001b[43my_pred\u001b[49m\u001b[43m)\u001b[49m\n\u001b[1;32m      8\u001b[0m \u001b[38;5;28mprint\u001b[39m(\u001b[38;5;124m\"\u001b[39m\u001b[38;5;124mAccuracy:\u001b[39m\u001b[38;5;124m\"\u001b[39m, accuracy)\n",
      "File \u001b[0;32m~/opt/anaconda3/lib/python3.9/site-packages/sklearn/metrics/_classification.py:1123\u001b[0m, in \u001b[0;36mf1_score\u001b[0;34m(y_true, y_pred, labels, pos_label, average, sample_weight, zero_division)\u001b[0m\n\u001b[1;32m    992\u001b[0m \u001b[38;5;28;01mdef\u001b[39;00m \u001b[38;5;21mf1_score\u001b[39m(\n\u001b[1;32m    993\u001b[0m     y_true,\n\u001b[1;32m    994\u001b[0m     y_pred,\n\u001b[0;32m   (...)\u001b[0m\n\u001b[1;32m   1000\u001b[0m     zero_division\u001b[38;5;241m=\u001b[39m\u001b[38;5;124m\"\u001b[39m\u001b[38;5;124mwarn\u001b[39m\u001b[38;5;124m\"\u001b[39m,\n\u001b[1;32m   1001\u001b[0m ):\n\u001b[1;32m   1002\u001b[0m     \u001b[38;5;124;03m\"\"\"Compute the F1 score, also known as balanced F-score or F-measure.\u001b[39;00m\n\u001b[1;32m   1003\u001b[0m \n\u001b[1;32m   1004\u001b[0m \u001b[38;5;124;03m    The F1 score can be interpreted as a harmonic mean of the precision and\u001b[39;00m\n\u001b[0;32m   (...)\u001b[0m\n\u001b[1;32m   1121\u001b[0m \u001b[38;5;124;03m    modified with ``zero_division``.\u001b[39;00m\n\u001b[1;32m   1122\u001b[0m \u001b[38;5;124;03m    \"\"\"\u001b[39;00m\n\u001b[0;32m-> 1123\u001b[0m     \u001b[38;5;28;01mreturn\u001b[39;00m \u001b[43mfbeta_score\u001b[49m\u001b[43m(\u001b[49m\n\u001b[1;32m   1124\u001b[0m \u001b[43m        \u001b[49m\u001b[43my_true\u001b[49m\u001b[43m,\u001b[49m\n\u001b[1;32m   1125\u001b[0m \u001b[43m        \u001b[49m\u001b[43my_pred\u001b[49m\u001b[43m,\u001b[49m\n\u001b[1;32m   1126\u001b[0m \u001b[43m        \u001b[49m\u001b[43mbeta\u001b[49m\u001b[38;5;241;43m=\u001b[39;49m\u001b[38;5;241;43m1\u001b[39;49m\u001b[43m,\u001b[49m\n\u001b[1;32m   1127\u001b[0m \u001b[43m        \u001b[49m\u001b[43mlabels\u001b[49m\u001b[38;5;241;43m=\u001b[39;49m\u001b[43mlabels\u001b[49m\u001b[43m,\u001b[49m\n\u001b[1;32m   1128\u001b[0m \u001b[43m        \u001b[49m\u001b[43mpos_label\u001b[49m\u001b[38;5;241;43m=\u001b[39;49m\u001b[43mpos_label\u001b[49m\u001b[43m,\u001b[49m\n\u001b[1;32m   1129\u001b[0m \u001b[43m        \u001b[49m\u001b[43maverage\u001b[49m\u001b[38;5;241;43m=\u001b[39;49m\u001b[43maverage\u001b[49m\u001b[43m,\u001b[49m\n\u001b[1;32m   1130\u001b[0m \u001b[43m        \u001b[49m\u001b[43msample_weight\u001b[49m\u001b[38;5;241;43m=\u001b[39;49m\u001b[43msample_weight\u001b[49m\u001b[43m,\u001b[49m\n\u001b[1;32m   1131\u001b[0m \u001b[43m        \u001b[49m\u001b[43mzero_division\u001b[49m\u001b[38;5;241;43m=\u001b[39;49m\u001b[43mzero_division\u001b[49m\u001b[43m,\u001b[49m\n\u001b[1;32m   1132\u001b[0m \u001b[43m    \u001b[49m\u001b[43m)\u001b[49m\n",
      "File \u001b[0;32m~/opt/anaconda3/lib/python3.9/site-packages/sklearn/metrics/_classification.py:1261\u001b[0m, in \u001b[0;36mfbeta_score\u001b[0;34m(y_true, y_pred, beta, labels, pos_label, average, sample_weight, zero_division)\u001b[0m\n\u001b[1;32m   1135\u001b[0m \u001b[38;5;28;01mdef\u001b[39;00m \u001b[38;5;21mfbeta_score\u001b[39m(\n\u001b[1;32m   1136\u001b[0m     y_true,\n\u001b[1;32m   1137\u001b[0m     y_pred,\n\u001b[0;32m   (...)\u001b[0m\n\u001b[1;32m   1144\u001b[0m     zero_division\u001b[38;5;241m=\u001b[39m\u001b[38;5;124m\"\u001b[39m\u001b[38;5;124mwarn\u001b[39m\u001b[38;5;124m\"\u001b[39m,\n\u001b[1;32m   1145\u001b[0m ):\n\u001b[1;32m   1146\u001b[0m     \u001b[38;5;124;03m\"\"\"Compute the F-beta score.\u001b[39;00m\n\u001b[1;32m   1147\u001b[0m \n\u001b[1;32m   1148\u001b[0m \u001b[38;5;124;03m    The F-beta score is the weighted harmonic mean of precision and recall,\u001b[39;00m\n\u001b[0;32m   (...)\u001b[0m\n\u001b[1;32m   1258\u001b[0m \u001b[38;5;124;03m    array([0.71..., 0.        , 0.        ])\u001b[39;00m\n\u001b[1;32m   1259\u001b[0m \u001b[38;5;124;03m    \"\"\"\u001b[39;00m\n\u001b[0;32m-> 1261\u001b[0m     _, _, f, _ \u001b[38;5;241m=\u001b[39m \u001b[43mprecision_recall_fscore_support\u001b[49m\u001b[43m(\u001b[49m\n\u001b[1;32m   1262\u001b[0m \u001b[43m        \u001b[49m\u001b[43my_true\u001b[49m\u001b[43m,\u001b[49m\n\u001b[1;32m   1263\u001b[0m \u001b[43m        \u001b[49m\u001b[43my_pred\u001b[49m\u001b[43m,\u001b[49m\n\u001b[1;32m   1264\u001b[0m \u001b[43m        \u001b[49m\u001b[43mbeta\u001b[49m\u001b[38;5;241;43m=\u001b[39;49m\u001b[43mbeta\u001b[49m\u001b[43m,\u001b[49m\n\u001b[1;32m   1265\u001b[0m \u001b[43m        \u001b[49m\u001b[43mlabels\u001b[49m\u001b[38;5;241;43m=\u001b[39;49m\u001b[43mlabels\u001b[49m\u001b[43m,\u001b[49m\n\u001b[1;32m   1266\u001b[0m \u001b[43m        \u001b[49m\u001b[43mpos_label\u001b[49m\u001b[38;5;241;43m=\u001b[39;49m\u001b[43mpos_label\u001b[49m\u001b[43m,\u001b[49m\n\u001b[1;32m   1267\u001b[0m \u001b[43m        \u001b[49m\u001b[43maverage\u001b[49m\u001b[38;5;241;43m=\u001b[39;49m\u001b[43maverage\u001b[49m\u001b[43m,\u001b[49m\n\u001b[1;32m   1268\u001b[0m \u001b[43m        \u001b[49m\u001b[43mwarn_for\u001b[49m\u001b[38;5;241;43m=\u001b[39;49m\u001b[43m(\u001b[49m\u001b[38;5;124;43m\"\u001b[39;49m\u001b[38;5;124;43mf-score\u001b[39;49m\u001b[38;5;124;43m\"\u001b[39;49m\u001b[43m,\u001b[49m\u001b[43m)\u001b[49m\u001b[43m,\u001b[49m\n\u001b[1;32m   1269\u001b[0m \u001b[43m        \u001b[49m\u001b[43msample_weight\u001b[49m\u001b[38;5;241;43m=\u001b[39;49m\u001b[43msample_weight\u001b[49m\u001b[43m,\u001b[49m\n\u001b[1;32m   1270\u001b[0m \u001b[43m        \u001b[49m\u001b[43mzero_division\u001b[49m\u001b[38;5;241;43m=\u001b[39;49m\u001b[43mzero_division\u001b[49m\u001b[43m,\u001b[49m\n\u001b[1;32m   1271\u001b[0m \u001b[43m    \u001b[49m\u001b[43m)\u001b[49m\n\u001b[1;32m   1272\u001b[0m     \u001b[38;5;28;01mreturn\u001b[39;00m f\n",
      "File \u001b[0;32m~/opt/anaconda3/lib/python3.9/site-packages/sklearn/metrics/_classification.py:1544\u001b[0m, in \u001b[0;36mprecision_recall_fscore_support\u001b[0;34m(y_true, y_pred, beta, labels, pos_label, average, warn_for, sample_weight, zero_division)\u001b[0m\n\u001b[1;32m   1542\u001b[0m \u001b[38;5;28;01mif\u001b[39;00m beta \u001b[38;5;241m<\u001b[39m \u001b[38;5;241m0\u001b[39m:\n\u001b[1;32m   1543\u001b[0m     \u001b[38;5;28;01mraise\u001b[39;00m \u001b[38;5;167;01mValueError\u001b[39;00m(\u001b[38;5;124m\"\u001b[39m\u001b[38;5;124mbeta should be >=0 in the F-beta score\u001b[39m\u001b[38;5;124m\"\u001b[39m)\n\u001b[0;32m-> 1544\u001b[0m labels \u001b[38;5;241m=\u001b[39m \u001b[43m_check_set_wise_labels\u001b[49m\u001b[43m(\u001b[49m\u001b[43my_true\u001b[49m\u001b[43m,\u001b[49m\u001b[43m \u001b[49m\u001b[43my_pred\u001b[49m\u001b[43m,\u001b[49m\u001b[43m \u001b[49m\u001b[43maverage\u001b[49m\u001b[43m,\u001b[49m\u001b[43m \u001b[49m\u001b[43mlabels\u001b[49m\u001b[43m,\u001b[49m\u001b[43m \u001b[49m\u001b[43mpos_label\u001b[49m\u001b[43m)\u001b[49m\n\u001b[1;32m   1546\u001b[0m \u001b[38;5;66;03m# Calculate tp_sum, pred_sum, true_sum ###\u001b[39;00m\n\u001b[1;32m   1547\u001b[0m samplewise \u001b[38;5;241m=\u001b[39m average \u001b[38;5;241m==\u001b[39m \u001b[38;5;124m\"\u001b[39m\u001b[38;5;124msamples\u001b[39m\u001b[38;5;124m\"\u001b[39m\n",
      "File \u001b[0;32m~/opt/anaconda3/lib/python3.9/site-packages/sklearn/metrics/_classification.py:1356\u001b[0m, in \u001b[0;36m_check_set_wise_labels\u001b[0;34m(y_true, y_pred, average, labels, pos_label)\u001b[0m\n\u001b[1;32m   1354\u001b[0m     \u001b[38;5;28;01mif\u001b[39;00m pos_label \u001b[38;5;129;01mnot\u001b[39;00m \u001b[38;5;129;01min\u001b[39;00m present_labels:\n\u001b[1;32m   1355\u001b[0m         \u001b[38;5;28;01mif\u001b[39;00m \u001b[38;5;28mlen\u001b[39m(present_labels) \u001b[38;5;241m>\u001b[39m\u001b[38;5;241m=\u001b[39m \u001b[38;5;241m2\u001b[39m:\n\u001b[0;32m-> 1356\u001b[0m             \u001b[38;5;28;01mraise\u001b[39;00m \u001b[38;5;167;01mValueError\u001b[39;00m(\n\u001b[1;32m   1357\u001b[0m                 \u001b[38;5;124mf\u001b[39m\u001b[38;5;124m\"\u001b[39m\u001b[38;5;124mpos_label=\u001b[39m\u001b[38;5;132;01m{\u001b[39;00mpos_label\u001b[38;5;132;01m}\u001b[39;00m\u001b[38;5;124m is not a valid label. It \u001b[39m\u001b[38;5;124m\"\u001b[39m\n\u001b[1;32m   1358\u001b[0m                 \u001b[38;5;124mf\u001b[39m\u001b[38;5;124m\"\u001b[39m\u001b[38;5;124mshould be one of \u001b[39m\u001b[38;5;132;01m{\u001b[39;00mpresent_labels\u001b[38;5;132;01m}\u001b[39;00m\u001b[38;5;124m\"\u001b[39m\n\u001b[1;32m   1359\u001b[0m             )\n\u001b[1;32m   1360\u001b[0m     labels \u001b[38;5;241m=\u001b[39m [pos_label]\n\u001b[1;32m   1361\u001b[0m \u001b[38;5;28;01melse\u001b[39;00m:\n",
      "\u001b[0;31mValueError\u001b[0m: pos_label=1 is not a valid label. It should be one of ['Loss', 'Win']"
     ]
    }
   ],
   "source": [
    "model.fit(X_train, y_train)\n",
    "\n",
    "# Predict on the test set\n",
    "y_pred = model.predict(X_test)\n",
    "\n",
    "# Calculate accuracy\n",
    "f1 = f1_score(y_test, y_pred)\n",
    "print(\"Accuracy:\", accuracy)"
   ]
  },
  {
   "cell_type": "markdown",
   "id": "33668bd6",
   "metadata": {},
   "source": [
    "## Logistic Regression Model"
   ]
  },
  {
   "cell_type": "code",
   "execution_count": null,
   "id": "dd96aecd",
   "metadata": {},
   "outputs": [],
   "source": []
  },
  {
   "cell_type": "code",
   "execution_count": 34,
   "id": "5cdb826e",
   "metadata": {},
   "outputs": [],
   "source": [
    "vec = CountVectorizer()\n",
    "X_train = vec.fit_transform(X_train)\n",
    "X_test = vec.transform(X_test)"
   ]
  },
  {
   "cell_type": "code",
   "execution_count": 35,
   "id": "f2d2185b",
   "metadata": {},
   "outputs": [
    {
     "name": "stdout",
     "output_type": "stream",
     "text": [
      "              precision    recall  f1-score   support\n",
      "\n",
      "        Loss       0.60      0.49      0.54      1124\n",
      "         Win       0.63      0.73      0.67      1330\n",
      "\n",
      "    accuracy                           0.62      2454\n",
      "   macro avg       0.62      0.61      0.61      2454\n",
      "weighted avg       0.62      0.62      0.61      2454\n",
      "\n"
     ]
    }
   ],
   "source": [
    "from sklearn.linear_model import LogisticRegression\n",
    "from sklearn.metrics import classification_report\n",
    "\n",
    "lr = LogisticRegression(max_iter = 1000)\n",
    "lr.fit(X_train, y_train)\n",
    "y_pred_lr = lr.predict(X_test)\n",
    "print(classification_report(y_test, y_pred_lr))"
   ]
  },
  {
   "cell_type": "markdown",
   "id": "bd2bae4a",
   "metadata": {},
   "source": [
    "## Convolutional Neural Network"
   ]
  },
  {
   "cell_type": "code",
   "execution_count": null,
   "id": "6864c319",
   "metadata": {},
   "outputs": [],
   "source": [
    "# Remove Stopwords"
   ]
  },
  {
   "cell_type": "code",
   "execution_count": null,
   "id": "6e573b9c",
   "metadata": {},
   "outputs": [],
   "source": [
    "# Lemmatize"
   ]
  },
  {
   "cell_type": "code",
   "execution_count": null,
   "id": "b2286685",
   "metadata": {},
   "outputs": [],
   "source": []
  },
  {
   "cell_type": "code",
   "execution_count": null,
   "id": "aa941e80",
   "metadata": {},
   "outputs": [],
   "source": []
  }
 ],
 "metadata": {
  "kernelspec": {
   "display_name": "Python 3 (ipykernel)",
   "language": "python",
   "name": "python3"
  },
  "language_info": {
   "codemirror_mode": {
    "name": "ipython",
    "version": 3
   },
   "file_extension": ".py",
   "mimetype": "text/x-python",
   "name": "python",
   "nbconvert_exporter": "python",
   "pygments_lexer": "ipython3",
   "version": "3.9.16"
  }
 },
 "nbformat": 4,
 "nbformat_minor": 5
}
