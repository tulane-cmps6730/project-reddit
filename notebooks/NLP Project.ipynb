{
 "cells": [
  {
   "cell_type": "markdown",
   "id": "cea209e5",
   "metadata": {},
   "source": [
    "# A Text Classification of Milwaukee Bucks's Fan Reactions"
   ]
  },
  {
   "cell_type": "markdown",
   "id": "f02f2231",
   "metadata": {},
   "source": [
    "## Collecting and Preparing the Data"
   ]
  },
  {
   "cell_type": "code",
   "execution_count": 2,
   "id": "225cbfe5",
   "metadata": {},
   "outputs": [],
   "source": [
    "# Importing the Necessary Modules\n",
    "from tqdm import tqdm\n",
    "import pandas as pd\n",
    "# import praw\n",
    "from sklearn.model_selection import train_test_split\n",
    "from sklearn.feature_extraction.text import CountVectorizer\n",
    "from sklearn.pipeline import make_pipeline\n",
    "from sklearn.metrics import accuracy_score\n",
    "import re\n",
    "import matplotlib.pyplot as plt\n",
    "import nltk\n",
    "from nltk.corpus import stopwords\n",
    "from nltk.tokenize import word_tokenize\n",
    "from nltk.stem import PorterStemmer\n",
    "from nltk import punkt"
   ]
  },
  {
   "cell_type": "code",
   "execution_count": null,
   "id": "caf7c7d0",
   "metadata": {},
   "outputs": [],
   "source": [
    "# Accessing API\n",
    "user_agent = \"Scraper 1.0 by u/colloj\"\n",
    "\n",
    "reddit = praw.Reddit(client_id='-RlNNaCimqKKkJ_aX1FcKg',\n",
    "                     client_secret='4vSZ7Dm4rtDYXevU8PtIiIK6dtD_Ng',\n",
    "                     user_agent= user_agent)"
   ]
  },
  {
   "cell_type": "code",
   "execution_count": null,
   "id": "73f585b4",
   "metadata": {},
   "outputs": [],
   "source": [
    "# Getting the Data\n",
    "subreddit_name = 'MkeBucks'\n",
    "\n",
    "# Define the string you want to search for in post titles\n",
    "search_string = '[POSTGAME THREAD] Our Milwaukee Bucks'\n",
    "start_date = '2023-10-23'\n",
    "\n",
    "post_names = []\n",
    "comments = []\n",
    "\n",
    "for submission in reddit.subreddit(subreddit_name).search(search_string, time_filter='year', syntax='lucene'):\n",
    "    if '[POSTGAME THREAD]' in submission.title:\n",
    "        print(submission.title)\n"
   ]
  },
  {
   "cell_type": "code",
   "execution_count": null,
   "id": "1a22dbd1",
   "metadata": {},
   "outputs": [],
   "source": [
    "# Getting the Data\n",
    "subreddit_name = 'MkeBucks'\n",
    "\n",
    "# Define the string you want to search for in post titles\n",
    "search_string = '[POSTGAME THREAD] Our Milwaukee Bucks'\n",
    "start_date = '2023-10-23'\n",
    "\n",
    "post_names = []\n",
    "comments = []\n",
    "\n",
    "total_submissions = len(list(reddit.subreddit(subreddit_name).search(search_string, time_filter='year', syntax='lucene')))\n",
    "\n",
    "for submission in tqdm(reddit.subreddit(subreddit_name).search(search_string, time_filter='year', syntax='lucene'), total = total_submissions):\n",
    "    if '[POSTGAME THREAD]' in submission.title:\n",
    "        submission.comments.replace_more(limit=None)\n",
    "        for comment in submission.comments.list():\n",
    "            comments.append(comment.body)\n",
    "            post_names.append(submission.title)\n",
    "\n",
    "post_names, comments"
   ]
  },
  {
   "cell_type": "code",
   "execution_count": null,
   "id": "6f756d2a",
   "metadata": {},
   "outputs": [],
   "source": [
    "# Create a DataFrame from the lists\n",
    "df = pd.DataFrame({'Post_Name': post_names, 'Comment': comments})\n",
    "\n",
    "# Display the DataFrame\n",
    "df.head()"
   ]
  },
  {
   "cell_type": "code",
   "execution_count": 2,
   "id": "e9b8311d",
   "metadata": {},
   "outputs": [
    {
     "ename": "NameError",
     "evalue": "name 'df' is not defined",
     "output_type": "error",
     "traceback": [
      "\u001b[0;31m---------------------------------------------------------------------------\u001b[0m",
      "\u001b[0;31mNameError\u001b[0m                                 Traceback (most recent call last)",
      "Cell \u001b[0;32mIn[2], line 1\u001b[0m\n\u001b[0;32m----> 1\u001b[0m \u001b[43mdf\u001b[49m\u001b[38;5;241m.\u001b[39mto_csv(\u001b[38;5;124m\"\u001b[39m\u001b[38;5;124mbucks.csv\u001b[39m\u001b[38;5;124m\"\u001b[39m, index \u001b[38;5;241m=\u001b[39m \u001b[38;5;28;01mFalse\u001b[39;00m)\n",
      "\u001b[0;31mNameError\u001b[0m: name 'df' is not defined"
     ]
    }
   ],
   "source": [
    "df.to_csv(\"bucks.csv\", index = False)"
   ]
  },
  {
   "cell_type": "code",
   "execution_count": 3,
   "id": "cd3135e4",
   "metadata": {},
   "outputs": [
    {
     "data": {
      "text/html": [
       "<div>\n",
       "<style scoped>\n",
       "    .dataframe tbody tr th:only-of-type {\n",
       "        vertical-align: middle;\n",
       "    }\n",
       "\n",
       "    .dataframe tbody tr th {\n",
       "        vertical-align: top;\n",
       "    }\n",
       "\n",
       "    .dataframe thead th {\n",
       "        text-align: right;\n",
       "    }\n",
       "</style>\n",
       "<table border=\"1\" class=\"dataframe\">\n",
       "  <thead>\n",
       "    <tr style=\"text-align: right;\">\n",
       "      <th></th>\n",
       "      <th>Post_Name</th>\n",
       "      <th>Comment</th>\n",
       "    </tr>\n",
       "  </thead>\n",
       "  <tbody>\n",
       "    <tr>\n",
       "      <th>0</th>\n",
       "      <td>[POSTGAME THREAD] Our Milwaukee Bucks (24-10) ...</td>\n",
       "      <td>\\n||\\t\\t\\n|:-:|\\t\\t\\n|[](/MIL) **130 -  140** ...</td>\n",
       "    </tr>\n",
       "    <tr>\n",
       "      <th>1</th>\n",
       "      <td>[POSTGAME THREAD] Our Milwaukee Bucks (24-10) ...</td>\n",
       "      <td>Took too long to pull Brook and Pat out and gi...</td>\n",
       "    </tr>\n",
       "    <tr>\n",
       "      <th>2</th>\n",
       "      <td>[POSTGAME THREAD] Our Milwaukee Bucks (24-10) ...</td>\n",
       "      <td>The Bucks, for whatever reason, look like they...</td>\n",
       "    </tr>\n",
       "    <tr>\n",
       "      <th>3</th>\n",
       "      <td>[POSTGAME THREAD] Our Milwaukee Bucks (24-10) ...</td>\n",
       "      <td>lmfao if brunson tears this team apart tyrese ...</td>\n",
       "    </tr>\n",
       "    <tr>\n",
       "      <th>4</th>\n",
       "      <td>[POSTGAME THREAD] Our Milwaukee Bucks (24-10) ...</td>\n",
       "      <td>Hear me out... \\n\\nFirst blessoe then jrue, sh...</td>\n",
       "    </tr>\n",
       "  </tbody>\n",
       "</table>\n",
       "</div>"
      ],
      "text/plain": [
       "                                           Post_Name  \\\n",
       "0  [POSTGAME THREAD] Our Milwaukee Bucks (24-10) ...   \n",
       "1  [POSTGAME THREAD] Our Milwaukee Bucks (24-10) ...   \n",
       "2  [POSTGAME THREAD] Our Milwaukee Bucks (24-10) ...   \n",
       "3  [POSTGAME THREAD] Our Milwaukee Bucks (24-10) ...   \n",
       "4  [POSTGAME THREAD] Our Milwaukee Bucks (24-10) ...   \n",
       "\n",
       "                                             Comment  \n",
       "0  \\n||\\t\\t\\n|:-:|\\t\\t\\n|[](/MIL) **130 -  140** ...  \n",
       "1  Took too long to pull Brook and Pat out and gi...  \n",
       "2  The Bucks, for whatever reason, look like they...  \n",
       "3  lmfao if brunson tears this team apart tyrese ...  \n",
       "4  Hear me out... \\n\\nFirst blessoe then jrue, sh...  "
      ]
     },
     "execution_count": 3,
     "metadata": {},
     "output_type": "execute_result"
    }
   ],
   "source": [
    "df = pd.read_csv(\"bucks.csv\")\n",
    "df.head()"
   ]
  },
  {
   "cell_type": "code",
   "execution_count": 4,
   "id": "1f2b3e8c",
   "metadata": {},
   "outputs": [
    {
     "data": {
      "text/html": [
       "<div>\n",
       "<style scoped>\n",
       "    .dataframe tbody tr th:only-of-type {\n",
       "        vertical-align: middle;\n",
       "    }\n",
       "\n",
       "    .dataframe tbody tr th {\n",
       "        vertical-align: top;\n",
       "    }\n",
       "\n",
       "    .dataframe thead th {\n",
       "        text-align: right;\n",
       "    }\n",
       "</style>\n",
       "<table border=\"1\" class=\"dataframe\">\n",
       "  <thead>\n",
       "    <tr style=\"text-align: right;\">\n",
       "      <th></th>\n",
       "      <th>Post_Name</th>\n",
       "      <th>Comment</th>\n",
       "      <th>Date</th>\n",
       "    </tr>\n",
       "  </thead>\n",
       "  <tbody>\n",
       "    <tr>\n",
       "      <th>0</th>\n",
       "      <td>[POSTGAME THREAD] Our Milwaukee Bucks (24-10) ...</td>\n",
       "      <td>\\n||\\t\\t\\n|:-:|\\t\\t\\n|[](/MIL) **130 -  140** ...</td>\n",
       "      <td>1/3/2024</td>\n",
       "    </tr>\n",
       "    <tr>\n",
       "      <th>1</th>\n",
       "      <td>[POSTGAME THREAD] Our Milwaukee Bucks (24-10) ...</td>\n",
       "      <td>Took too long to pull Brook and Pat out and gi...</td>\n",
       "      <td>1/3/2024</td>\n",
       "    </tr>\n",
       "    <tr>\n",
       "      <th>2</th>\n",
       "      <td>[POSTGAME THREAD] Our Milwaukee Bucks (24-10) ...</td>\n",
       "      <td>The Bucks, for whatever reason, look like they...</td>\n",
       "      <td>1/3/2024</td>\n",
       "    </tr>\n",
       "    <tr>\n",
       "      <th>3</th>\n",
       "      <td>[POSTGAME THREAD] Our Milwaukee Bucks (24-10) ...</td>\n",
       "      <td>lmfao if brunson tears this team apart tyrese ...</td>\n",
       "      <td>1/3/2024</td>\n",
       "    </tr>\n",
       "    <tr>\n",
       "      <th>4</th>\n",
       "      <td>[POSTGAME THREAD] Our Milwaukee Bucks (24-10) ...</td>\n",
       "      <td>Hear me out... \\n\\nFirst blessoe then jrue, sh...</td>\n",
       "      <td>1/3/2024</td>\n",
       "    </tr>\n",
       "  </tbody>\n",
       "</table>\n",
       "</div>"
      ],
      "text/plain": [
       "                                           Post_Name  \\\n",
       "0  [POSTGAME THREAD] Our Milwaukee Bucks (24-10) ...   \n",
       "1  [POSTGAME THREAD] Our Milwaukee Bucks (24-10) ...   \n",
       "2  [POSTGAME THREAD] Our Milwaukee Bucks (24-10) ...   \n",
       "3  [POSTGAME THREAD] Our Milwaukee Bucks (24-10) ...   \n",
       "4  [POSTGAME THREAD] Our Milwaukee Bucks (24-10) ...   \n",
       "\n",
       "                                             Comment      Date  \n",
       "0  \\n||\\t\\t\\n|:-:|\\t\\t\\n|[](/MIL) **130 -  140** ...  1/3/2024  \n",
       "1  Took too long to pull Brook and Pat out and gi...  1/3/2024  \n",
       "2  The Bucks, for whatever reason, look like they...  1/3/2024  \n",
       "3  lmfao if brunson tears this team apart tyrese ...  1/3/2024  \n",
       "4  Hear me out... \\n\\nFirst blessoe then jrue, sh...  1/3/2024  "
      ]
     },
     "execution_count": 4,
     "metadata": {},
     "output_type": "execute_result"
    }
   ],
   "source": [
    "# Getting the Dates\n",
    "def get_after_last_space(string):\n",
    "    return string.split(' ')[-1]\n",
    "df[\"Date\"] = df[\"Post_Name\"].apply(get_after_last_space)\n",
    "df.head()"
   ]
  },
  {
   "cell_type": "code",
   "execution_count": 5,
   "id": "230d247a",
   "metadata": {},
   "outputs": [
    {
     "data": {
      "text/plain": [
       "array(['1/3/2024', '3/4/2024', '2/15/2024', '10/26/2023', '1/31/2024',\n",
       "       '3/8/2024', '3/10/2024', '11/1/2023', '11/8/2023', '1/6/2024',\n",
       "       '1/27/2024', '2/03/2024', '11/6/2023', '1/8/2024', '1/11/2024',\n",
       "       '2/25/2024', '2/23/2024', '11/11/2023', '3/14/2024', '1/14/2024',\n",
       "       '11/22/2023', '1/4/2024', '11/18/2023', '11/24/2023', '2/04/2024',\n",
       "       '3/1/2024', '1/1/2024', '3/12/2024', '04/26/2023', '1/24/2024',\n",
       "       '2/12/2024', '12/11/2023', '10/20/2023', '2/13/2024', '2/8/2024',\n",
       "       '11/9/2023', '12/23/2023', '3/6/2024', '11/28/2023', '11/30/2023',\n",
       "       '1/20/2024', '2/27/2024', '12/13/2023', '11/15/2023', '1/13/2024',\n",
       "       '11/17/2023', '12/2/2023', '12/17/2023', '12/27/2023', '2/06/2024',\n",
       "       '10/29/2023', '12/29/2023', '1/17/2024', '11/26/2023',\n",
       "       '12/21/2023', '11/20/2023', '1/22/2024', '1/26/2024', '04/24/2023',\n",
       "       '12/19/2023', '12/16/2023', '2/9/2024', '2/29/2024', '11/13/2023',\n",
       "       '04/22/2023', '04/19/2023', '11/3/2023', '04/16/2023', 'round'],\n",
       "      dtype=object)"
      ]
     },
     "execution_count": 5,
     "metadata": {},
     "output_type": "execute_result"
    }
   ],
   "source": [
    "df[\"Date\"].unique()"
   ]
  },
  {
   "cell_type": "code",
   "execution_count": 6,
   "id": "36c1f8df",
   "metadata": {},
   "outputs": [
    {
     "data": {
      "text/plain": [
       "array(['1/3/2024', '3/4/2024', '2/15/2024', '10/26/2023', '1/31/2024',\n",
       "       '3/8/2024', '3/10/2024', '11/1/2023', '11/8/2023', '1/6/2024',\n",
       "       '1/27/2024', '2/03/2024', '11/6/2023', '1/8/2024', '1/11/2024',\n",
       "       '2/25/2024', '2/23/2024', '11/11/2023', '3/14/2024', '1/14/2024',\n",
       "       '11/22/2023', '1/4/2024', '11/18/2023', '11/24/2023', '2/04/2024',\n",
       "       '3/1/2024', '1/1/2024', '3/12/2024', '04/26/2023', '1/24/2024',\n",
       "       '2/12/2024', '12/11/2023', '10/20/2023', '2/13/2024', '2/8/2024',\n",
       "       '11/9/2023', '12/23/2023', '3/6/2024', '11/28/2023', '11/30/2023',\n",
       "       '1/20/2024', '2/27/2024', '12/13/2023', '11/15/2023', '1/13/2024',\n",
       "       '11/17/2023', '12/2/2023', '12/17/2023', '12/27/2023', '2/06/2024',\n",
       "       '10/29/2023', '12/29/2023', '1/17/2024', '11/26/2023',\n",
       "       '12/21/2023', '11/20/2023', '1/22/2024', '1/26/2024', '04/24/2023',\n",
       "       '12/19/2023', '12/16/2023', '2/9/2024', '2/29/2024', '11/13/2023',\n",
       "       '04/22/2023', '04/19/2023', '11/3/2023', '04/16/2023'],\n",
       "      dtype=object)"
      ]
     },
     "execution_count": 6,
     "metadata": {},
     "output_type": "execute_result"
    }
   ],
   "source": [
    "df = df[df[\"Date\"] != \"round\"]\n",
    "df[\"Date\"].unique()"
   ]
  },
  {
   "cell_type": "code",
   "execution_count": 7,
   "id": "150e0ec2",
   "metadata": {},
   "outputs": [
    {
     "data": {
      "text/html": [
       "<div>\n",
       "<style scoped>\n",
       "    .dataframe tbody tr th:only-of-type {\n",
       "        vertical-align: middle;\n",
       "    }\n",
       "\n",
       "    .dataframe tbody tr th {\n",
       "        vertical-align: top;\n",
       "    }\n",
       "\n",
       "    .dataframe thead th {\n",
       "        text-align: right;\n",
       "    }\n",
       "</style>\n",
       "<table border=\"1\" class=\"dataframe\">\n",
       "  <thead>\n",
       "    <tr style=\"text-align: right;\">\n",
       "      <th></th>\n",
       "      <th>Post_Name</th>\n",
       "      <th>Comment</th>\n",
       "      <th>Date</th>\n",
       "    </tr>\n",
       "  </thead>\n",
       "  <tbody>\n",
       "    <tr>\n",
       "      <th>0</th>\n",
       "      <td>[POSTGAME THREAD] Our Milwaukee Bucks (24-10) ...</td>\n",
       "      <td>\\n||\\t\\t\\n|:-:|\\t\\t\\n|[](/MIL) **130 -  140** ...</td>\n",
       "      <td>2024-01-03</td>\n",
       "    </tr>\n",
       "    <tr>\n",
       "      <th>1</th>\n",
       "      <td>[POSTGAME THREAD] Our Milwaukee Bucks (24-10) ...</td>\n",
       "      <td>Took too long to pull Brook and Pat out and gi...</td>\n",
       "      <td>2024-01-03</td>\n",
       "    </tr>\n",
       "    <tr>\n",
       "      <th>2</th>\n",
       "      <td>[POSTGAME THREAD] Our Milwaukee Bucks (24-10) ...</td>\n",
       "      <td>The Bucks, for whatever reason, look like they...</td>\n",
       "      <td>2024-01-03</td>\n",
       "    </tr>\n",
       "    <tr>\n",
       "      <th>3</th>\n",
       "      <td>[POSTGAME THREAD] Our Milwaukee Bucks (24-10) ...</td>\n",
       "      <td>lmfao if brunson tears this team apart tyrese ...</td>\n",
       "      <td>2024-01-03</td>\n",
       "    </tr>\n",
       "    <tr>\n",
       "      <th>4</th>\n",
       "      <td>[POSTGAME THREAD] Our Milwaukee Bucks (24-10) ...</td>\n",
       "      <td>Hear me out... \\n\\nFirst blessoe then jrue, sh...</td>\n",
       "      <td>2024-01-03</td>\n",
       "    </tr>\n",
       "  </tbody>\n",
       "</table>\n",
       "</div>"
      ],
      "text/plain": [
       "                                           Post_Name  \\\n",
       "0  [POSTGAME THREAD] Our Milwaukee Bucks (24-10) ...   \n",
       "1  [POSTGAME THREAD] Our Milwaukee Bucks (24-10) ...   \n",
       "2  [POSTGAME THREAD] Our Milwaukee Bucks (24-10) ...   \n",
       "3  [POSTGAME THREAD] Our Milwaukee Bucks (24-10) ...   \n",
       "4  [POSTGAME THREAD] Our Milwaukee Bucks (24-10) ...   \n",
       "\n",
       "                                             Comment       Date  \n",
       "0  \\n||\\t\\t\\n|:-:|\\t\\t\\n|[](/MIL) **130 -  140** ... 2024-01-03  \n",
       "1  Took too long to pull Brook and Pat out and gi... 2024-01-03  \n",
       "2  The Bucks, for whatever reason, look like they... 2024-01-03  \n",
       "3  lmfao if brunson tears this team apart tyrese ... 2024-01-03  \n",
       "4  Hear me out... \\n\\nFirst blessoe then jrue, sh... 2024-01-03  "
      ]
     },
     "execution_count": 7,
     "metadata": {},
     "output_type": "execute_result"
    }
   ],
   "source": [
    "df['Date'] = pd.to_datetime(df['Date'])\n",
    "df.head()"
   ]
  },
  {
   "cell_type": "code",
   "execution_count": 8,
   "id": "06d0da79",
   "metadata": {},
   "outputs": [
    {
     "data": {
      "text/html": [
       "<div>\n",
       "<style scoped>\n",
       "    .dataframe tbody tr th:only-of-type {\n",
       "        vertical-align: middle;\n",
       "    }\n",
       "\n",
       "    .dataframe tbody tr th {\n",
       "        vertical-align: top;\n",
       "    }\n",
       "\n",
       "    .dataframe thead th {\n",
       "        text-align: right;\n",
       "    }\n",
       "</style>\n",
       "<table border=\"1\" class=\"dataframe\">\n",
       "  <thead>\n",
       "    <tr style=\"text-align: right;\">\n",
       "      <th></th>\n",
       "      <th>Post_Name</th>\n",
       "      <th>Comment</th>\n",
       "      <th>Date</th>\n",
       "    </tr>\n",
       "  </thead>\n",
       "  <tbody>\n",
       "    <tr>\n",
       "      <th>0</th>\n",
       "      <td>[POSTGAME THREAD] Our Milwaukee Bucks (24-10) ...</td>\n",
       "      <td>\\n||\\t\\t\\n|:-:|\\t\\t\\n|[](/MIL) **130 -  140** ...</td>\n",
       "      <td>2024-01-03</td>\n",
       "    </tr>\n",
       "    <tr>\n",
       "      <th>1</th>\n",
       "      <td>[POSTGAME THREAD] Our Milwaukee Bucks (24-10) ...</td>\n",
       "      <td>Took too long to pull Brook and Pat out and gi...</td>\n",
       "      <td>2024-01-03</td>\n",
       "    </tr>\n",
       "    <tr>\n",
       "      <th>2</th>\n",
       "      <td>[POSTGAME THREAD] Our Milwaukee Bucks (24-10) ...</td>\n",
       "      <td>The Bucks, for whatever reason, look like they...</td>\n",
       "      <td>2024-01-03</td>\n",
       "    </tr>\n",
       "    <tr>\n",
       "      <th>3</th>\n",
       "      <td>[POSTGAME THREAD] Our Milwaukee Bucks (24-10) ...</td>\n",
       "      <td>lmfao if brunson tears this team apart tyrese ...</td>\n",
       "      <td>2024-01-03</td>\n",
       "    </tr>\n",
       "    <tr>\n",
       "      <th>4</th>\n",
       "      <td>[POSTGAME THREAD] Our Milwaukee Bucks (24-10) ...</td>\n",
       "      <td>Hear me out... \\n\\nFirst blessoe then jrue, sh...</td>\n",
       "      <td>2024-01-03</td>\n",
       "    </tr>\n",
       "  </tbody>\n",
       "</table>\n",
       "</div>"
      ],
      "text/plain": [
       "                                           Post_Name  \\\n",
       "0  [POSTGAME THREAD] Our Milwaukee Bucks (24-10) ...   \n",
       "1  [POSTGAME THREAD] Our Milwaukee Bucks (24-10) ...   \n",
       "2  [POSTGAME THREAD] Our Milwaukee Bucks (24-10) ...   \n",
       "3  [POSTGAME THREAD] Our Milwaukee Bucks (24-10) ...   \n",
       "4  [POSTGAME THREAD] Our Milwaukee Bucks (24-10) ...   \n",
       "\n",
       "                                             Comment       Date  \n",
       "0  \\n||\\t\\t\\n|:-:|\\t\\t\\n|[](/MIL) **130 -  140** ... 2024-01-03  \n",
       "1  Took too long to pull Brook and Pat out and gi... 2024-01-03  \n",
       "2  The Bucks, for whatever reason, look like they... 2024-01-03  \n",
       "3  lmfao if brunson tears this team apart tyrese ... 2024-01-03  \n",
       "4  Hear me out... \\n\\nFirst blessoe then jrue, sh... 2024-01-03  "
      ]
     },
     "execution_count": 8,
     "metadata": {},
     "output_type": "execute_result"
    }
   ],
   "source": [
    "# Getting Data For This Season\n",
    "df = df[df[\"Date\"] >= \"2023-10-26\"]\n",
    "df.head()"
   ]
  },
  {
   "cell_type": "code",
   "execution_count": 9,
   "id": "c989b9d3",
   "metadata": {},
   "outputs": [
    {
     "data": {
      "text/plain": [
       "64"
      ]
     },
     "execution_count": 9,
     "metadata": {},
     "output_type": "execute_result"
    }
   ],
   "source": [
    "# Number of Games\n",
    "len(df[\"Post_Name\"].unique())"
   ]
  },
  {
   "cell_type": "code",
   "execution_count": 10,
   "id": "27af1d90",
   "metadata": {},
   "outputs": [
    {
     "data": {
      "text/plain": [
       "12266"
      ]
     },
     "execution_count": 10,
     "metadata": {},
     "output_type": "execute_result"
    }
   ],
   "source": [
    "# Number of Columns\n",
    "len(df)"
   ]
  },
  {
   "cell_type": "code",
   "execution_count": 11,
   "id": "84123afd",
   "metadata": {},
   "outputs": [
    {
     "data": {
      "text/html": [
       "<div>\n",
       "<style scoped>\n",
       "    .dataframe tbody tr th:only-of-type {\n",
       "        vertical-align: middle;\n",
       "    }\n",
       "\n",
       "    .dataframe tbody tr th {\n",
       "        vertical-align: top;\n",
       "    }\n",
       "\n",
       "    .dataframe thead th {\n",
       "        text-align: right;\n",
       "    }\n",
       "</style>\n",
       "<table border=\"1\" class=\"dataframe\">\n",
       "  <thead>\n",
       "    <tr style=\"text-align: right;\">\n",
       "      <th></th>\n",
       "      <th>Post_Name</th>\n",
       "      <th>Comment</th>\n",
       "      <th>Date</th>\n",
       "      <th>Result</th>\n",
       "    </tr>\n",
       "  </thead>\n",
       "  <tbody>\n",
       "    <tr>\n",
       "      <th>0</th>\n",
       "      <td>[POSTGAME THREAD] Our Milwaukee Bucks (24-10) ...</td>\n",
       "      <td>\\n||\\t\\t\\n|:-:|\\t\\t\\n|[](/MIL) **130 -  140** ...</td>\n",
       "      <td>2024-01-03</td>\n",
       "      <td>Loss</td>\n",
       "    </tr>\n",
       "    <tr>\n",
       "      <th>1</th>\n",
       "      <td>[POSTGAME THREAD] Our Milwaukee Bucks (24-10) ...</td>\n",
       "      <td>Took too long to pull Brook and Pat out and gi...</td>\n",
       "      <td>2024-01-03</td>\n",
       "      <td>Loss</td>\n",
       "    </tr>\n",
       "    <tr>\n",
       "      <th>2</th>\n",
       "      <td>[POSTGAME THREAD] Our Milwaukee Bucks (24-10) ...</td>\n",
       "      <td>The Bucks, for whatever reason, look like they...</td>\n",
       "      <td>2024-01-03</td>\n",
       "      <td>Loss</td>\n",
       "    </tr>\n",
       "    <tr>\n",
       "      <th>3</th>\n",
       "      <td>[POSTGAME THREAD] Our Milwaukee Bucks (24-10) ...</td>\n",
       "      <td>lmfao if brunson tears this team apart tyrese ...</td>\n",
       "      <td>2024-01-03</td>\n",
       "      <td>Loss</td>\n",
       "    </tr>\n",
       "    <tr>\n",
       "      <th>4</th>\n",
       "      <td>[POSTGAME THREAD] Our Milwaukee Bucks (24-10) ...</td>\n",
       "      <td>Hear me out... \\n\\nFirst blessoe then jrue, sh...</td>\n",
       "      <td>2024-01-03</td>\n",
       "      <td>Loss</td>\n",
       "    </tr>\n",
       "  </tbody>\n",
       "</table>\n",
       "</div>"
      ],
      "text/plain": [
       "                                           Post_Name  \\\n",
       "0  [POSTGAME THREAD] Our Milwaukee Bucks (24-10) ...   \n",
       "1  [POSTGAME THREAD] Our Milwaukee Bucks (24-10) ...   \n",
       "2  [POSTGAME THREAD] Our Milwaukee Bucks (24-10) ...   \n",
       "3  [POSTGAME THREAD] Our Milwaukee Bucks (24-10) ...   \n",
       "4  [POSTGAME THREAD] Our Milwaukee Bucks (24-10) ...   \n",
       "\n",
       "                                             Comment       Date Result  \n",
       "0  \\n||\\t\\t\\n|:-:|\\t\\t\\n|[](/MIL) **130 -  140** ... 2024-01-03   Loss  \n",
       "1  Took too long to pull Brook and Pat out and gi... 2024-01-03   Loss  \n",
       "2  The Bucks, for whatever reason, look like they... 2024-01-03   Loss  \n",
       "3  lmfao if brunson tears this team apart tyrese ... 2024-01-03   Loss  \n",
       "4  Hear me out... \\n\\nFirst blessoe then jrue, sh... 2024-01-03   Loss  "
      ]
     },
     "execution_count": 11,
     "metadata": {},
     "output_type": "execute_result"
    }
   ],
   "source": [
    "# Create the Result Column\n",
    "def label_column(string):\n",
    "    if any(word in string for word in [\"defeat\", \"trounce\", \"beat\"]):\n",
    "        return \"Win\"\n",
    "    elif any(word in string for word in [\"fall\", \"sputter\", \"are defeated\"]):\n",
    "        return \"Loss\"\n",
    "    else:\n",
    "        return \"Unknown\"\n",
    "df[\"Result\"] = df[\"Post_Name\"].apply(label_column)\n",
    "df.head()"
   ]
  },
  {
   "cell_type": "code",
   "execution_count": 12,
   "id": "d345d448",
   "metadata": {},
   "outputs": [],
   "source": [
    "# Sorting Dataframe By Date\n",
    "df = df.sort_values(by = \"Date\").reset_index(drop = True)"
   ]
  },
  {
   "cell_type": "code",
   "execution_count": 13,
   "id": "cca11432",
   "metadata": {},
   "outputs": [
    {
     "data": {
      "text/html": [
       "<div>\n",
       "<style scoped>\n",
       "    .dataframe tbody tr th:only-of-type {\n",
       "        vertical-align: middle;\n",
       "    }\n",
       "\n",
       "    .dataframe tbody tr th {\n",
       "        vertical-align: top;\n",
       "    }\n",
       "\n",
       "    .dataframe thead th {\n",
       "        text-align: right;\n",
       "    }\n",
       "</style>\n",
       "<table border=\"1\" class=\"dataframe\">\n",
       "  <thead>\n",
       "    <tr style=\"text-align: right;\">\n",
       "      <th></th>\n",
       "      <th>Post_Name</th>\n",
       "      <th>Comment</th>\n",
       "      <th>Date</th>\n",
       "      <th>Result</th>\n",
       "    </tr>\n",
       "  </thead>\n",
       "  <tbody>\n",
       "    <tr>\n",
       "      <th>0</th>\n",
       "      <td>[POSTGAME THREAD] Our Milwaukee Bucks (1-0) de...</td>\n",
       "      <td>But have you considered Damian Lillard?</td>\n",
       "      <td>2023-10-26</td>\n",
       "      <td>Win</td>\n",
       "    </tr>\n",
       "    <tr>\n",
       "      <th>1</th>\n",
       "      <td>[POSTGAME THREAD] Our Milwaukee Bucks (1-0) de...</td>\n",
       "      <td>Help yourself to a Dame flair :)</td>\n",
       "      <td>2023-10-26</td>\n",
       "      <td>Win</td>\n",
       "    </tr>\n",
       "    <tr>\n",
       "      <th>2</th>\n",
       "      <td>[POSTGAME THREAD] Our Milwaukee Bucks (1-0) de...</td>\n",
       "      <td>the most casual 30 point games in the nba, the...</td>\n",
       "      <td>2023-10-26</td>\n",
       "      <td>Win</td>\n",
       "    </tr>\n",
       "    <tr>\n",
       "      <th>3</th>\n",
       "      <td>[POSTGAME THREAD] Our Milwaukee Bucks (1-0) de...</td>\n",
       "      <td>Dame regularly went nuclear with the most medi...</td>\n",
       "      <td>2023-10-26</td>\n",
       "      <td>Win</td>\n",
       "    </tr>\n",
       "    <tr>\n",
       "      <th>4</th>\n",
       "      <td>[POSTGAME THREAD] Our Milwaukee Bucks (1-0) de...</td>\n",
       "      <td>Wait until you see him get hot from 3 and star...</td>\n",
       "      <td>2023-10-26</td>\n",
       "      <td>Win</td>\n",
       "    </tr>\n",
       "  </tbody>\n",
       "</table>\n",
       "</div>"
      ],
      "text/plain": [
       "                                           Post_Name  \\\n",
       "0  [POSTGAME THREAD] Our Milwaukee Bucks (1-0) de...   \n",
       "1  [POSTGAME THREAD] Our Milwaukee Bucks (1-0) de...   \n",
       "2  [POSTGAME THREAD] Our Milwaukee Bucks (1-0) de...   \n",
       "3  [POSTGAME THREAD] Our Milwaukee Bucks (1-0) de...   \n",
       "4  [POSTGAME THREAD] Our Milwaukee Bucks (1-0) de...   \n",
       "\n",
       "                                             Comment       Date Result  \n",
       "0            But have you considered Damian Lillard? 2023-10-26    Win  \n",
       "1                   Help yourself to a Dame flair :) 2023-10-26    Win  \n",
       "2  the most casual 30 point games in the nba, the... 2023-10-26    Win  \n",
       "3  Dame regularly went nuclear with the most medi... 2023-10-26    Win  \n",
       "4  Wait until you see him get hot from 3 and star... 2023-10-26    Win  "
      ]
     },
     "execution_count": 13,
     "metadata": {},
     "output_type": "execute_result"
    }
   ],
   "source": [
    "df.head()"
   ]
  },
  {
   "cell_type": "markdown",
   "id": "567ce84e",
   "metadata": {},
   "source": [
    "### Prepare Comments for Modeling"
   ]
  },
  {
   "cell_type": "code",
   "execution_count": 14,
   "id": "1a615f00",
   "metadata": {},
   "outputs": [
    {
     "data": {
      "text/html": [
       "<div>\n",
       "<style scoped>\n",
       "    .dataframe tbody tr th:only-of-type {\n",
       "        vertical-align: middle;\n",
       "    }\n",
       "\n",
       "    .dataframe tbody tr th {\n",
       "        vertical-align: top;\n",
       "    }\n",
       "\n",
       "    .dataframe thead th {\n",
       "        text-align: right;\n",
       "    }\n",
       "</style>\n",
       "<table border=\"1\" class=\"dataframe\">\n",
       "  <thead>\n",
       "    <tr style=\"text-align: right;\">\n",
       "      <th></th>\n",
       "      <th>Post_Name</th>\n",
       "      <th>Comment</th>\n",
       "      <th>Date</th>\n",
       "      <th>Result</th>\n",
       "      <th>Comment_Adj</th>\n",
       "    </tr>\n",
       "  </thead>\n",
       "  <tbody>\n",
       "    <tr>\n",
       "      <th>0</th>\n",
       "      <td>[POSTGAME THREAD] Our Milwaukee Bucks (1-0) de...</td>\n",
       "      <td>But have you considered Damian Lillard?</td>\n",
       "      <td>2023-10-26</td>\n",
       "      <td>Win</td>\n",
       "      <td>but have you considered damian lillard</td>\n",
       "    </tr>\n",
       "    <tr>\n",
       "      <th>1</th>\n",
       "      <td>[POSTGAME THREAD] Our Milwaukee Bucks (1-0) de...</td>\n",
       "      <td>Help yourself to a Dame flair :)</td>\n",
       "      <td>2023-10-26</td>\n",
       "      <td>Win</td>\n",
       "      <td>help yourself to a dame flair</td>\n",
       "    </tr>\n",
       "    <tr>\n",
       "      <th>2</th>\n",
       "      <td>[POSTGAME THREAD] Our Milwaukee Bucks (1-0) de...</td>\n",
       "      <td>the most casual 30 point games in the nba, the...</td>\n",
       "      <td>2023-10-26</td>\n",
       "      <td>Win</td>\n",
       "      <td>the most casual 30 point games in the nba ther...</td>\n",
       "    </tr>\n",
       "    <tr>\n",
       "      <th>3</th>\n",
       "      <td>[POSTGAME THREAD] Our Milwaukee Bucks (1-0) de...</td>\n",
       "      <td>Dame regularly went nuclear with the most medi...</td>\n",
       "      <td>2023-10-26</td>\n",
       "      <td>Win</td>\n",
       "      <td>dame regularly went nuclear with the most medi...</td>\n",
       "    </tr>\n",
       "    <tr>\n",
       "      <th>4</th>\n",
       "      <td>[POSTGAME THREAD] Our Milwaukee Bucks (1-0) de...</td>\n",
       "      <td>Wait until you see him get hot from 3 and star...</td>\n",
       "      <td>2023-10-26</td>\n",
       "      <td>Win</td>\n",
       "      <td>wait until you see him get hot from 3 and star...</td>\n",
       "    </tr>\n",
       "  </tbody>\n",
       "</table>\n",
       "</div>"
      ],
      "text/plain": [
       "                                           Post_Name  \\\n",
       "0  [POSTGAME THREAD] Our Milwaukee Bucks (1-0) de...   \n",
       "1  [POSTGAME THREAD] Our Milwaukee Bucks (1-0) de...   \n",
       "2  [POSTGAME THREAD] Our Milwaukee Bucks (1-0) de...   \n",
       "3  [POSTGAME THREAD] Our Milwaukee Bucks (1-0) de...   \n",
       "4  [POSTGAME THREAD] Our Milwaukee Bucks (1-0) de...   \n",
       "\n",
       "                                             Comment       Date Result  \\\n",
       "0            But have you considered Damian Lillard? 2023-10-26    Win   \n",
       "1                   Help yourself to a Dame flair :) 2023-10-26    Win   \n",
       "2  the most casual 30 point games in the nba, the... 2023-10-26    Win   \n",
       "3  Dame regularly went nuclear with the most medi... 2023-10-26    Win   \n",
       "4  Wait until you see him get hot from 3 and star... 2023-10-26    Win   \n",
       "\n",
       "                                         Comment_Adj  \n",
       "0             but have you considered damian lillard  \n",
       "1                     help yourself to a dame flair   \n",
       "2  the most casual 30 point games in the nba ther...  \n",
       "3  dame regularly went nuclear with the most medi...  \n",
       "4  wait until you see him get hot from 3 and star...  "
      ]
     },
     "execution_count": 14,
     "metadata": {},
     "output_type": "execute_result"
    }
   ],
   "source": [
    "# Tokenize, then rejoin\n",
    "def tokenize(document):\n",
    "    # YOUR CODE HERE\n",
    "    document = document.split()\n",
    "    \n",
    "    for item in document:\n",
    "        document = [re.sub(r'^\\W+|\\W+$', \"\", item) for item in document]\n",
    "            \n",
    "    document = [item.lower() for item in document]\n",
    "    \n",
    "    document = \" \".join(document)\n",
    "    \n",
    "    return document\n",
    "\n",
    "df[\"Comment_Adj\"] = df[\"Comment\"].apply(tokenize)\n",
    "df.head()"
   ]
  },
  {
   "cell_type": "code",
   "execution_count": 15,
   "id": "3383201b",
   "metadata": {},
   "outputs": [
    {
     "data": {
      "text/html": [
       "<div>\n",
       "<style scoped>\n",
       "    .dataframe tbody tr th:only-of-type {\n",
       "        vertical-align: middle;\n",
       "    }\n",
       "\n",
       "    .dataframe tbody tr th {\n",
       "        vertical-align: top;\n",
       "    }\n",
       "\n",
       "    .dataframe thead th {\n",
       "        text-align: right;\n",
       "    }\n",
       "</style>\n",
       "<table border=\"1\" class=\"dataframe\">\n",
       "  <thead>\n",
       "    <tr style=\"text-align: right;\">\n",
       "      <th></th>\n",
       "      <th>Post_Name</th>\n",
       "      <th>Comment</th>\n",
       "      <th>Date</th>\n",
       "      <th>Result</th>\n",
       "      <th>Comment_Adj</th>\n",
       "      <th>No_Stop</th>\n",
       "    </tr>\n",
       "  </thead>\n",
       "  <tbody>\n",
       "    <tr>\n",
       "      <th>0</th>\n",
       "      <td>[POSTGAME THREAD] Our Milwaukee Bucks (1-0) de...</td>\n",
       "      <td>But have you considered Damian Lillard?</td>\n",
       "      <td>2023-10-26</td>\n",
       "      <td>Win</td>\n",
       "      <td>but have you considered damian lillard</td>\n",
       "      <td>considered damian lillard</td>\n",
       "    </tr>\n",
       "    <tr>\n",
       "      <th>1</th>\n",
       "      <td>[POSTGAME THREAD] Our Milwaukee Bucks (1-0) de...</td>\n",
       "      <td>Help yourself to a Dame flair :)</td>\n",
       "      <td>2023-10-26</td>\n",
       "      <td>Win</td>\n",
       "      <td>help yourself to a dame flair</td>\n",
       "      <td>help dame flair</td>\n",
       "    </tr>\n",
       "    <tr>\n",
       "      <th>2</th>\n",
       "      <td>[POSTGAME THREAD] Our Milwaukee Bucks (1-0) de...</td>\n",
       "      <td>the most casual 30 point games in the nba, the...</td>\n",
       "      <td>2023-10-26</td>\n",
       "      <td>Win</td>\n",
       "      <td>the most casual 30 point games in the nba ther...</td>\n",
       "      <td>casual 30 point games nba ’ good reason ’ obse...</td>\n",
       "    </tr>\n",
       "    <tr>\n",
       "      <th>3</th>\n",
       "      <td>[POSTGAME THREAD] Our Milwaukee Bucks (1-0) de...</td>\n",
       "      <td>Dame regularly went nuclear with the most medi...</td>\n",
       "      <td>2023-10-26</td>\n",
       "      <td>Win</td>\n",
       "      <td>dame regularly went nuclear with the most medi...</td>\n",
       "      <td>dame regularly went nuclear mediocre teams bla...</td>\n",
       "    </tr>\n",
       "    <tr>\n",
       "      <th>4</th>\n",
       "      <td>[POSTGAME THREAD] Our Milwaukee Bucks (1-0) de...</td>\n",
       "      <td>Wait until you see him get hot from 3 and star...</td>\n",
       "      <td>2023-10-26</td>\n",
       "      <td>Win</td>\n",
       "      <td>wait until you see him get hot from 3 and star...</td>\n",
       "      <td>wait see get hot 3 start shooting 35-40 ft sho...</td>\n",
       "    </tr>\n",
       "  </tbody>\n",
       "</table>\n",
       "</div>"
      ],
      "text/plain": [
       "                                           Post_Name  \\\n",
       "0  [POSTGAME THREAD] Our Milwaukee Bucks (1-0) de...   \n",
       "1  [POSTGAME THREAD] Our Milwaukee Bucks (1-0) de...   \n",
       "2  [POSTGAME THREAD] Our Milwaukee Bucks (1-0) de...   \n",
       "3  [POSTGAME THREAD] Our Milwaukee Bucks (1-0) de...   \n",
       "4  [POSTGAME THREAD] Our Milwaukee Bucks (1-0) de...   \n",
       "\n",
       "                                             Comment       Date Result  \\\n",
       "0            But have you considered Damian Lillard? 2023-10-26    Win   \n",
       "1                   Help yourself to a Dame flair :) 2023-10-26    Win   \n",
       "2  the most casual 30 point games in the nba, the... 2023-10-26    Win   \n",
       "3  Dame regularly went nuclear with the most medi... 2023-10-26    Win   \n",
       "4  Wait until you see him get hot from 3 and star... 2023-10-26    Win   \n",
       "\n",
       "                                         Comment_Adj  \\\n",
       "0             but have you considered damian lillard   \n",
       "1                     help yourself to a dame flair    \n",
       "2  the most casual 30 point games in the nba ther...   \n",
       "3  dame regularly went nuclear with the most medi...   \n",
       "4  wait until you see him get hot from 3 and star...   \n",
       "\n",
       "                                             No_Stop  \n",
       "0                          considered damian lillard  \n",
       "1                                    help dame flair  \n",
       "2  casual 30 point games nba ’ good reason ’ obse...  \n",
       "3  dame regularly went nuclear mediocre teams bla...  \n",
       "4  wait see get hot 3 start shooting 35-40 ft sho...  "
      ]
     },
     "execution_count": 15,
     "metadata": {},
     "output_type": "execute_result"
    }
   ],
   "source": [
    "# Remove Stopwords from Comments\n",
    "def remove_stopwords(text):\n",
    "    words = word_tokenize(text)\n",
    "    stop_words = set(stopwords.words('english'))\n",
    "    filtered_words = [word for word in words if word.lower() not in stop_words]\n",
    "    return ' '.join(filtered_words)\n",
    "\n",
    "df[\"No_Stop\"] = df[\"Comment_Adj\"].apply(remove_stopwords)\n",
    "df.head()"
   ]
  },
  {
   "cell_type": "code",
   "execution_count": 16,
   "id": "12835b11",
   "metadata": {},
   "outputs": [
    {
     "data": {
      "text/html": [
       "<div>\n",
       "<style scoped>\n",
       "    .dataframe tbody tr th:only-of-type {\n",
       "        vertical-align: middle;\n",
       "    }\n",
       "\n",
       "    .dataframe tbody tr th {\n",
       "        vertical-align: top;\n",
       "    }\n",
       "\n",
       "    .dataframe thead th {\n",
       "        text-align: right;\n",
       "    }\n",
       "</style>\n",
       "<table border=\"1\" class=\"dataframe\">\n",
       "  <thead>\n",
       "    <tr style=\"text-align: right;\">\n",
       "      <th></th>\n",
       "      <th>Post_Name</th>\n",
       "      <th>Comment</th>\n",
       "      <th>Date</th>\n",
       "      <th>Result</th>\n",
       "      <th>Comment_Adj</th>\n",
       "      <th>No_Stop</th>\n",
       "      <th>Stemmed</th>\n",
       "    </tr>\n",
       "  </thead>\n",
       "  <tbody>\n",
       "    <tr>\n",
       "      <th>0</th>\n",
       "      <td>[POSTGAME THREAD] Our Milwaukee Bucks (1-0) de...</td>\n",
       "      <td>But have you considered Damian Lillard?</td>\n",
       "      <td>2023-10-26</td>\n",
       "      <td>Win</td>\n",
       "      <td>but have you considered damian lillard</td>\n",
       "      <td>considered damian lillard</td>\n",
       "      <td>consid damian lillard</td>\n",
       "    </tr>\n",
       "    <tr>\n",
       "      <th>1</th>\n",
       "      <td>[POSTGAME THREAD] Our Milwaukee Bucks (1-0) de...</td>\n",
       "      <td>Help yourself to a Dame flair :)</td>\n",
       "      <td>2023-10-26</td>\n",
       "      <td>Win</td>\n",
       "      <td>help yourself to a dame flair</td>\n",
       "      <td>help dame flair</td>\n",
       "      <td>help dame flair</td>\n",
       "    </tr>\n",
       "    <tr>\n",
       "      <th>2</th>\n",
       "      <td>[POSTGAME THREAD] Our Milwaukee Bucks (1-0) de...</td>\n",
       "      <td>the most casual 30 point games in the nba, the...</td>\n",
       "      <td>2023-10-26</td>\n",
       "      <td>Win</td>\n",
       "      <td>the most casual 30 point games in the nba ther...</td>\n",
       "      <td>casual 30 point games nba ’ good reason ’ obse...</td>\n",
       "      <td>casual 30 point game nba ’ good reason ’ obses...</td>\n",
       "    </tr>\n",
       "    <tr>\n",
       "      <th>3</th>\n",
       "      <td>[POSTGAME THREAD] Our Milwaukee Bucks (1-0) de...</td>\n",
       "      <td>Dame regularly went nuclear with the most medi...</td>\n",
       "      <td>2023-10-26</td>\n",
       "      <td>Win</td>\n",
       "      <td>dame regularly went nuclear with the most medi...</td>\n",
       "      <td>dame regularly went nuclear mediocre teams bla...</td>\n",
       "      <td>dame regularli went nuclear mediocr team blaze...</td>\n",
       "    </tr>\n",
       "    <tr>\n",
       "      <th>4</th>\n",
       "      <td>[POSTGAME THREAD] Our Milwaukee Bucks (1-0) de...</td>\n",
       "      <td>Wait until you see him get hot from 3 and star...</td>\n",
       "      <td>2023-10-26</td>\n",
       "      <td>Win</td>\n",
       "      <td>wait until you see him get hot from 3 and star...</td>\n",
       "      <td>wait see get hot 3 start shooting 35-40 ft sho...</td>\n",
       "      <td>wait see get hot 3 start shoot 35-40 ft shot l...</td>\n",
       "    </tr>\n",
       "  </tbody>\n",
       "</table>\n",
       "</div>"
      ],
      "text/plain": [
       "                                           Post_Name  \\\n",
       "0  [POSTGAME THREAD] Our Milwaukee Bucks (1-0) de...   \n",
       "1  [POSTGAME THREAD] Our Milwaukee Bucks (1-0) de...   \n",
       "2  [POSTGAME THREAD] Our Milwaukee Bucks (1-0) de...   \n",
       "3  [POSTGAME THREAD] Our Milwaukee Bucks (1-0) de...   \n",
       "4  [POSTGAME THREAD] Our Milwaukee Bucks (1-0) de...   \n",
       "\n",
       "                                             Comment       Date Result  \\\n",
       "0            But have you considered Damian Lillard? 2023-10-26    Win   \n",
       "1                   Help yourself to a Dame flair :) 2023-10-26    Win   \n",
       "2  the most casual 30 point games in the nba, the... 2023-10-26    Win   \n",
       "3  Dame regularly went nuclear with the most medi... 2023-10-26    Win   \n",
       "4  Wait until you see him get hot from 3 and star... 2023-10-26    Win   \n",
       "\n",
       "                                         Comment_Adj  \\\n",
       "0             but have you considered damian lillard   \n",
       "1                     help yourself to a dame flair    \n",
       "2  the most casual 30 point games in the nba ther...   \n",
       "3  dame regularly went nuclear with the most medi...   \n",
       "4  wait until you see him get hot from 3 and star...   \n",
       "\n",
       "                                             No_Stop  \\\n",
       "0                          considered damian lillard   \n",
       "1                                    help dame flair   \n",
       "2  casual 30 point games nba ’ good reason ’ obse...   \n",
       "3  dame regularly went nuclear mediocre teams bla...   \n",
       "4  wait see get hot 3 start shooting 35-40 ft sho...   \n",
       "\n",
       "                                             Stemmed  \n",
       "0                              consid damian lillard  \n",
       "1                                    help dame flair  \n",
       "2  casual 30 point game nba ’ good reason ’ obses...  \n",
       "3  dame regularli went nuclear mediocr team blaze...  \n",
       "4  wait see get hot 3 start shoot 35-40 ft shot l...  "
      ]
     },
     "execution_count": 16,
     "metadata": {},
     "output_type": "execute_result"
    }
   ],
   "source": [
    "# Perform Stemming on Comments\n",
    "stemmer = PorterStemmer()\n",
    "def stem_text(text):\n",
    "    words = word_tokenize(text)\n",
    "    stemmed_words = [stemmer.stem(word) for word in words]\n",
    "    return ' '.join(stemmed_words)\n",
    "\n",
    "# Apply stemming function to text_column\n",
    "df['Stemmed'] = df['No_Stop'].apply(stem_text)\n",
    "df.head()"
   ]
  },
  {
   "cell_type": "code",
   "execution_count": 17,
   "id": "f110e6e5",
   "metadata": {},
   "outputs": [
    {
     "data": {
      "text/html": [
       "<div>\n",
       "<style scoped>\n",
       "    .dataframe tbody tr th:only-of-type {\n",
       "        vertical-align: middle;\n",
       "    }\n",
       "\n",
       "    .dataframe tbody tr th {\n",
       "        vertical-align: top;\n",
       "    }\n",
       "\n",
       "    .dataframe thead th {\n",
       "        text-align: right;\n",
       "    }\n",
       "</style>\n",
       "<table border=\"1\" class=\"dataframe\">\n",
       "  <thead>\n",
       "    <tr style=\"text-align: right;\">\n",
       "      <th></th>\n",
       "      <th>Post_Name</th>\n",
       "      <th>Comment</th>\n",
       "      <th>Date</th>\n",
       "      <th>Result</th>\n",
       "      <th>Comment_Adj</th>\n",
       "      <th>No_Stop</th>\n",
       "      <th>Stemmed</th>\n",
       "      <th>Result_Bin</th>\n",
       "    </tr>\n",
       "  </thead>\n",
       "  <tbody>\n",
       "    <tr>\n",
       "      <th>0</th>\n",
       "      <td>[POSTGAME THREAD] Our Milwaukee Bucks (1-0) de...</td>\n",
       "      <td>But have you considered Damian Lillard?</td>\n",
       "      <td>2023-10-26</td>\n",
       "      <td>Win</td>\n",
       "      <td>but have you considered damian lillard</td>\n",
       "      <td>considered damian lillard</td>\n",
       "      <td>consid damian lillard</td>\n",
       "      <td>1</td>\n",
       "    </tr>\n",
       "    <tr>\n",
       "      <th>1</th>\n",
       "      <td>[POSTGAME THREAD] Our Milwaukee Bucks (1-0) de...</td>\n",
       "      <td>Help yourself to a Dame flair :)</td>\n",
       "      <td>2023-10-26</td>\n",
       "      <td>Win</td>\n",
       "      <td>help yourself to a dame flair</td>\n",
       "      <td>help dame flair</td>\n",
       "      <td>help dame flair</td>\n",
       "      <td>1</td>\n",
       "    </tr>\n",
       "    <tr>\n",
       "      <th>2</th>\n",
       "      <td>[POSTGAME THREAD] Our Milwaukee Bucks (1-0) de...</td>\n",
       "      <td>the most casual 30 point games in the nba, the...</td>\n",
       "      <td>2023-10-26</td>\n",
       "      <td>Win</td>\n",
       "      <td>the most casual 30 point games in the nba ther...</td>\n",
       "      <td>casual 30 point games nba ’ good reason ’ obse...</td>\n",
       "      <td>casual 30 point game nba ’ good reason ’ obses...</td>\n",
       "      <td>1</td>\n",
       "    </tr>\n",
       "    <tr>\n",
       "      <th>3</th>\n",
       "      <td>[POSTGAME THREAD] Our Milwaukee Bucks (1-0) de...</td>\n",
       "      <td>Dame regularly went nuclear with the most medi...</td>\n",
       "      <td>2023-10-26</td>\n",
       "      <td>Win</td>\n",
       "      <td>dame regularly went nuclear with the most medi...</td>\n",
       "      <td>dame regularly went nuclear mediocre teams bla...</td>\n",
       "      <td>dame regularli went nuclear mediocr team blaze...</td>\n",
       "      <td>1</td>\n",
       "    </tr>\n",
       "    <tr>\n",
       "      <th>4</th>\n",
       "      <td>[POSTGAME THREAD] Our Milwaukee Bucks (1-0) de...</td>\n",
       "      <td>Wait until you see him get hot from 3 and star...</td>\n",
       "      <td>2023-10-26</td>\n",
       "      <td>Win</td>\n",
       "      <td>wait until you see him get hot from 3 and star...</td>\n",
       "      <td>wait see get hot 3 start shooting 35-40 ft sho...</td>\n",
       "      <td>wait see get hot 3 start shoot 35-40 ft shot l...</td>\n",
       "      <td>1</td>\n",
       "    </tr>\n",
       "  </tbody>\n",
       "</table>\n",
       "</div>"
      ],
      "text/plain": [
       "                                           Post_Name  \\\n",
       "0  [POSTGAME THREAD] Our Milwaukee Bucks (1-0) de...   \n",
       "1  [POSTGAME THREAD] Our Milwaukee Bucks (1-0) de...   \n",
       "2  [POSTGAME THREAD] Our Milwaukee Bucks (1-0) de...   \n",
       "3  [POSTGAME THREAD] Our Milwaukee Bucks (1-0) de...   \n",
       "4  [POSTGAME THREAD] Our Milwaukee Bucks (1-0) de...   \n",
       "\n",
       "                                             Comment       Date Result  \\\n",
       "0            But have you considered Damian Lillard? 2023-10-26    Win   \n",
       "1                   Help yourself to a Dame flair :) 2023-10-26    Win   \n",
       "2  the most casual 30 point games in the nba, the... 2023-10-26    Win   \n",
       "3  Dame regularly went nuclear with the most medi... 2023-10-26    Win   \n",
       "4  Wait until you see him get hot from 3 and star... 2023-10-26    Win   \n",
       "\n",
       "                                         Comment_Adj  \\\n",
       "0             but have you considered damian lillard   \n",
       "1                     help yourself to a dame flair    \n",
       "2  the most casual 30 point games in the nba ther...   \n",
       "3  dame regularly went nuclear with the most medi...   \n",
       "4  wait until you see him get hot from 3 and star...   \n",
       "\n",
       "                                             No_Stop  \\\n",
       "0                          considered damian lillard   \n",
       "1                                    help dame flair   \n",
       "2  casual 30 point games nba ’ good reason ’ obse...   \n",
       "3  dame regularly went nuclear mediocre teams bla...   \n",
       "4  wait see get hot 3 start shooting 35-40 ft sho...   \n",
       "\n",
       "                                             Stemmed  Result_Bin  \n",
       "0                              consid damian lillard           1  \n",
       "1                                    help dame flair           1  \n",
       "2  casual 30 point game nba ’ good reason ’ obses...           1  \n",
       "3  dame regularli went nuclear mediocr team blaze...           1  \n",
       "4  wait see get hot 3 start shoot 35-40 ft shot l...           1  "
      ]
     },
     "execution_count": 17,
     "metadata": {},
     "output_type": "execute_result"
    }
   ],
   "source": [
    "# Win_Loss Function\n",
    "def win_loss(text):\n",
    "    if text == \"Win\":\n",
    "        return 1\n",
    "    else:\n",
    "        return 0\n",
    "df[\"Result_Bin\"] = df[\"Result\"].apply(win_loss)\n",
    "df.head()"
   ]
  },
  {
   "cell_type": "markdown",
   "id": "88277e55",
   "metadata": {},
   "source": [
    "## Plots"
   ]
  },
  {
   "cell_type": "code",
   "execution_count": 41,
   "id": "1c0932a4",
   "metadata": {},
   "outputs": [
    {
     "data": {
      "text/html": [
       "<div>\n",
       "<style scoped>\n",
       "    .dataframe tbody tr th:only-of-type {\n",
       "        vertical-align: middle;\n",
       "    }\n",
       "\n",
       "    .dataframe tbody tr th {\n",
       "        vertical-align: top;\n",
       "    }\n",
       "\n",
       "    .dataframe thead th {\n",
       "        text-align: right;\n",
       "    }\n",
       "</style>\n",
       "<table border=\"1\" class=\"dataframe\">\n",
       "  <thead>\n",
       "    <tr style=\"text-align: right;\">\n",
       "      <th></th>\n",
       "      <th>Post_Name</th>\n",
       "      <th>Comment</th>\n",
       "      <th>Date</th>\n",
       "      <th>Result</th>\n",
       "      <th>Comment_Adj</th>\n",
       "      <th>No_Stop</th>\n",
       "      <th>Stemmed</th>\n",
       "      <th>Result_Bin</th>\n",
       "      <th>Comment_Len</th>\n",
       "    </tr>\n",
       "  </thead>\n",
       "  <tbody>\n",
       "    <tr>\n",
       "      <th>0</th>\n",
       "      <td>[POSTGAME THREAD] Our Milwaukee Bucks (1-0) de...</td>\n",
       "      <td>But have you considered Damian Lillard?</td>\n",
       "      <td>2023-10-26</td>\n",
       "      <td>Win</td>\n",
       "      <td>but have you considered damian lillard</td>\n",
       "      <td>considered damian lillard</td>\n",
       "      <td>consid damian lillard</td>\n",
       "      <td>1</td>\n",
       "      <td>39</td>\n",
       "    </tr>\n",
       "    <tr>\n",
       "      <th>1</th>\n",
       "      <td>[POSTGAME THREAD] Our Milwaukee Bucks (1-0) de...</td>\n",
       "      <td>Help yourself to a Dame flair :)</td>\n",
       "      <td>2023-10-26</td>\n",
       "      <td>Win</td>\n",
       "      <td>help yourself to a dame flair</td>\n",
       "      <td>help dame flair</td>\n",
       "      <td>help dame flair</td>\n",
       "      <td>1</td>\n",
       "      <td>32</td>\n",
       "    </tr>\n",
       "    <tr>\n",
       "      <th>2</th>\n",
       "      <td>[POSTGAME THREAD] Our Milwaukee Bucks (1-0) de...</td>\n",
       "      <td>the most casual 30 point games in the nba, the...</td>\n",
       "      <td>2023-10-26</td>\n",
       "      <td>Win</td>\n",
       "      <td>the most casual 30 point games in the nba ther...</td>\n",
       "      <td>casual 30 point games nba ’ good reason ’ obse...</td>\n",
       "      <td>casual 30 point game nba ’ good reason ’ obses...</td>\n",
       "      <td>1</td>\n",
       "      <td>122</td>\n",
       "    </tr>\n",
       "    <tr>\n",
       "      <th>3</th>\n",
       "      <td>[POSTGAME THREAD] Our Milwaukee Bucks (1-0) de...</td>\n",
       "      <td>Dame regularly went nuclear with the most medi...</td>\n",
       "      <td>2023-10-26</td>\n",
       "      <td>Win</td>\n",
       "      <td>dame regularly went nuclear with the most medi...</td>\n",
       "      <td>dame regularly went nuclear mediocre teams bla...</td>\n",
       "      <td>dame regularli went nuclear mediocr team blaze...</td>\n",
       "      <td>1</td>\n",
       "      <td>318</td>\n",
       "    </tr>\n",
       "    <tr>\n",
       "      <th>4</th>\n",
       "      <td>[POSTGAME THREAD] Our Milwaukee Bucks (1-0) de...</td>\n",
       "      <td>Wait until you see him get hot from 3 and star...</td>\n",
       "      <td>2023-10-26</td>\n",
       "      <td>Win</td>\n",
       "      <td>wait until you see him get hot from 3 and star...</td>\n",
       "      <td>wait see get hot 3 start shooting 35-40 ft sho...</td>\n",
       "      <td>wait see get hot 3 start shoot 35-40 ft shot l...</td>\n",
       "      <td>1</td>\n",
       "      <td>101</td>\n",
       "    </tr>\n",
       "  </tbody>\n",
       "</table>\n",
       "</div>"
      ],
      "text/plain": [
       "                                           Post_Name  \\\n",
       "0  [POSTGAME THREAD] Our Milwaukee Bucks (1-0) de...   \n",
       "1  [POSTGAME THREAD] Our Milwaukee Bucks (1-0) de...   \n",
       "2  [POSTGAME THREAD] Our Milwaukee Bucks (1-0) de...   \n",
       "3  [POSTGAME THREAD] Our Milwaukee Bucks (1-0) de...   \n",
       "4  [POSTGAME THREAD] Our Milwaukee Bucks (1-0) de...   \n",
       "\n",
       "                                             Comment       Date Result  \\\n",
       "0            But have you considered Damian Lillard? 2023-10-26    Win   \n",
       "1                   Help yourself to a Dame flair :) 2023-10-26    Win   \n",
       "2  the most casual 30 point games in the nba, the... 2023-10-26    Win   \n",
       "3  Dame regularly went nuclear with the most medi... 2023-10-26    Win   \n",
       "4  Wait until you see him get hot from 3 and star... 2023-10-26    Win   \n",
       "\n",
       "                                         Comment_Adj  \\\n",
       "0             but have you considered damian lillard   \n",
       "1                     help yourself to a dame flair    \n",
       "2  the most casual 30 point games in the nba ther...   \n",
       "3  dame regularly went nuclear with the most medi...   \n",
       "4  wait until you see him get hot from 3 and star...   \n",
       "\n",
       "                                             No_Stop  \\\n",
       "0                          considered damian lillard   \n",
       "1                                    help dame flair   \n",
       "2  casual 30 point games nba ’ good reason ’ obse...   \n",
       "3  dame regularly went nuclear mediocre teams bla...   \n",
       "4  wait see get hot 3 start shooting 35-40 ft sho...   \n",
       "\n",
       "                                             Stemmed  Result_Bin  Comment_Len  \n",
       "0                              consid damian lillard           1           39  \n",
       "1                                    help dame flair           1           32  \n",
       "2  casual 30 point game nba ’ good reason ’ obses...           1          122  \n",
       "3  dame regularli went nuclear mediocr team blaze...           1          318  \n",
       "4  wait see get hot 3 start shoot 35-40 ft shot l...           1          101  "
      ]
     },
     "execution_count": 41,
     "metadata": {},
     "output_type": "execute_result"
    }
   ],
   "source": [
    "df[\"Comment_Len\"] = df[\"Comment\"].apply(lambda x: len(x))\n",
    "df.head()"
   ]
  },
  {
   "cell_type": "code",
   "execution_count": 42,
   "id": "370114f3",
   "metadata": {},
   "outputs": [
    {
     "data": {
      "image/png": "[encoded data removed]",
      "text/plain": [
       "<Figure size 640x480 with 1 Axes>"
      ]
     },
     "metadata": {},
     "output_type": "display_data"
    }
   ],
   "source": [
    "plt.figure()\n",
    "df[df[\"Result\"]=='Win'][\"Comment_Len\"].plot.hist(bins=100, label='Win', alpha=.5)\n",
    "df[df[\"Result\"]=='Loss'][\"Comment_Len\"].plot.hist(bins=100, label='Loss', alpha=.5)\n",
    "plt.legend()\n",
    "plt.xlabel('length')\n",
    "plt.show()"
   ]
  },
  {
   "cell_type": "code",
   "execution_count": 43,
   "id": "e2d70890",
   "metadata": {},
   "outputs": [
    {
     "data": {
      "text/html": [
       "<div>\n",
       "<style scoped>\n",
       "    .dataframe tbody tr th:only-of-type {\n",
       "        vertical-align: middle;\n",
       "    }\n",
       "\n",
       "    .dataframe tbody tr th {\n",
       "        vertical-align: top;\n",
       "    }\n",
       "\n",
       "    .dataframe thead th {\n",
       "        text-align: right;\n",
       "    }\n",
       "</style>\n",
       "<table border=\"1\" class=\"dataframe\">\n",
       "  <thead>\n",
       "    <tr style=\"text-align: right;\">\n",
       "      <th></th>\n",
       "      <th>Post_Name</th>\n",
       "      <th>Comment</th>\n",
       "      <th>Date</th>\n",
       "      <th>Result</th>\n",
       "      <th>Comment_Adj</th>\n",
       "      <th>No_Stop</th>\n",
       "      <th>Stemmed</th>\n",
       "      <th>Result_Bin</th>\n",
       "      <th>Comment_Len</th>\n",
       "    </tr>\n",
       "  </thead>\n",
       "  <tbody>\n",
       "    <tr>\n",
       "      <th>0</th>\n",
       "      <td>[POSTGAME THREAD] Our Milwaukee Bucks (1-0) de...</td>\n",
       "      <td>But have you considered Damian Lillard?</td>\n",
       "      <td>2023-10-26</td>\n",
       "      <td>Win</td>\n",
       "      <td>but have you considered damian lillard</td>\n",
       "      <td>considered damian lillard</td>\n",
       "      <td>consid damian lillard</td>\n",
       "      <td>1</td>\n",
       "      <td>39</td>\n",
       "    </tr>\n",
       "    <tr>\n",
       "      <th>1</th>\n",
       "      <td>[POSTGAME THREAD] Our Milwaukee Bucks (1-0) de...</td>\n",
       "      <td>Help yourself to a Dame flair :)</td>\n",
       "      <td>2023-10-26</td>\n",
       "      <td>Win</td>\n",
       "      <td>help yourself to a dame flair</td>\n",
       "      <td>help dame flair</td>\n",
       "      <td>help dame flair</td>\n",
       "      <td>1</td>\n",
       "      <td>32</td>\n",
       "    </tr>\n",
       "    <tr>\n",
       "      <th>2</th>\n",
       "      <td>[POSTGAME THREAD] Our Milwaukee Bucks (1-0) de...</td>\n",
       "      <td>the most casual 30 point games in the nba, the...</td>\n",
       "      <td>2023-10-26</td>\n",
       "      <td>Win</td>\n",
       "      <td>the most casual 30 point games in the nba ther...</td>\n",
       "      <td>casual 30 point games nba ’ good reason ’ obse...</td>\n",
       "      <td>casual 30 point game nba ’ good reason ’ obses...</td>\n",
       "      <td>1</td>\n",
       "      <td>122</td>\n",
       "    </tr>\n",
       "    <tr>\n",
       "      <th>3</th>\n",
       "      <td>[POSTGAME THREAD] Our Milwaukee Bucks (1-0) de...</td>\n",
       "      <td>Dame regularly went nuclear with the most medi...</td>\n",
       "      <td>2023-10-26</td>\n",
       "      <td>Win</td>\n",
       "      <td>dame regularly went nuclear with the most medi...</td>\n",
       "      <td>dame regularly went nuclear mediocre teams bla...</td>\n",
       "      <td>dame regularli went nuclear mediocr team blaze...</td>\n",
       "      <td>1</td>\n",
       "      <td>318</td>\n",
       "    </tr>\n",
       "    <tr>\n",
       "      <th>4</th>\n",
       "      <td>[POSTGAME THREAD] Our Milwaukee Bucks (1-0) de...</td>\n",
       "      <td>Wait until you see him get hot from 3 and star...</td>\n",
       "      <td>2023-10-26</td>\n",
       "      <td>Win</td>\n",
       "      <td>wait until you see him get hot from 3 and star...</td>\n",
       "      <td>wait see get hot 3 start shooting 35-40 ft sho...</td>\n",
       "      <td>wait see get hot 3 start shoot 35-40 ft shot l...</td>\n",
       "      <td>1</td>\n",
       "      <td>101</td>\n",
       "    </tr>\n",
       "  </tbody>\n",
       "</table>\n",
       "</div>"
      ],
      "text/plain": [
       "                                           Post_Name  \\\n",
       "0  [POSTGAME THREAD] Our Milwaukee Bucks (1-0) de...   \n",
       "1  [POSTGAME THREAD] Our Milwaukee Bucks (1-0) de...   \n",
       "2  [POSTGAME THREAD] Our Milwaukee Bucks (1-0) de...   \n",
       "3  [POSTGAME THREAD] Our Milwaukee Bucks (1-0) de...   \n",
       "4  [POSTGAME THREAD] Our Milwaukee Bucks (1-0) de...   \n",
       "\n",
       "                                             Comment        Date Result  \\\n",
       "0            But have you considered Damian Lillard?  2023-10-26    Win   \n",
       "1                   Help yourself to a Dame flair :)  2023-10-26    Win   \n",
       "2  the most casual 30 point games in the nba, the...  2023-10-26    Win   \n",
       "3  Dame regularly went nuclear with the most medi...  2023-10-26    Win   \n",
       "4  Wait until you see him get hot from 3 and star...  2023-10-26    Win   \n",
       "\n",
       "                                         Comment_Adj  \\\n",
       "0             but have you considered damian lillard   \n",
       "1                     help yourself to a dame flair    \n",
       "2  the most casual 30 point games in the nba ther...   \n",
       "3  dame regularly went nuclear with the most medi...   \n",
       "4  wait until you see him get hot from 3 and star...   \n",
       "\n",
       "                                             No_Stop  \\\n",
       "0                          considered damian lillard   \n",
       "1                                    help dame flair   \n",
       "2  casual 30 point games nba ’ good reason ’ obse...   \n",
       "3  dame regularly went nuclear mediocre teams bla...   \n",
       "4  wait see get hot 3 start shooting 35-40 ft sho...   \n",
       "\n",
       "                                             Stemmed  Result_Bin  Comment_Len  \n",
       "0                              consid damian lillard           1           39  \n",
       "1                                    help dame flair           1           32  \n",
       "2  casual 30 point game nba ’ good reason ’ obses...           1          122  \n",
       "3  dame regularli went nuclear mediocr team blaze...           1          318  \n",
       "4  wait see get hot 3 start shoot 35-40 ft shot l...           1          101  "
      ]
     },
     "execution_count": 43,
     "metadata": {},
     "output_type": "execute_result"
    }
   ],
   "source": [
    "# Plot Number of Comments Across time\n",
    "df[\"Date\"] = df[\"Date\"].dt.date\n",
    "df.head()"
   ]
  },
  {
   "cell_type": "code",
   "execution_count": 44,
   "id": "d467ce64",
   "metadata": {},
   "outputs": [
    {
     "data": {
      "text/plain": [
       "<Axes: xlabel='Date'>"
      ]
     },
     "execution_count": 44,
     "metadata": {},
     "output_type": "execute_result"
    },
    {
     "data": {
      "image/png": "[encoded data removed]",
      "text/plain": [
       "<Figure size 1200x600 with 1 Axes>"
      ]
     },
     "metadata": {},
     "output_type": "display_data"
    }
   ],
   "source": [
    "plt.figure(figsize=(12, 6))\n",
    "colors = df['Result'].map({'Win': 'green', 'Loss': 'red'})\n",
    "df['Date'].value_counts().sort_index().plot(kind='bar', color=colors)"
   ]
  },
  {
   "cell_type": "code",
   "execution_count": 53,
   "id": "672a7a75",
   "metadata": {},
   "outputs": [
    {
     "data": {
      "text/plain": [
       "[POSTGAME THREAD] Our Milwaukee Bucks (35 - 21) fall to the Memphis Grizzlies (20 - 36) - 110 - 113 - 2/15/2024                462\n",
       "[POSTGAME THREAD] Our Milwaukee Bucks (1-0) defeat the Philadelphia 76ers (0-1) 118-117 in their season opener - 10/26/2023    396\n",
       "[POSTGAME THREAD] Our Milwaukee Bucks (32 - 16) fall to the Portland Trailblazers (14 - 34) - 116 - 119 - 1/31/2024            380\n",
       "[POSTGAME THREAD] Our Milwaukee Bucks (41 - 23) fall to The Los Angeles Lakers (35 - 30) - 122 - 123 - 3/8/2024                343\n",
       "[POSTGAME THREAD] Our Milwaukee Bucks (41 - 21) defeat the Los Angeles Clippers (39 - 21) - 113 - 106 - 3/4/2024               320\n",
       "Name: Post_Name, dtype: int64"
      ]
     },
     "execution_count": 53,
     "metadata": {},
     "output_type": "execute_result"
    }
   ],
   "source": [
    "df[\"Post_Name\"].value_counts()[:5]"
   ]
  },
  {
   "cell_type": "markdown",
   "id": "9cc5e5d7",
   "metadata": {},
   "source": [
    "## Naive Bayes Model (Bag-of-Words)"
   ]
  },
  {
   "cell_type": "code",
   "execution_count": 18,
   "id": "ef60ffda",
   "metadata": {},
   "outputs": [],
   "source": [
    "from sklearn.model_selection import train_test_split\n",
    "from sklearn.metrics import f1_score\n",
    "from sklearn.naive_bayes import BernoulliNB\n",
    "\n",
    "X = df[\"Comment_Adj\"]\n",
    "y = df[\"Result_Bin\"]\n",
    "\n",
    "# Split the data into training and testing sets\n",
    "X_train, X_test, y_train, y_test = train_test_split(X, y, test_size=0.2, random_state=42)"
   ]
  },
  {
   "cell_type": "code",
   "execution_count": 19,
   "id": "e1a484f8",
   "metadata": {},
   "outputs": [],
   "source": [
    "model = make_pipeline(CountVectorizer(), BernoulliNB())"
   ]
  },
  {
   "cell_type": "code",
   "execution_count": 20,
   "id": "22cacef4",
   "metadata": {},
   "outputs": [
    {
     "name": "stdout",
     "output_type": "stream",
     "text": [
      "Accuracy: 0.6865183246073299\n"
     ]
    }
   ],
   "source": [
    "model.fit(X_train, y_train)\n",
    "\n",
    "# Predict on the test set\n",
    "y_pred = model.predict(X_test)\n",
    "\n",
    "# Calculate accuracy\n",
    "f1 = f1_score(y_test, y_pred)\n",
    "print(\"Accuracy:\", f1)"
   ]
  },
  {
   "cell_type": "markdown",
   "id": "33668bd6",
   "metadata": {},
   "source": [
    "## Logistic Regression Model (Bag-of-Words)"
   ]
  },
  {
   "cell_type": "code",
   "execution_count": 21,
   "id": "5cdb826e",
   "metadata": {},
   "outputs": [],
   "source": [
    "vec = CountVectorizer()\n",
    "X_train_1 = vec.fit_transform(X_train)\n",
    "X_test_1 = vec.transform(X_test)"
   ]
  },
  {
   "cell_type": "code",
   "execution_count": 22,
   "id": "f2d2185b",
   "metadata": {},
   "outputs": [
    {
     "name": "stdout",
     "output_type": "stream",
     "text": [
      "              precision    recall  f1-score   support\n",
      "\n",
      "           0       0.60      0.55      0.57      1069\n",
      "           1       0.67      0.71      0.69      1385\n",
      "\n",
      "    accuracy                           0.64      2454\n",
      "   macro avg       0.63      0.63      0.63      2454\n",
      "weighted avg       0.64      0.64      0.64      2454\n",
      "\n"
     ]
    }
   ],
   "source": [
    "from sklearn.linear_model import LogisticRegression\n",
    "from sklearn.metrics import classification_report\n",
    "\n",
    "lr = LogisticRegression(max_iter = 1000)\n",
    "lr.fit(X_train_1, y_train)\n",
    "y_pred_lr = lr.predict(X_test_1)\n",
    "print(classification_report(y_test, y_pred_lr))"
   ]
  },
  {
   "cell_type": "markdown",
   "id": "1de1cca6-c75f-4cf9-89b3-e093b0477280",
   "metadata": {},
   "source": [
    "## Logistic Regression Model (TF-IDF)"
   ]
  },
  {
   "cell_type": "code",
   "execution_count": 24,
   "id": "9ce09e91-890f-4d81-9874-2dd95f74446c",
   "metadata": {},
   "outputs": [
    {
     "name": "stdout",
     "output_type": "stream",
     "text": [
      "              precision    recall  f1-score   support\n",
      "\n",
      "           0       0.61      0.55      0.58      1069\n",
      "           1       0.68      0.73      0.70      1385\n",
      "\n",
      "    accuracy                           0.65      2454\n",
      "   macro avg       0.64      0.64      0.64      2454\n",
      "weighted avg       0.65      0.65      0.65      2454\n",
      "\n"
     ]
    }
   ],
   "source": [
    "from sklearn.feature_extraction.text import TfidfVectorizer\n",
    "\n",
    "tfidf = TfidfVectorizer()\n",
    "X_train_tfidf = tfidf.fit_transform(X_train)\n",
    "X_test_tfidf = tfidf.transform(X_test)\n",
    "\n",
    "lr.fit(X_train_tfidf, y_train)\n",
    "y_pred_lr = lr.predict(X_test_tfidf)\n",
    "print(classification_report(y_test, y_pred_lr))"
   ]
  },
  {
   "cell_type": "markdown",
   "id": "bd2bae4a",
   "metadata": {},
   "source": [
    "## Convolutional Neural Network"
   ]
  },
  {
   "cell_type": "markdown",
   "id": "761ad6ec-0c99-4c13-8da0-957c49d770be",
   "metadata": {},
   "source": [
    "#### Model 1"
   ]
  },
  {
   "cell_type": "code",
   "execution_count": 25,
   "id": "c3b7fe16-bf62-4829-9219-93459a610f1b",
   "metadata": {},
   "outputs": [],
   "source": [
    "# Importing Necessary Libraries\n",
    "\n",
    "import tensorflow as tf\n",
    "import keras as keras\n",
    "from tensorflow.keras.models import Sequential\n",
    "from tensorflow.keras.layers import Conv2D, MaxPooling2D, Dense, Flatten"
   ]
  },
  {
   "cell_type": "code",
   "execution_count": 26,
   "id": "68c78f89-e05e-4658-9457-e2827dd58bb5",
   "metadata": {},
   "outputs": [],
   "source": [
    "# Perform Tokenizing\n",
    "from keras.preprocessing.text import Tokenizer\n",
    "tokenizer = Tokenizer()\n",
    "\n",
    "tokenizer.fit_on_texts(X_train)\n",
    "X_train_2 = tokenizer.texts_to_sequences(X_train)\n",
    "X_test_2 = tokenizer.texts_to_sequences(X_test)\n",
    "\n",
    "vocab_size = len(tokenizer.word_index) + 1"
   ]
  },
  {
   "cell_type": "code",
   "execution_count": 27,
   "id": "3305d7b6-b85f-4fb5-a9bc-8841b051fae5",
   "metadata": {},
   "outputs": [],
   "source": [
    "from tensorflow.keras.preprocessing.sequence import pad_sequences\n",
    "from sklearn.preprocessing import LabelEncoder\n",
    "\n",
    "maxlen = 200\n",
    "X_train_2 = pad_sequences(X_train_2, padding='post', maxlen=maxlen)\n",
    "X_test_2 = pad_sequences(X_test_2, padding='post', maxlen=maxlen)\n",
    "label_encoder = LabelEncoder()\n",
    "y_train = label_encoder.fit_transform(y_train)\n",
    "y_test = label_encoder.fit_transform(y_test)"
   ]
  },
  {
   "cell_type": "code",
   "execution_count": 28,
   "id": "f549a25d-c869-496a-87b0-7cbec082c768",
   "metadata": {},
   "outputs": [
    {
     "data": {
      "text/plain": [
       "(9812, 200)"
      ]
     },
     "execution_count": 28,
     "metadata": {},
     "output_type": "execute_result"
    }
   ],
   "source": [
    "X_train_2.shape"
   ]
  },
  {
   "cell_type": "code",
   "execution_count": 26,
   "id": "c0c9c9e8-3b10-4540-a9fe-76344c80c88e",
   "metadata": {},
   "outputs": [
    {
     "name": "stdout",
     "output_type": "stream",
     "text": [
      "Model: \"sequential\"\n",
      "_________________________________________________________________\n",
      " Layer (type)                Output Shape              Param #   \n",
      "=================================================================\n",
      " embedding (Embedding)       (None, 200, 50)           546550    \n",
      "                                                                 \n",
      " flatten (Flatten)           (None, 10000)             0         \n",
      "                                                                 \n",
      " dense (Dense)               (None, 10)                100010    \n",
      "                                                                 \n",
      " dense_1 (Dense)             (None, 1)                 11        \n",
      "                                                                 \n",
      "=================================================================\n",
      "Total params: 646,571\n",
      "Trainable params: 646,571\n",
      "Non-trainable params: 0\n",
      "_________________________________________________________________\n"
     ]
    }
   ],
   "source": [
    "from keras import layers\n",
    "\n",
    "embedding_dim = 50\n",
    "\n",
    "model = Sequential()\n",
    "model.add(layers.Embedding(input_dim=vocab_size, \n",
    "                           output_dim=embedding_dim, \n",
    "                           input_length=maxlen))\n",
    "model.add(layers.Flatten())\n",
    "model.add(layers.Dense(10, activation='relu'))\n",
    "model.add(layers.Dense(1, activation='sigmoid'))\n",
    "model.compile(optimizer='adam',\n",
    "              loss='binary_crossentropy',\n",
    "              metrics=['accuracy'])\n",
    "model.summary()"
   ]
  },
  {
   "cell_type": "code",
   "execution_count": 27,
   "id": "d3cbe93d-b402-41aa-bc9d-2ba735fb694e",
   "metadata": {},
   "outputs": [
    {
     "name": "stderr",
     "output_type": "stream",
     "text": [
      "2024-03-27 12:49:07.775107: W tensorflow/tsl/platform/profile_utils/cpu_utils.cc:128] Failed to get CPU frequency: 0 Hz\n"
     ]
    },
    {
     "name": "stdout",
     "output_type": "stream",
     "text": [
      "Training Accuracy: 0.9936\n",
      "Testing Accuracy:  0.5892\n"
     ]
    }
   ],
   "source": [
    "history = model.fit(X_train_2, y_train,\n",
    "                    epochs=10,\n",
    "                    verbose=False,\n",
    "                    validation_data=(X_test_2, y_test),\n",
    "                    batch_size=10)\n",
    "loss, accuracy = model.evaluate(X_train_2, y_train, verbose=False)\n",
    "print(\"Training Accuracy: {:.4f}\".format(accuracy))\n",
    "loss, accuracy = model.evaluate(X_test_2, y_test, verbose=False)\n",
    "print(\"Testing Accuracy:  {:.4f}\".format(accuracy))"
   ]
  },
  {
   "cell_type": "markdown",
   "id": "3478bfc3-b017-4b2e-9084-7181fe2a5d12",
   "metadata": {},
   "source": [
    "### Model 2"
   ]
  },
  {
   "cell_type": "code",
   "execution_count": 34,
   "id": "1eb3323f-278b-4aaf-b87e-6a8ff9eb69bb",
   "metadata": {},
   "outputs": [],
   "source": [
    "maxlen = 400\n",
    "X_train_2 = pad_sequences(X_train_2, padding='post', maxlen=maxlen)\n",
    "X_test_2 = pad_sequences(X_test_2, padding='post', maxlen=maxlen)\n",
    "label_encoder = LabelEncoder()\n",
    "y_train = label_encoder.fit_transform(y_train)\n",
    "y_test = label_encoder.fit_transform(y_test)"
   ]
  },
  {
   "cell_type": "code",
   "execution_count": 35,
   "id": "a6d6ce29-9825-426e-9141-c705702ad070",
   "metadata": {},
   "outputs": [
    {
     "name": "stdout",
     "output_type": "stream",
     "text": [
      "Model: \"sequential_4\"\n",
      "_________________________________________________________________\n",
      " Layer (type)                Output Shape              Param #   \n",
      "=================================================================\n",
      " embedding_4 (Embedding)     (None, 400, 200)          2186200   \n",
      "                                                                 \n",
      " flatten_4 (Flatten)         (None, 80000)             0         \n",
      "                                                                 \n",
      " dense_8 (Dense)             (None, 20)                1600020   \n",
      "                                                                 \n",
      " dense_9 (Dense)             (None, 1)                 21        \n",
      "                                                                 \n",
      "=================================================================\n",
      "Total params: 3,786,241\n",
      "Trainable params: 3,786,241\n",
      "Non-trainable params: 0\n",
      "_________________________________________________________________\n"
     ]
    }
   ],
   "source": [
    "embedding_dim = 200\n",
    "\n",
    "model = Sequential()\n",
    "model.add(layers.Embedding(input_dim=vocab_size, \n",
    "                           output_dim=embedding_dim, \n",
    "                           input_length=maxlen))\n",
    "model.add(layers.Flatten())\n",
    "model.add(layers.Dense(20, activation='relu'))\n",
    "model.add(layers.Dense(1, activation='sigmoid'))\n",
    "model.compile(optimizer='adam',\n",
    "              loss='binary_crossentropy',\n",
    "              metrics=['accuracy'])\n",
    "model.summary()"
   ]
  },
  {
   "cell_type": "code",
   "execution_count": 36,
   "id": "86a8de6c-8188-4da9-a7bc-d874abeef909",
   "metadata": {},
   "outputs": [
    {
     "name": "stdout",
     "output_type": "stream",
     "text": [
      "Training Accuracy: 0.9936\n",
      "Testing Accuracy:  0.6023\n"
     ]
    }
   ],
   "source": [
    "history = model.fit(X_train_2, y_train,\n",
    "                    epochs=10,\n",
    "                    verbose=False,\n",
    "                    validation_data=(X_test_2, y_test),\n",
    "                    batch_size=20)\n",
    "loss, accuracy = model.evaluate(X_train_2, y_train, verbose=False)\n",
    "print(\"Training Accuracy: {:.4f}\".format(accuracy))\n",
    "loss, accuracy = model.evaluate(X_test_2, y_test, verbose=False)\n",
    "print(\"Testing Accuracy:  {:.4f}\".format(accuracy))"
   ]
  },
  {
   "cell_type": "markdown",
   "id": "908c0f34-dccb-45b2-bd51-37bc2d769fab",
   "metadata": {},
   "source": [
    "#### Model 3"
   ]
  },
  {
   "cell_type": "code",
   "execution_count": 37,
   "id": "0bc49335-c3f7-493e-ae89-5330cea46d78",
   "metadata": {},
   "outputs": [],
   "source": [
    "maxlen = 500\n",
    "X_train_2 = pad_sequences(X_train_2, padding='post', maxlen=maxlen)\n",
    "X_test_2 = pad_sequences(X_test_2, padding='post', maxlen=maxlen)\n",
    "label_encoder = LabelEncoder()\n",
    "y_train = label_encoder.fit_transform(y_train)\n",
    "y_test = label_encoder.fit_transform(y_test)"
   ]
  },
  {
   "cell_type": "code",
   "execution_count": 38,
   "id": "e785475b-c25f-4b31-b465-f8eeedab8f09",
   "metadata": {},
   "outputs": [
    {
     "name": "stdout",
     "output_type": "stream",
     "text": [
      "Model: \"sequential_5\"\n",
      "_________________________________________________________________\n",
      " Layer (type)                Output Shape              Param #   \n",
      "=================================================================\n",
      " embedding_5 (Embedding)     (None, 500, 300)          3279300   \n",
      "                                                                 \n",
      " flatten_5 (Flatten)         (None, 150000)            0         \n",
      "                                                                 \n",
      " dense_10 (Dense)            (None, 20)                3000020   \n",
      "                                                                 \n",
      " dense_11 (Dense)            (None, 1)                 21        \n",
      "                                                                 \n",
      "=================================================================\n",
      "Total params: 6,279,341\n",
      "Trainable params: 6,279,341\n",
      "Non-trainable params: 0\n",
      "_________________________________________________________________\n"
     ]
    }
   ],
   "source": [
    "embedding_dim = 300\n",
    "\n",
    "model = Sequential()\n",
    "model.add(layers.Embedding(input_dim=vocab_size, \n",
    "                           output_dim=embedding_dim, \n",
    "                           input_length=maxlen))\n",
    "model.add(layers.Flatten())\n",
    "model.add(layers.Dense(20, activation='relu'))\n",
    "model.add(layers.Dense(1, activation='sigmoid'))\n",
    "model.compile(optimizer='adam',\n",
    "              loss='binary_crossentropy',\n",
    "              metrics=['accuracy'])\n",
    "model.summary()"
   ]
  },
  {
   "cell_type": "code",
   "execution_count": 39,
   "id": "02339968-2c6e-4626-a2f2-cddd0c180235",
   "metadata": {},
   "outputs": [
    {
     "name": "stdout",
     "output_type": "stream",
     "text": [
      "Training Accuracy: 0.9922\n",
      "Testing Accuracy:  0.5856\n"
     ]
    }
   ],
   "source": [
    "history = model.fit(X_train_2, y_train,\n",
    "                    epochs=15,\n",
    "                    verbose=False,\n",
    "                    validation_data=(X_test_2, y_test),\n",
    "                    batch_size=10)\n",
    "loss, accuracy = model.evaluate(X_train_2, y_train, verbose=False)\n",
    "print(\"Training Accuracy: {:.4f}\".format(accuracy))\n",
    "loss, accuracy = model.evaluate(X_test_2, y_test, verbose=False)\n",
    "print(\"Testing Accuracy:  {:.4f}\".format(accuracy))"
   ]
  },
  {
   "cell_type": "markdown",
   "id": "f4f013b2-58d2-49dd-a8f8-36e7e38353ee",
   "metadata": {},
   "source": [
    "#### Hyperparameter Tuning"
   ]
  },
  {
   "cell_type": "code",
   "execution_count": null,
   "id": "582e9555-750f-4f84-974c-720b4f586d31",
   "metadata": {},
   "outputs": [],
   "source": []
  },
  {
   "cell_type": "code",
   "execution_count": null,
   "id": "00f39054-8887-4f2f-8c60-59de3671339e",
   "metadata": {},
   "outputs": [],
   "source": []
  },
  {
   "cell_type": "code",
   "execution_count": null,
   "id": "67765020-2e92-4a47-a92e-ea4eb95a3d4b",
   "metadata": {},
   "outputs": [],
   "source": []
  },
  {
   "cell_type": "markdown",
   "id": "654db1e0-0f5e-400a-b2e4-385eb71c868c",
   "metadata": {},
   "source": [
    "#### Model 4"
   ]
  },
  {
   "cell_type": "code",
   "execution_count": null,
   "id": "1675f9d5-42d9-4359-8616-a8351a0b0d1a",
   "metadata": {},
   "outputs": [],
   "source": []
  },
  {
   "cell_type": "markdown",
   "id": "cf7d13b4",
   "metadata": {},
   "source": [
    "### Bert Model"
   ]
  },
  {
   "cell_type": "code",
   "execution_count": 1,
   "id": "7fce4dce",
   "metadata": {},
   "outputs": [],
   "source": [
    "from transformers import BertTokenizer, BertModel\n",
    "import torch"
   ]
  }
 ],
 "metadata": {
  "kernelspec": {
   "display_name": "Python 3 (ipykernel)",
   "language": "python",
   "name": "python3"
  },
  "language_info": {
   "codemirror_mode": {
    "name": "ipython",
    "version": 3
   },
   "file_extension": ".py",
   "mimetype": "text/x-python",
   "name": "python",
   "nbconvert_exporter": "python",
   "pygments_lexer": "ipython3",
   "version": "3.9.15"
  }
 },
 "nbformat": 4,
 "nbformat_minor": 5
}
